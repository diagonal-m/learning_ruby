{
 "cells": [
  {
   "cell_type": "markdown",
   "metadata": {},
   "source": [
    "## 目次\n",
    "- 5.2. [ハッシュ](#anchor1)  \n",
    "- 5.3. [シンボル](#anchor2)  \n",
    "- 5.4. [続・ハッシュについて](#anchor3)  \n",
    "- 5.5. [例題: 長さの単位変換プログラムを作成する](#anchor4)  "
   ]
  },
  {
   "cell_type": "markdown",
   "metadata": {},
   "source": [
    "<h1><a id='anchor1'>5.2 ハッシュ</a></h1>\n",
    "ハッシュはキーと値の組み合わせでデータを管理するオブジェクトのこと。他の言語では連想配列やディクショナリ(辞書)、マップと呼ばれたりする。"
   ]
  },
  {
   "cell_type": "code",
   "execution_count": 1,
   "metadata": {},
   "outputs": [
    {
     "data": {
      "text/plain": [
       "Hash"
      ]
     },
     "execution_count": 1,
     "metadata": {},
     "output_type": "execute_result"
    }
   ],
   "source": [
    "# 空のハッシュを作成し、そのクラス名を確認する\n",
    "{}.class"
   ]
  },
  {
   "cell_type": "code",
   "execution_count": 2,
   "metadata": {},
   "outputs": [
    {
     "data": {
      "text/plain": [
       "{\"japan\"=>\"yen\", \"us\"=>\"dollar\", \"india\"=>\"ruppe\"}"
      ]
     },
     "execution_count": 2,
     "metadata": {},
     "output_type": "execute_result"
    }
   ],
   "source": [
    "{\n",
    "  'japan' => 'yen',\n",
    "  'us' => 'dollar',\n",
    "  'india' => 'ruppe'\n",
    "  }"
   ]
  },
  {
   "cell_type": "markdown",
   "metadata": {},
   "source": [
    "### 5.2.1 要素の追加、変更、取得"
   ]
  },
  {
   "cell_type": "code",
   "execution_count": 3,
   "metadata": {},
   "outputs": [
    {
     "name": "stdout",
     "output_type": "stream",
     "text": [
      "{\"japan\"=>\"yen\", \"us\"=>\"dollar\", \"india\"=>\"ruppe\", \"italy\"=>\"euro\"}\n"
     ]
    }
   ],
   "source": [
    "currencies = {'japan' => 'yen', 'us' => 'dollar', 'india' => 'ruppe'}\n",
    "# イタリアの通貨を追加する\n",
    "currencies['italy'] = 'euro'\n",
    "\n",
    "puts currencies"
   ]
  },
  {
   "cell_type": "code",
   "execution_count": 6,
   "metadata": {},
   "outputs": [
    {
     "name": "stdout",
     "output_type": "stream",
     "text": [
      "ruppe\n"
     ]
    }
   ],
   "source": [
    "puts currencies['india']"
   ]
  },
  {
   "cell_type": "code",
   "execution_count": 9,
   "metadata": {},
   "outputs": [
    {
     "name": "stdout",
     "output_type": "stream",
     "text": [
      "nil\n"
     ]
    }
   ],
   "source": [
    "p currencies['brazil']"
   ]
  },
  {
   "cell_type": "markdown",
   "metadata": {},
   "source": [
    "### 5.2.2 ハッシュを使った繰り返し処理"
   ]
  },
  {
   "cell_type": "code",
   "execution_count": 10,
   "metadata": {},
   "outputs": [
    {
     "name": "stdout",
     "output_type": "stream",
     "text": [
      "japan: yen\n",
      "us: dollar\n",
      "india: ruppe\n"
     ]
    },
    {
     "data": {
      "text/plain": [
       "{\"japan\"=>\"yen\", \"us\"=>\"dollar\", \"india\"=>\"ruppe\"}"
      ]
     },
     "execution_count": 10,
     "metadata": {},
     "output_type": "execute_result"
    }
   ],
   "source": [
    "currencies = {'japan' => 'yen', 'us' => 'dollar', 'india' => 'ruppe'}\n",
    "currencies.each do | key, value |\n",
    "  puts \"#{key}: #{value}\"\n",
    "end"
   ]
  },
  {
   "cell_type": "code",
   "execution_count": 12,
   "metadata": {},
   "outputs": [
    {
     "name": "stdout",
     "output_type": "stream",
     "text": [
      "japan: yen\n",
      "us: dollar\n",
      "india: ruppe\n"
     ]
    },
    {
     "data": {
      "text/plain": [
       "{\"japan\"=>\"yen\", \"us\"=>\"dollar\", \"india\"=>\"ruppe\"}"
      ]
     },
     "execution_count": 12,
     "metadata": {},
     "output_type": "execute_result"
    }
   ],
   "source": [
    "currencies = {'japan' => 'yen', 'us' => 'dollar', 'india' => 'ruppe'}\n",
    "currencies.each do | key_value |\n",
    "  key = key_value[0]\n",
    "  value = key_value[1]\n",
    "  puts \"#{key}: #{value}\"\n",
    "end"
   ]
  },
  {
   "cell_type": "markdown",
   "metadata": {},
   "source": [
    "### 5.2.3 ハッシュの同値比較、要素数の取得、要素の削除"
   ]
  },
  {
   "cell_type": "code",
   "execution_count": 13,
   "metadata": {},
   "outputs": [
    {
     "name": "stdout",
     "output_type": "stream",
     "text": [
      "true\n"
     ]
    }
   ],
   "source": [
    "a = {'x' => 1, 'y'=> 2, 'z'=> 3}\n",
    "b = {'x' => 1, 'y'=> 2, 'z'=> 3}\n",
    "puts a == b"
   ]
  },
  {
   "cell_type": "code",
   "execution_count": 14,
   "metadata": {},
   "outputs": [
    {
     "name": "stdout",
     "output_type": "stream",
     "text": [
      "true\n"
     ]
    }
   ],
   "source": [
    "# 並び順が異なっていてもキーと値がすべて同じならtrue\n",
    "c = {'z' => 3, 'y' => 2, 'x' => 1}\n",
    "puts a == c"
   ]
  },
  {
   "cell_type": "code",
   "execution_count": 15,
   "metadata": {},
   "outputs": [
    {
     "name": "stdout",
     "output_type": "stream",
     "text": [
      "false\n"
     ]
    }
   ],
   "source": [
    "# キー'x'の値が異なるのでfalse\n",
    "d = {'x' => 10, 'y' => 2, 'z' => 3}\n",
    "puts a == d"
   ]
  },
  {
   "cell_type": "code",
   "execution_count": 19,
   "metadata": {},
   "outputs": [
    {
     "data": {
      "text/plain": [
       "0"
      ]
     },
     "execution_count": 19,
     "metadata": {},
     "output_type": "execute_result"
    }
   ],
   "source": [
    "{}.size"
   ]
  },
  {
   "cell_type": "code",
   "execution_count": 22,
   "metadata": {},
   "outputs": [
    {
     "data": {
      "text/plain": [
       "3"
      ]
     },
     "execution_count": 22,
     "metadata": {},
     "output_type": "execute_result"
    }
   ],
   "source": [
    "{'x' => 10, 'y' => 2, 'z' => 3}.size"
   ]
  },
  {
   "cell_type": "code",
   "execution_count": 23,
   "metadata": {},
   "outputs": [
    {
     "data": {
      "text/plain": [
       "3"
      ]
     },
     "execution_count": 23,
     "metadata": {},
     "output_type": "execute_result"
    }
   ],
   "source": [
    "a = {'x' => 10, 'y' => 2, 'z' => 3}.size"
   ]
  },
  {
   "cell_type": "code",
   "execution_count": 25,
   "metadata": {},
   "outputs": [
    {
     "data": {
      "text/plain": [
       "{\"us\"=>\"dollar\", \"india\"=>\"ruppe\"}"
      ]
     },
     "execution_count": 25,
     "metadata": {},
     "output_type": "execute_result"
    }
   ],
   "source": [
    "currencies = {'japan' => 'yen', 'us' => 'dollar', 'india' => 'ruppe'}\n",
    "currencies.delete('japan')\n",
    "currencies"
   ]
  },
  {
   "cell_type": "code",
   "execution_count": 26,
   "metadata": {},
   "outputs": [
    {
     "name": "stdout",
     "output_type": "stream",
     "text": [
      "nil\n"
     ]
    }
   ],
   "source": [
    "currencies = {'japan' => 'yen', 'us' => 'dollar', 'india' => 'ruppe'}\n",
    "p currencies.delete('italy')"
   ]
  },
  {
   "cell_type": "code",
   "execution_count": 27,
   "metadata": {},
   "outputs": [
    {
     "data": {
      "text/plain": [
       "\"Not found: italy\""
      ]
     },
     "execution_count": 27,
     "metadata": {},
     "output_type": "execute_result"
    }
   ],
   "source": [
    "# ブロックを渡すとキーが見つからないときの戻り値を生成できる\n",
    "currencies.delete('italy') { | key | \"Not found: #{key}\"}"
   ]
  },
  {
   "cell_type": "markdown",
   "metadata": {},
   "source": [
    "<h1><a id='anchor2'>5.3 シンボル</a></h1>"
   ]
  },
  {
   "cell_type": "markdown",
   "metadata": {},
   "source": [
    "### 5.3.1 シンボルと文字列の違い"
   ]
  },
  {
   "cell_type": "code",
   "execution_count": 2,
   "metadata": {},
   "outputs": [
    {
     "name": "stdout",
     "output_type": "stream",
     "text": [
      "Symbol\n",
      "String\n"
     ]
    }
   ],
   "source": [
    "puts :apple.class\n",
    "puts 'apple'.class"
   ]
  },
  {
   "cell_type": "code",
   "execution_count": 3,
   "metadata": {},
   "outputs": [
    {
     "name": "stdout",
     "output_type": "stream",
     "text": [
      "2296988\n",
      "2296988\n",
      "2296988\n"
     ]
    }
   ],
   "source": [
    "puts :apple.object_id\n",
    "puts :apple.object_id\n",
    "puts :apple.object_id"
   ]
  },
  {
   "cell_type": "code",
   "execution_count": 4,
   "metadata": {},
   "outputs": [
    {
     "name": "stdout",
     "output_type": "stream",
     "text": [
      "47388577838740\n",
      "47388577821100\n",
      "47388577803560\n"
     ]
    }
   ],
   "source": [
    "puts 'apple'.object_id\n",
    "puts 'apple'.object_id\n",
    "puts 'apple'.object_id"
   ]
  },
  {
   "cell_type": "markdown",
   "metadata": {},
   "source": [
    "<h1><a id='anchor3'>5.4 続・ハッシュについて</a></h1>"
   ]
  },
  {
   "cell_type": "code",
   "execution_count": 5,
   "metadata": {},
   "outputs": [
    {
     "name": "stdout",
     "output_type": "stream",
     "text": [
      "yen\n"
     ]
    }
   ],
   "source": [
    "currencies = {:japan => 'yen', :us => 'dollar', :india => 'ruppe'}\n",
    "puts currencies[:japan]"
   ]
  },
  {
   "cell_type": "code",
   "execution_count": 6,
   "metadata": {},
   "outputs": [
    {
     "data": {
      "text/plain": [
       "\"dollar\""
      ]
     },
     "execution_count": 6,
     "metadata": {},
     "output_type": "execute_result"
    }
   ],
   "source": [
    "currencies = {japan: 'yen', us: 'dollar', india: 'ruppe'}\n",
    "currencies[:us]"
   ]
  },
  {
   "cell_type": "markdown",
   "metadata": {},
   "source": [
    "<h1><a id='anchor4'>5.5 例題: 長さの単位変換プログラムを作成する</a></h1>"
   ]
  },
  {
   "cell_type": "markdown",
   "metadata": {},
   "source": [
    "<h1><a id='anchor5'>5.6 ハッシュについてもっと詳しく</a></h1>"
   ]
  },
  {
   "cell_type": "code",
   "execution_count": 9,
   "metadata": {},
   "outputs": [
    {
     "name": "stdout",
     "output_type": "stream",
     "text": [
      "[:japan, :us, :india]\n"
     ]
    }
   ],
   "source": [
    "# keysメソッドはハッシュのキーを配列として返す\n",
    "currencies = {japan: \"yen\", us: \"dollar\", india: \"ruppe\"}\n",
    "puts currencies.keys"
   ]
  },
  {
   "cell_type": "code",
   "execution_count": 10,
   "metadata": {},
   "outputs": [
    {
     "name": "stdout",
     "output_type": "stream",
     "text": [
      "[\"yen\", \"dollar\", \"ruppe\"]\n"
     ]
    }
   ],
   "source": [
    "# valuesメソッドはハッシュの値を配列として返す\n",
    "currencies = {japan: \"yen\", us: \"dollar\", india: \"ruppe\"}\n",
    "puts currencies.values"
   ]
  },
  {
   "cell_type": "code",
   "execution_count": 11,
   "metadata": {},
   "outputs": [
    {
     "name": "stdout",
     "output_type": "stream",
     "text": [
      "true\n",
      "false\n"
     ]
    }
   ],
   "source": [
    "# has_key?/key?/include?/member?\n",
    "currencies = {japan: \"yen\", us: \"dollar\", india: \"ruppe\"}\n",
    "puts currencies.has_key?(:japan)\n",
    "puts currencies.has_key?(:italy)"
   ]
  },
  {
   "cell_type": "markdown",
   "metadata": {},
   "source": [
    "### 5.6.2 **でハッシュを展開させる"
   ]
  },
  {
   "cell_type": "code",
   "execution_count": 13,
   "metadata": {},
   "outputs": [
    {
     "data": {
      "text/plain": [
       "{:japan=>\"yen\", :us=>\"dollar\", :india=>\"rupee\"}"
      ]
     },
     "execution_count": 13,
     "metadata": {},
     "output_type": "execute_result"
    }
   ],
   "source": [
    "h = {us: 'dollar', india: 'rupee'}\n",
    "# 変数hのキーと値を**で展開させる\n",
    "{japan: 'yen', **h}"
   ]
  },
  {
   "cell_type": "markdown",
   "metadata": {},
   "source": [
    "### 5.6.8 ハッシュの初期値を理解する"
   ]
  },
  {
   "cell_type": "code",
   "execution_count": 14,
   "metadata": {},
   "outputs": [
    {
     "name": "stdout",
     "output_type": "stream",
     "text": [
      "nil\n"
     ]
    }
   ],
   "source": [
    "h = {}\n",
    "p h[:foo]"
   ]
  },
  {
   "cell_type": "code",
   "execution_count": 15,
   "metadata": {},
   "outputs": [
    {
     "name": "stdout",
     "output_type": "stream",
     "text": [
      "hello\n"
     ]
    }
   ],
   "source": [
    "# キーがなければ'hello'を返す\n",
    "h = Hash.new('hello')\n",
    "puts h[:foo]"
   ]
  },
  {
   "cell_type": "code",
   "execution_count": 16,
   "metadata": {},
   "outputs": [
    {
     "data": {
      "text/plain": [
       "\"hello\""
      ]
     },
     "execution_count": 16,
     "metadata": {},
     "output_type": "execute_result"
    }
   ],
   "source": [
    "h = Hash.new {'hello'}\n",
    "a = h[:foo]\n",
    "b = h[:bar]"
   ]
  },
  {
   "cell_type": "code",
   "execution_count": null,
   "metadata": {},
   "outputs": [],
   "source": []
  }
 ],
 "metadata": {
  "kernelspec": {
   "display_name": "Ruby 2.5.5",
   "language": "ruby",
   "name": "ruby"
  },
  "language_info": {
   "file_extension": ".rb",
   "mimetype": "application/x-ruby",
   "name": "ruby",
   "version": "2.5.5"
  }
 },
 "nbformat": 4,
 "nbformat_minor": 2
}
