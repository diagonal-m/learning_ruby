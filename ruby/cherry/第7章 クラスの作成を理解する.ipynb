{
 "cells": [
  {
   "cell_type": "markdown",
   "metadata": {},
   "source": [
    "## 目次\n",
    "- 7.2. [オブジェクト指向プログラミングの基礎知識](#anchor1)  \n",
    "- 7.3. [クラスの定義](#anchor2)  \n",
    "- 7.4. [例題: 改札機プログラムの作成](#anchor3)  \n",
    "- 7.5. [selfキーワード](#anchor4)  \n",
    "- 7.6. [クラスの継承](#anchor5)  \n",
    "- 7.7. [メソッドの公開レベル](#anchor6)  \n",
    "- 7.8. [定数についてもっと詳しく](#anchor7)  \n",
    "- 7.9. [さまざまな種類の変数](#anchor8)  \n",
    "- 7.10. [クラス定義やRubyの言語仕様に関する高度な話題](#anchor9)  "
   ]
  },
  {
   "cell_type": "markdown",
   "metadata": {},
   "source": [
    "<h1><a id='anchor1'>7.2 オブジェクト指向プログラミングの基礎知識</a></h1>"
   ]
  },
  {
   "cell_type": "code",
   "execution_count": 3,
   "metadata": {},
   "outputs": [
    {
     "name": "stdout",
     "output_type": "stream",
     "text": [
      "氏名: Alice Ruby, 年齢: 20\n",
      "氏名: Bob Python, 年齢: 30\n"
     ]
    },
    {
     "data": {
      "text/plain": [
       "[{:first_name=>\"Alice\", :last_name=>\"Ruby\", :age=>20}, {:first_name=>\"Bob\", :last_name=>\"Python\", :age=>30}]"
      ]
     },
     "execution_count": 3,
     "metadata": {},
     "output_type": "execute_result"
    }
   ],
   "source": [
    "# ユーザーのデータを作成する\n",
    "users = []\n",
    "users << {first_name: 'Alice', last_name: 'Ruby', age: 20}\n",
    "users << {first_name: 'Bob', last_name: 'Python', age: 30}\n",
    "\n",
    "# ユーザーのデータを表示する\n",
    "users.each do | user |\n",
    "  puts \"氏名: #{user[:first_name]} #{user[:last_name]}, 年齢: #{user[:age]}\"\n",
    "end"
   ]
  },
  {
   "cell_type": "code",
   "execution_count": 4,
   "metadata": {},
   "outputs": [
    {
     "name": "stdout",
     "output_type": "stream",
     "text": [
      "氏名Alice Ruby, 年齢: 20\n",
      "氏名Bob Python, 年齢: 30\n"
     ]
    },
    {
     "data": {
      "text/plain": [
       "[{:first_name=>\"Alice\", :last_name=>\"Ruby\", :age=>20}, {:first_name=>\"Bob\", :last_name=>\"Python\", :age=>30}]"
      ]
     },
     "execution_count": 4,
     "metadata": {},
     "output_type": "execute_result"
    }
   ],
   "source": [
    "# ユーザーのデータを作成する\n",
    "users = []\n",
    "users << {first_name: 'Alice', last_name: 'Ruby', age: 20}\n",
    "users << {first_name: 'Bob', last_name: 'Python', age: 30}\n",
    "\n",
    "# 氏名を作成するメソッド\n",
    "def full_name(user)\n",
    "  \"#{user[:first_name]} #{user[:last_name]}\"\n",
    "end\n",
    "\n",
    "# ユーザーのデータを表示する\n",
    "users.each do | user |\n",
    "  puts \"氏名#{full_name(user)}, 年齢: #{user[:age]}\"\n",
    "end"
   ]
  },
  {
   "cell_type": "code",
   "execution_count": 7,
   "metadata": {},
   "outputs": [
    {
     "name": "stdout",
     "output_type": "stream",
     "text": [
      "Alice\n",
      "nil\n"
     ]
    }
   ],
   "source": [
    "puts users[0][:first_name]\n",
    "# ハッシュだとタイプミスしてもnilが返るだけなので不具合に気づきにくい\n",
    "p users[0][:first_mame]"
   ]
  },
  {
   "cell_type": "code",
   "execution_count": 24,
   "metadata": {},
   "outputs": [
    {
     "name": "stdout",
     "output_type": "stream",
     "text": [
      "氏名Alice Ruby, 年齢: 20\n",
      "氏名Bob Python, 年齢: 30\n"
     ]
    },
    {
     "data": {
      "text/plain": [
       "[#<User:0x00005556493f7ec0 @first_name=\"Alice\", @last_name=\"Ruby\", @age=20>, #<User:0x00005556493f7d30 @first_name=\"Bob\", @last_name=\"Python\", @age=30>]"
      ]
     },
     "execution_count": 24,
     "metadata": {},
     "output_type": "execute_result"
    }
   ],
   "source": [
    "# Userクラスを定義する\n",
    "class User\n",
    "  attr_reader :first_name, :last_name, :age\n",
    "  \n",
    "  def initialize(first_name, last_name, age)\n",
    "    @first_name = first_name\n",
    "    @last_name = last_name\n",
    "    @age = age\n",
    "  end\n",
    "  \n",
    "end\n",
    "\n",
    "# ユーザーのデータを作成する\n",
    "users = []\n",
    "users << User.new('Alice', 'Ruby', 20)\n",
    "users << User.new('Bob', 'Python', 30)\n",
    "\n",
    "# 氏名を作成するメソッド\n",
    "def full_name(user)\n",
    "  \"#{user.first_name} #{user.last_name}\"\n",
    "end\n",
    "\n",
    "# ユーザーのデータを表示する\n",
    "users.each do | user |\n",
    "  puts \"氏名#{full_name(user)}, 年齢: #{user.age}\"\n",
    "end"
   ]
  },
  {
   "cell_type": "code",
   "execution_count": 29,
   "metadata": {},
   "outputs": [
    {
     "name": "stdout",
     "output_type": "stream",
     "text": [
      "氏名Alice Ruby, 年齢: 20\n",
      "氏名Bob Python, 年齢: 30\n"
     ]
    },
    {
     "data": {
      "text/plain": [
       "[#<User:0x00005556495d7560 @first_name=\"Alice\", @last_name=\"Ruby\", @age=20>, #<User:0x00005556495d7448 @first_name=\"Bob\", @last_name=\"Python\", @age=30>]"
      ]
     },
     "execution_count": 29,
     "metadata": {},
     "output_type": "execute_result"
    }
   ],
   "source": [
    "# Userクラスを定義する\n",
    "class User\n",
    "  attr_reader :first_name, :last_name, :age\n",
    "  \n",
    "  def initialize(first_name, last_name, age)\n",
    "    @first_name = first_name\n",
    "    @last_name = last_name\n",
    "    @age = age\n",
    "  end\n",
    "  \n",
    "  # 氏名を作成するメソッド\n",
    "  def full_name\n",
    "    \"#{first_name} #{last_name}\"\n",
    "  end\n",
    "  \n",
    "end\n",
    "\n",
    "# ユーザーのデータを作成する\n",
    "users = []\n",
    "users << User.new('Alice', 'Ruby', 20)\n",
    "users << User.new('Bob', 'Python', 30)\n",
    "\n",
    "# ユーザーのデータを表示する\n",
    "users.each do | user |\n",
    "  puts \"氏名#{user.full_name}, 年齢: #{user.age}\"\n",
    "end"
   ]
  },
  {
   "cell_type": "markdown",
   "metadata": {},
   "source": [
    "<h1><a id='anchor2'>7.3 クラスの定義</a></h1>"
   ]
  },
  {
   "cell_type": "markdown",
   "metadata": {},
   "source": [
    "### 7.3.1 オブジェクトの作成とinitializeメソッド"
   ]
  },
  {
   "cell_type": "code",
   "execution_count": 30,
   "metadata": {},
   "outputs": [
    {
     "name": "stdout",
     "output_type": "stream",
     "text": [
      "Initialized. \n"
     ]
    },
    {
     "data": {
      "text/plain": [
       "#<User:0x000055564956d7c8>"
      ]
     },
     "execution_count": 30,
     "metadata": {},
     "output_type": "execute_result"
    }
   ],
   "source": [
    "class User\n",
    "  def initialize\n",
    "    puts 'Initialized. '\n",
    "  end\n",
    "end\n",
    "\n",
    "User.new"
   ]
  },
  {
   "cell_type": "code",
   "execution_count": 32,
   "metadata": {},
   "outputs": [
    {
     "name": "stdout",
     "output_type": "stream",
     "text": [
      "name: Alice, age: 20\n"
     ]
    },
    {
     "data": {
      "text/plain": [
       "#<User:0x00005556494b99d0>"
      ]
     },
     "execution_count": 32,
     "metadata": {},
     "output_type": "execute_result"
    }
   ],
   "source": [
    "class User\n",
    "  def initialize(name, age)\n",
    "    puts \"name: #{name}, age: #{age}\"\n",
    "  end\n",
    "end\n",
    "\n",
    "User.new('Alice', 20)"
   ]
  },
  {
   "cell_type": "markdown",
   "metadata": {},
   "source": [
    "### 7.3.2 インスタンスメソッドの定義"
   ]
  },
  {
   "cell_type": "code",
   "execution_count": 2,
   "metadata": {},
   "outputs": [
    {
     "data": {
      "text/plain": [
       "\"Hello!\""
      ]
     },
     "execution_count": 2,
     "metadata": {},
     "output_type": "execute_result"
    }
   ],
   "source": [
    "class User\n",
    "  # インスタンスメソッドの定義\n",
    "  def hello\n",
    "    \"Hello!\"\n",
    "  end\n",
    "end\n",
    "\n",
    "user = User.new()\n",
    "user.hello"
   ]
  },
  {
   "cell_type": "markdown",
   "metadata": {},
   "source": [
    "### 7.3.3 インスタンス変数とアクセサメソッド"
   ]
  },
  {
   "cell_type": "code",
   "execution_count": 3,
   "metadata": {},
   "outputs": [
    {
     "data": {
      "text/plain": [
       "\"Hello, I am Alice.\""
      ]
     },
     "execution_count": 3,
     "metadata": {},
     "output_type": "execute_result"
    }
   ],
   "source": [
    "class User\n",
    "  def initialize(name)\n",
    "    @name = name\n",
    "  end\n",
    "  \n",
    "  def hello\n",
    "    # インスタンス変数に保存されている名前を表示する\n",
    "    \"Hello, I am #{@name}.\"\n",
    "  end\n",
    "end\n",
    "\n",
    "user = User.new('Alice')\n",
    "user.hello"
   ]
  },
  {
   "cell_type": "code",
   "execution_count": 10,
   "metadata": {},
   "outputs": [
    {
     "name": "stdout",
     "output_type": "stream",
     "text": [
      "Alice\n"
     ]
    }
   ],
   "source": [
    "# インスタンス変数はクラスの外部から参照することができない\n",
    "class User\n",
    "  def initialize(name)\n",
    "    @name = name\n",
    "  end\n",
    "  \n",
    "  # @nameを外部から参照するためのメソッド\n",
    "  def name\n",
    "    @name\n",
    "  end\n",
    "end\n",
    "\n",
    "user = User.new('Alice')\n",
    "puts user.name"
   ]
  },
  {
   "cell_type": "markdown",
   "metadata": {},
   "source": [
    "インスタンス変数の内容を外部から変更したい場合も変更用のメソッドを定義する。  \n",
    "Rubyは=で終わるメソッドを定義すると、変数に代入するような形式でそのメソッドを呼び出すことができる。"
   ]
  },
  {
   "cell_type": "code",
   "execution_count": 11,
   "metadata": {},
   "outputs": [
    {
     "data": {
      "text/plain": [
       ":name="
      ]
     },
     "execution_count": 11,
     "metadata": {},
     "output_type": "execute_result"
    }
   ],
   "source": [
    "class User\n",
    "  def initialize(name)\n",
    "    @name = name\n",
    "  end\n",
    "  \n",
    " # @nameを外部から参照するためのメソッド\n",
    "  def name\n",
    "    @name\n",
    "  end\n",
    "  \n",
    "  # @nameを外部から変更するためのメソッド\n",
    "  def name=(value)\n",
    "    @name = value\n",
    "  end\n",
    "  \n",
    "end"
   ]
  },
  {
   "cell_type": "code",
   "execution_count": 15,
   "metadata": {},
   "outputs": [
    {
     "name": "stdout",
     "output_type": "stream",
     "text": [
      "Bob\n",
      "Alice\n"
     ]
    }
   ],
   "source": [
    "user = User.new('Bob')\n",
    "puts user.name\n",
    "# 変数に代入しているように見えるが、実際はname=メソッドを呼び出している\n",
    "user.name = 'Alice'\n",
    "puts user.name"
   ]
  },
  {
   "cell_type": "code",
   "execution_count": 20,
   "metadata": {},
   "outputs": [
    {
     "name": "stdout",
     "output_type": "stream",
     "text": [
      "Bob\n"
     ]
    }
   ],
   "source": [
    "class User\n",
    "  # @nameを読み書きするメソッドが自動的に定義される\n",
    "  attr_accessor :name\n",
    "  \n",
    "  def initialize(name)\n",
    "    @name = name\n",
    "  end\n",
    "  \n",
    "end\n",
    "\n",
    "user = User.new('Alice')\n",
    "user.name = 'Bob'\n",
    "# @nameを参照する\n",
    "puts user.name"
   ]
  },
  {
   "cell_type": "code",
   "execution_count": 2,
   "metadata": {},
   "outputs": [
    {
     "name": "stdout",
     "output_type": "stream",
     "text": [
      "Alice\n",
      "Alice\n"
     ]
    }
   ],
   "source": [
    "class User\n",
    "  # 読み取り用のメソッドだけを自動的に定義する\n",
    "  attr_reader :name\n",
    "  \n",
    "  def initialize(name)\n",
    "    @name = name\n",
    "  end\n",
    "  \n",
    "end\n",
    "\n",
    "user = User.new('Alice')\n",
    "# @nameの参照はできる\n",
    "puts user.name\n",
    "# 変更しようとするとエラーになる\n",
    "# user.name = 'Bob'\n",
    "# @nameを参照する\n",
    "puts user.name"
   ]
  },
  {
   "cell_type": "code",
   "execution_count": 2,
   "metadata": {},
   "outputs": [
    {
     "data": {
      "text/plain": [
       "\"Bob\""
      ]
     },
     "execution_count": 2,
     "metadata": {},
     "output_type": "execute_result"
    }
   ],
   "source": [
    "class User\n",
    "  # 書き込み用のメソッドだけを自動的に定義する\n",
    "  attr_writer :name\n",
    "  \n",
    "  def initialize(name)\n",
    "    @name = name\n",
    "  end\n",
    "end\n",
    "\n",
    "user = User.new('Alice')\n",
    "# @nameは変更できる\n",
    "user.name = 'Bob'\n",
    "\n",
    "# @nameの参照はできない\n",
    "# puts user.name"
   ]
  },
  {
   "cell_type": "code",
   "execution_count": 3,
   "metadata": {},
   "outputs": [
    {
     "name": "stdout",
     "output_type": "stream",
     "text": [
      "Alice\n",
      "20\n"
     ]
    }
   ],
   "source": [
    "class User\n",
    "  # @nameと@ageへのアクセサメソッドを定義する\n",
    "  attr_accessor :name, :age\n",
    "  \n",
    "  def initialize(name, age)\n",
    "    @name = name\n",
    "    @age = age\n",
    "  end\n",
    "end\n",
    "\n",
    "user = User.new('Alice', 20)\n",
    "puts user.name\n",
    "puts user.age"
   ]
  },
  {
   "cell_type": "markdown",
   "metadata": {},
   "source": [
    "### 7.3.4 クラスメソッドの定義"
   ]
  },
  {
   "cell_type": "code",
   "execution_count": 5,
   "metadata": {},
   "outputs": [
    {
     "name": "stdout",
     "output_type": "stream",
     "text": [
      "Hello, I am Alice\n",
      "Hello, I am Bob\n"
     ]
    }
   ],
   "source": [
    "class User\n",
    "  def initialize(name)\n",
    "    @name = name\n",
    "  end\n",
    "  \n",
    "  # これはインスタンスメソッド\n",
    "  def hello\n",
    "    # @nameの値はインスタンスによって異なる\n",
    "    \"Hello, I am #{@name}\"\n",
    "  end\n",
    "end\n",
    "\n",
    "alice = User.new('Alice')\n",
    "# インスタンスメソッドはインスタンス(オブジェクト)に対して呼び出す\n",
    "puts alice.hello\n",
    "\n",
    "bob = User.new('Bob')\n",
    "puts bob.hello"
   ]
  },
  {
   "cell_type": "code",
   "execution_count": 2,
   "metadata": {},
   "outputs": [
    {
     "name": "stdout",
     "output_type": "stream",
     "text": [
      "Hello, I am Alice\n",
      "Hello, I am Bob\n",
      "Hello, I am Carol\n"
     ]
    },
    {
     "data": {
      "text/plain": [
       "[#<User:0x000055c65bef57a0 @name=\"Alice\">, #<User:0x000055c65bef5778 @name=\"Bob\">, #<User:0x000055c65bef5750 @name=\"Carol\">]"
      ]
     },
     "execution_count": 2,
     "metadata": {},
     "output_type": "execute_result"
    }
   ],
   "source": [
    "class User\n",
    "  def initialize(name)\n",
    "    @name = name\n",
    "  end\n",
    "  \n",
    "  # self.を付けるとクラスメソッドになる\n",
    "  def self.create_users(names)\n",
    "    names.map do | name |\n",
    "      User.new(name)\n",
    "    end\n",
    "  end\n",
    "  \n",
    "  def hello\n",
    "    \"Hello, I am #{@name}\"\n",
    "  end\n",
    "end\n",
    "\n",
    "\n",
    "names = [\"Alice\", \"Bob\", \"Carol\"]\n",
    "# クラスメソッドの呼び出し\n",
    "users = User.create_users(names)\n",
    "users.each do | user |\n",
    "  # インスタンスメソッドの呼び出し\n",
    "  puts user.hello\n",
    "end"
   ]
  },
  {
   "cell_type": "markdown",
   "metadata": {},
   "source": [
    "### 7.3.5 定数"
   ]
  },
  {
   "cell_type": "code",
   "execution_count": 3,
   "metadata": {},
   "outputs": [
    {
     "data": {
      "text/plain": [
       "0"
      ]
     },
     "execution_count": 3,
     "metadata": {},
     "output_type": "execute_result"
    }
   ],
   "source": [
    "class Product\n",
    "  # デフォルトの価格を定数として定義する\n",
    "  DEFAULT_PRICE = 0\n",
    "  \n",
    "  attr_reader :name, :price\n",
    "  \n",
    "  def initialize(name, price = DEFAULT_PRICE)\n",
    "    @name = name\n",
    "    @price = price\n",
    "  end\n",
    "end\n",
    "\n",
    "product = Product.new('A free movie')\n",
    "product.price"
   ]
  },
  {
   "cell_type": "markdown",
   "metadata": {},
   "source": [
    "<h1><a id='anchor3'>7.4 例題: 改札機プログラムの作成</a></h1>"
   ]
  },
  {
   "cell_type": "markdown",
   "metadata": {},
   "source": [
    "<h1><a id='anchor4'>7.5 selfキーワード</a></h1>"
   ]
  },
  {
   "cell_type": "code",
   "execution_count": 4,
   "metadata": {},
   "outputs": [
    {
     "name": "stdout",
     "output_type": "stream",
     "text": [
      "Hello, I am Alice\n",
      "Hi, I am Alice\n",
      "My name is Alice\n"
     ]
    }
   ],
   "source": [
    "class User\n",
    "  attr_accessor :name\n",
    "  \n",
    "  def initialize(name)\n",
    "    @name = name\n",
    "  end\n",
    "  \n",
    "  def hello\n",
    "    # selfなしでnameメソッドを呼ぶ\n",
    "    \"Hello, I am #{name}\"\n",
    "  end\n",
    "  \n",
    "  def hi\n",
    "    # self付きでnameメソッドを呼ぶ\n",
    "    \"Hi, I am #{self.name}\"\n",
    "  end\n",
    "  \n",
    "  def my_name\n",
    "    # 直接インスタンス変数の@namenにアクセスする\n",
    "    \"My name is #{@name}\"\n",
    "  end\n",
    "end\n",
    "\n",
    "user = User.new('Alice')\n",
    "puts user.hello\n",
    "puts user.hi\n",
    "puts user.my_name"
   ]
  },
  {
   "cell_type": "markdown",
   "metadata": {},
   "source": [
    "### selfの付け忘れで不具合が発生するケース"
   ]
  },
  {
   "cell_type": "code",
   "execution_count": 6,
   "metadata": {},
   "outputs": [
    {
     "name": "stdout",
     "output_type": "stream",
     "text": [
      "Alice\n",
      "Carol\n",
      "Dave\n"
     ]
    }
   ],
   "source": [
    "class User\n",
    "  attr_accessor :name\n",
    "  \n",
    "  def initialize(name)\n",
    "    @name = name\n",
    "  end\n",
    "  \n",
    "  def rename_to_bob\n",
    "    # selfなしでname=メソッドを呼ぶ\n",
    "    name = 'Bob'\n",
    "  end\n",
    "  \n",
    "  def rename_to_carol\n",
    "    # self付きでname=メソッドを呼ぶ\n",
    "    self.name = 'Carol'\n",
    "  end\n",
    "  \n",
    "  def rename_to_dave\n",
    "    # 直接インスタンス変数を置き換える\n",
    "    @name = 'Dave'\n",
    "  end\n",
    "end\n",
    "\n",
    "user = User.new('Alice')\n",
    "\n",
    "user.rename_to_bob\n",
    "puts user.name\n",
    "\n",
    "user.rename_to_carol\n",
    "puts user.name\n",
    "\n",
    "user.rename_to_dave\n",
    "puts user.name"
   ]
  },
  {
   "cell_type": "markdown",
   "metadata": {},
   "source": [
    "### 7.5.2 クラスメソッドやクラス構文直下のself"
   ]
  },
  {
   "cell_type": "code",
   "execution_count": 7,
   "metadata": {},
   "outputs": [
    {
     "name": "stdout",
     "output_type": "stream",
     "text": [
      "クラス構文直下のself: Foo\n"
     ]
    },
    {
     "data": {
      "text/plain": [
       ":baz"
      ]
     },
     "execution_count": 7,
     "metadata": {},
     "output_type": "execute_result"
    }
   ],
   "source": [
    "class Foo\n",
    "  # 注: このputsはクラス定義の読み込み時に呼び出される\n",
    "  puts \"クラス構文直下のself: #{self}\"\n",
    "  \n",
    "  def self.bar\n",
    "    puts \"クラスメソッド内のself: #{self}\"\n",
    "  end\n",
    "  \n",
    "  def baz\n",
    "    puts \"インスタンスメソッド内のself: #{self}\"\n",
    "  end\n",
    "end"
   ]
  },
  {
   "cell_type": "code",
   "execution_count": 8,
   "metadata": {},
   "outputs": [
    {
     "name": "stdout",
     "output_type": "stream",
     "text": [
      "クラスメソッド内のself: Foo\n"
     ]
    }
   ],
   "source": [
    "Foo.bar"
   ]
  },
  {
   "cell_type": "code",
   "execution_count": 9,
   "metadata": {},
   "outputs": [
    {
     "name": "stdout",
     "output_type": "stream",
     "text": [
      "インスタンスメソッド内のself: #<Foo:0x000055c65bbc47c0>\n"
     ]
    }
   ],
   "source": [
    "foo = Foo.new\n",
    "foo.baz"
   ]
  },
  {
   "cell_type": "markdown",
   "metadata": {},
   "source": [
    "### 7.5.3 クラスメソッドをインスタンスメソッドで呼び出す"
   ]
  },
  {
   "cell_type": "code",
   "execution_count": 11,
   "metadata": {},
   "outputs": [
    {
     "data": {
      "text/plain": [
       "\"name: A great movie, price: 1000円\""
      ]
     },
     "execution_count": 11,
     "metadata": {},
     "output_type": "execute_result"
    }
   ],
   "source": [
    "class Product\n",
    "  attr_reader :name, :price\n",
    "  \n",
    "  def initialize(name, price)\n",
    "    @name = name\n",
    "    @price = price\n",
    "  end\n",
    "  \n",
    "  # 金額を整形するクラスメソッド\n",
    "  def self.format_price(price)\n",
    "    \"#{price}円\"\n",
    "  end\n",
    "  \n",
    "  def to_s\n",
    "    # インスタンスメソッドからクラスメソッドを呼び出す\n",
    "    formatted_price = Product.format_price(price)\n",
    "    \"name: #{name}, price: #{formatted_price}\"\n",
    "  end\n",
    "end\n",
    "\n",
    "product = Product.new('A great movie', 1000)\n",
    "product.to_s"
   ]
  },
  {
   "cell_type": "markdown",
   "metadata": {},
   "source": [
    "<h1><a id='anchor5'>7.6 クラスの継承</a></h1>"
   ]
  },
  {
   "cell_type": "markdown",
   "metadata": {},
   "source": [
    "### 7.6.5 superでスーパークラスのメソッドを呼び出す"
   ]
  },
  {
   "cell_type": "code",
   "execution_count": 1,
   "metadata": {},
   "outputs": [
    {
     "name": "stdout",
     "output_type": "stream",
     "text": [
      "A great movie\n",
      "1000\n"
     ]
    }
   ],
   "source": [
    "class Product\n",
    "  attr_reader :name, :price\n",
    "  \n",
    "  def initialize(name, price)\n",
    "    @name = name\n",
    "    @price = price\n",
    "  end\n",
    "end\n",
    "\n",
    "product = Product.new('A great movie', 1000)\n",
    "puts product.name\n",
    "puts product.price"
   ]
  },
  {
   "cell_type": "code",
   "execution_count": 2,
   "metadata": {},
   "outputs": [
    {
     "name": "stdout",
     "output_type": "stream",
     "text": [
      "A great movie\n",
      "1000\n",
      "120\n"
     ]
    }
   ],
   "source": [
    "class DVD < Product\n",
    "  # nameとpriceはスーパークラスでattr_readerが設定されているので定義不要\n",
    "  attr_reader :running_time\n",
    "  \n",
    "  def initialize(name, price, running_time)\n",
    "    @name = name\n",
    "    @price = price\n",
    "    @running_time = running_time\n",
    "  end\n",
    "end\n",
    "\n",
    "dvd = DVD.new('A great movie', 1000, 120)\n",
    "puts dvd.name\n",
    "puts dvd.price\n",
    "puts dvd.running_time"
   ]
  },
  {
   "cell_type": "code",
   "execution_count": 2,
   "metadata": {},
   "outputs": [
    {
     "name": "stdout",
     "output_type": "stream",
     "text": [
      "A great movie\n",
      "1000\n",
      "120\n"
     ]
    }
   ],
   "source": [
    "class DVD < Product\n",
    "  attr_reader :running_time\n",
    "  \n",
    "  def initialize(name, price, running_time)\n",
    "    # スーパークラスのinitializeメソッドを呼び出す\n",
    "    super(name, price)\n",
    "    @running_time = running_time\n",
    "  end\n",
    "end\n",
    "\n",
    "dvd = DVD.new('A great movie', 1000, 120)\n",
    "puts dvd.name\n",
    "puts dvd.price\n",
    "puts dvd.running_time"
   ]
  },
  {
   "cell_type": "markdown",
   "metadata": {},
   "source": [
    "### 7.6.6 メソッドのオーバーライド"
   ]
  },
  {
   "cell_type": "code",
   "execution_count": 7,
   "metadata": {},
   "outputs": [
    {
     "name": "stdout",
     "output_type": "stream",
     "text": [
      "name: A great movie, price: 1000\n",
      "name: An awesome film, price: 3000, running_time: 120\n"
     ]
    }
   ],
   "source": [
    "class Product\n",
    "  attr_reader :name, :price\n",
    "  \n",
    "  def initialize(name, price)\n",
    "    @name = name\n",
    "    @price = price\n",
    "  end\n",
    "  \n",
    "  def to_s\n",
    "    \"name: #{@name}, price: #{price}\"\n",
    "  end\n",
    "end\n",
    "\n",
    "class DVD < Product\n",
    "  attr_reader :running_time\n",
    "  \n",
    "  def initialize(name, price, running_time)\n",
    "    super(name, price)\n",
    "    @running_time = running_time\n",
    "  end\n",
    "  \n",
    "  def to_s\n",
    "    \"name: #{@name}, price: #{price}, running_time: #{running_time}\"\n",
    "  end\n",
    "end\n",
    "\n",
    "product = Product.new('A great movie', 1000)\n",
    "puts product.to_s\n",
    "\n",
    "dvd = DVD.new('An awesome film', 3000, 120)\n",
    "puts dvd.to_s"
   ]
  },
  {
   "cell_type": "markdown",
   "metadata": {},
   "source": [
    "### 7.6.7 クラスメソッドの継承"
   ]
  },
  {
   "cell_type": "code",
   "execution_count": 8,
   "metadata": {},
   "outputs": [
    {
     "name": "stdout",
     "output_type": "stream",
     "text": [
      "hello\n",
      "hello\n"
     ]
    }
   ],
   "source": [
    "class Foo\n",
    "  def self.hello\n",
    "    'hello'\n",
    "  end\n",
    "end\n",
    "\n",
    "class Bar < Foo\n",
    "end\n",
    "\n",
    "puts Foo.hello\n",
    "puts Bar.hello"
   ]
  },
  {
   "cell_type": "markdown",
   "metadata": {},
   "source": [
    "<h1><a id='anchor6'>7.7 メソッドの公開レベル</a></h1>"
   ]
  },
  {
   "cell_type": "markdown",
   "metadata": {},
   "source": [
    "Rubyのメソッドには以下のような３つの公開レベルがある  \n",
    "- public\n",
    "- protected\n",
    "- private"
   ]
  },
  {
   "cell_type": "markdown",
   "metadata": {},
   "source": [
    "### 7.7.1 publicメソッド"
   ]
  },
  {
   "cell_type": "code",
   "execution_count": 10,
   "metadata": {},
   "outputs": [
    {
     "name": "stdout",
     "output_type": "stream",
     "text": [
      "Hello\n"
     ]
    }
   ],
   "source": [
    "class User\n",
    "  # デフォルトはpublic\n",
    "  def hello\n",
    "    'Hello'\n",
    "  end\n",
    "end\n",
    "\n",
    "user = User.new\n",
    "# publicメソッドなのでクラスの外部から呼び出せる\n",
    "puts user.hello"
   ]
  },
  {
   "cell_type": "markdown",
   "metadata": {},
   "source": [
    "### 7.7.2 privateメソッド"
   ]
  },
  {
   "cell_type": "code",
   "execution_count": 12,
   "metadata": {},
   "outputs": [
    {
     "data": {
      "text/plain": [
       "#<User:0x00005557901e3498>"
      ]
     },
     "execution_count": 12,
     "metadata": {},
     "output_type": "execute_result"
    }
   ],
   "source": [
    "class User\n",
    "  # ここから下に定義されたメソッドはprivate\n",
    "  private\n",
    "  \n",
    "  def hello\n",
    "    'Hello!'\n",
    "  end\n",
    "end\n",
    "\n",
    "user = User.new\n",
    "# privateメソッドなのでクラスの外部から呼び出せない\n",
    "# user.hello => NoMethodError: private method `hello' called for #<User:0x0000555790476930>"
   ]
  },
  {
   "cell_type": "code",
   "execution_count": 14,
   "metadata": {},
   "outputs": [
    {
     "data": {
      "text/plain": [
       "#<User:0x0000555790667758>"
      ]
     },
     "execution_count": 14,
     "metadata": {},
     "output_type": "execute_result"
    }
   ],
   "source": [
    "class User\n",
    "  def hello\n",
    "    # nameメソッドはprivateなのでselfを付けるとエラーになる\n",
    "    \"Hello, I am #{self.name}.\"\n",
    "  end\n",
    "  \n",
    "  private\n",
    "  \n",
    "  def name\n",
    "    'Alice'\n",
    "  end\n",
    "end\n",
    "\n",
    "user = User.new\n",
    "# user.hello -> NoMethodError: private method `name' called for #<User:0x000055579069b9e0>"
   ]
  },
  {
   "cell_type": "markdown",
   "metadata": {},
   "source": [
    "### 7.7.3 privateメソッドはサブクラスでも呼び出せる"
   ]
  },
  {
   "cell_type": "code",
   "execution_count": 1,
   "metadata": {},
   "outputs": [
    {
     "data": {
      "text/plain": [
       "\"name: A great movie\""
      ]
     },
     "execution_count": 1,
     "metadata": {},
     "output_type": "execute_result"
    }
   ],
   "source": [
    "class Product\n",
    "  private\n",
    "  \n",
    "  # これはprivateメソッド\n",
    "  def name\n",
    "    \"A great movie\"\n",
    "  end\n",
    "end\n",
    "\n",
    "class DVD < Product\n",
    "  def to_s\n",
    "    # nameはスーパークラスのprivateメソッド\n",
    "    \"name: #{name}\"\n",
    "  end\n",
    "end\n",
    "\n",
    "dvd = DVD.new\n",
    "# 内部でスーパークラスのprivateメソッドを呼んでいるがエラーにはならない\n",
    "dvd.to_s"
   ]
  },
  {
   "cell_type": "code",
   "execution_count": 1,
   "metadata": {},
   "outputs": [
    {
     "name": "stdout",
     "output_type": "stream",
     "text": [
      "name: A great movie\n",
      "name: An awesome film\n"
     ]
    }
   ],
   "source": [
    "class Product\n",
    "  def to_s\n",
    "    # nameは常に\"A great movie\"になる、とは限らない\n",
    "    \"name: #{name}\"\n",
    "  end\n",
    "  \n",
    "  private\n",
    "  \n",
    "  # これはprivateメソッド\n",
    "  def name\n",
    "    \"A great movie\"\n",
    "  end\n",
    "end\n",
    "\n",
    "class DVD < Product\n",
    "  def name\n",
    "    \"An awesome film\"\n",
    "  end\n",
    "end\n",
    "\n",
    "product = Product.new\n",
    "# Productクラスのnameメソッドが使われる\n",
    "puts product.to_s\n",
    "\n",
    "dvd = DVD.new\n",
    "# オーバーライドしたDVDクラスのnameメソッドが使われる\n",
    "puts dvd.to_s"
   ]
  },
  {
   "cell_type": "markdown",
   "metadata": {},
   "source": [
    "### 7.7.4 クラスメソッドをprivateにしたい場合"
   ]
  },
  {
   "cell_type": "code",
   "execution_count": 2,
   "metadata": {},
   "outputs": [
    {
     "name": "stdout",
     "output_type": "stream",
     "text": [
      "Hello!\n"
     ]
    }
   ],
   "source": [
    "class User\n",
    "  private\n",
    "  \n",
    "  # クラスメソッドもprivateになる？\n",
    "  def self.hello\n",
    "    'Hello!'\n",
    "  end\n",
    "end\n",
    "\n",
    "puts User.hello"
   ]
  },
  {
   "cell_type": "code",
   "execution_count": 4,
   "metadata": {},
   "outputs": [
    {
     "data": {
      "text/plain": [
       ":hello"
      ]
     },
     "execution_count": 4,
     "metadata": {},
     "output_type": "execute_result"
    }
   ],
   "source": [
    "class User\n",
    "  class << self\n",
    "    # class << selfの構文ならクラスメソッドでもprivateが機能する\n",
    "    private\n",
    "    \n",
    "    def hello\n",
    "      'Hello'\n",
    "    end\n",
    "  end\n",
    "end\n",
    "\n",
    "# User.hello -> NoMethodError: private method `hello' called for User:Class"
   ]
  },
  {
   "cell_type": "markdown",
   "metadata": {},
   "source": [
    "### 7.7.7 protectedメソッド"
   ]
  },
  {
   "cell_type": "code",
   "execution_count": 5,
   "metadata": {},
   "outputs": [
    {
     "data": {
      "text/plain": [
       ":heavier_than?"
      ]
     },
     "execution_count": 5,
     "metadata": {},
     "output_type": "execute_result"
    }
   ],
   "source": [
    "class User\n",
    "  # weightは外部に公開しない\n",
    "  attr_reader :name\n",
    "  \n",
    "  def initialize(name, weight)\n",
    "    @name = name\n",
    "    @weight = weight\n",
    "  end\n",
    "  \n",
    "  # 自分がother_userより重い場合はtrue\n",
    "  def heavier_than?(other_user)\n",
    "    other_user.weight < @weight\n",
    "  end\n",
    "end"
   ]
  },
  {
   "cell_type": "code",
   "execution_count": 7,
   "metadata": {},
   "outputs": [
    {
     "data": {
      "text/plain": [
       "#<User:0x000055b95c4959b0 @name=\"Bob\", @weight=60>"
      ]
     },
     "execution_count": 7,
     "metadata": {},
     "output_type": "execute_result"
    }
   ],
   "source": [
    "alice = User.new('Alice', 50)\n",
    "bob = User.new('Bob', 60)\n",
    "# AliceはBobのweightを取得できない\n",
    "# alice.heavier_than?(bob) -> NoMethodError: undefined method `weight' for #<User:0x000055b95c4dd1c0"
   ]
  },
  {
   "cell_type": "code",
   "execution_count": 10,
   "metadata": {},
   "outputs": [
    {
     "name": "stdout",
     "output_type": "stream",
     "text": [
      "false\n",
      "true\n"
     ]
    }
   ],
   "source": [
    "class User\n",
    "  # weightは外部に公開しない\n",
    "  attr_reader :name\n",
    "  \n",
    "  def initialize(name, weight)\n",
    "    @name = name\n",
    "    @weight = weight\n",
    "  end\n",
    "  \n",
    "  # 自分がother_userより重い場合はtrue\n",
    "  def heavier_than?(other_user)\n",
    "    other_user.weight < @weight\n",
    "  end\n",
    "  \n",
    "  protected\n",
    "  \n",
    "  def weight\n",
    "    @weight\n",
    "  end\n",
    "end\n",
    "\n",
    "alice = User.new('Alice', 50)\n",
    "bob = User.new('Bob', 60)\n",
    "puts alice.heavier_than?(bob)\n",
    "puts bob.heavier_than?(alice)"
   ]
  },
  {
   "cell_type": "markdown",
   "metadata": {},
   "source": [
    "<h1><a id='anchor7'>7.8 定数についてもっと詳しく</a></h1>"
   ]
  },
  {
   "cell_type": "code",
   "execution_count": 1,
   "metadata": {},
   "outputs": [
    {
     "name": "stdout",
     "output_type": "stream",
     "text": [
      "0\n"
     ]
    }
   ],
   "source": [
    "class Product\n",
    "  DEFAULT_PRICE = 0\n",
    "end\n",
    "\n",
    "puts Product::DEFAULT_PRICE"
   ]
  },
  {
   "cell_type": "code",
   "execution_count": 4,
   "metadata": {},
   "outputs": [
    {
     "name": "stderr",
     "output_type": "stream",
     "text": [
      "<main>:1: warning: already initialized constant Product::DEFAULT_PRICE\n",
      "<main>:1: warning: previous definition of DEFAULT_PRICE was here\n"
     ]
    },
    {
     "data": {
      "text/plain": [
       "Product"
      ]
     },
     "execution_count": 4,
     "metadata": {},
     "output_type": "execute_result"
    }
   ],
   "source": [
    "class Product\n",
    "  DEFAULT_PRICE = 0\n",
    "  private_constant :DEFAULT_PRICE\n",
    "end\n",
    "\n",
    "# Product::DEFAULT_PRICE -> NameError: private constant Product::DEFAULT_PRICE referenced"
   ]
  },
  {
   "cell_type": "markdown",
   "metadata": {},
   "source": [
    "### 7.8.1 定数と再代入"
   ]
  },
  {
   "cell_type": "code",
   "execution_count": 1,
   "metadata": {},
   "outputs": [
    {
     "name": "stderr",
     "output_type": "stream",
     "text": [
      "<main>:3: warning: already initialized constant Product::DEFAULT_PRICE\n",
      "<main>:1: warning: previous definition of DEFAULT_PRICE was here\n"
     ]
    },
    {
     "name": "stdout",
     "output_type": "stream",
     "text": [
      "1000\n"
     ]
    }
   ],
   "source": [
    "class Product\n",
    "  DEFAULT_PRICE = 0\n",
    "  # 再代入して定数の値を書き換える\n",
    "  DEFAULT_PRICE = 1000\n",
    "end\n",
    "\n",
    "# 再代入後の値が返る\n",
    "puts Product::DEFAULT_PRICE"
   ]
  },
  {
   "cell_type": "code",
   "execution_count": 2,
   "metadata": {},
   "outputs": [
    {
     "name": "stderr",
     "output_type": "stream",
     "text": [
      "<main>:1: warning: already initialized constant Product::DEFAULT_PRICE\n",
      "<main>:3: warning: previous definition of DEFAULT_PRICE was here\n"
     ]
    },
    {
     "name": "stdout",
     "output_type": "stream",
     "text": [
      "3000\n"
     ]
    }
   ],
   "source": [
    "# クラスの外部からでも再代入が狩野\n",
    "Product::DEFAULT_PRICE = 3000\n",
    "\n",
    "puts Product::DEFAULT_PRICE"
   ]
  },
  {
   "cell_type": "markdown",
   "metadata": {},
   "source": [
    "### 7.8.2 定数はミュータブルなオブジェクトに注意する"
   ]
  },
  {
   "cell_type": "code",
   "execution_count": 6,
   "metadata": {},
   "outputs": [
    {
     "name": "stderr",
     "output_type": "stream",
     "text": [
      "<main>:1: warning: already initialized constant Product::NAME\n",
      "<main>:1: warning: previous definition of NAME was here\n",
      "<main>:2: warning: already initialized constant Product::SOME_NAMES\n",
      "<main>:2: warning: previous definition of SOME_NAMES was here\n",
      "<main>:3: warning: already initialized constant Product::SOME_PRICES\n",
      "<main>:3: warning: previous definition of SOME_PRICES was here\n"
     ]
    },
    {
     "name": "stdout",
     "output_type": "stream",
     "text": [
      "A PRODUCT\n",
      "[\"Foo\", \"Bar\", \"Baz\", \"Hoge\"]\n",
      "{\"Foo\"=>1000, \"Bar\"=>2000, \"Baz\"=>3000, \"Hoge\"=>4000}\n"
     ]
    }
   ],
   "source": [
    "class Product\n",
    "  NAME = 'A product'\n",
    "  SOME_NAMES = ['Foo', 'Bar', 'Baz']\n",
    "  SOME_PRICES = {'Foo' => 1000, 'Bar' => 2000, 'Baz' => 3000}\n",
    "end\n",
    "\n",
    "# 文字列を破壊的に大文字に変更する\n",
    "Product::NAME.upcase!\n",
    "puts Product::NAME\n",
    "\n",
    "# 配列に新しい要素を追加する\n",
    "Product::SOME_NAMES << 'Hoge'\n",
    "puts Product::SOME_NAMES \n",
    "\n",
    "# ハッシュに新しいキーと値を追加する\n",
    "Product::SOME_PRICES['Hoge'] = 4000\n",
    "puts Product::SOME_PRICES"
   ]
  },
  {
   "cell_type": "code",
   "execution_count": 8,
   "metadata": {},
   "outputs": [
    {
     "name": "stderr",
     "output_type": "stream",
     "text": [
      "<main>:1: warning: already initialized constant Product::SOME_NAMES\n",
      "<main>:1: warning: previous definition of SOME_NAMES was here\n"
     ]
    },
    {
     "name": "stdout",
     "output_type": "stream",
     "text": [
      "[\"Bar\", \"Baz\"]\n"
     ]
    }
   ],
   "source": [
    "class Product\n",
    "  SOME_NAMES = ['Foo', 'Bar', 'Baz']\n",
    "  \n",
    "  def self.names_without_foo(names = SOME_NAMES)\n",
    "    # namesがデフォルト値だと、以下のコードは定数のSOME_NAMESを破壊的に変更していることになる\n",
    "    names.delete('Foo')\n",
    "    names\n",
    "  end\n",
    "end\n",
    "\n",
    "Product.names_without_foo\n",
    "# 定数の中身が変わってしまった\n",
    "puts Product::SOME_NAMES"
   ]
  },
  {
   "cell_type": "code",
   "execution_count": 10,
   "metadata": {},
   "outputs": [
    {
     "name": "stderr",
     "output_type": "stream",
     "text": [
      "<main>:2: warning: already initialized constant Product::SOME_NAMES\n",
      "<main>:2: warning: previous definition of SOME_NAMES was here\n"
     ]
    },
    {
     "data": {
      "text/plain": [
       ":name_without_foo"
      ]
     },
     "execution_count": 10,
     "metadata": {},
     "output_type": "execute_result"
    }
   ],
   "source": [
    "class Product\n",
    "  # 配列を凍結する\n",
    "  SOME_NAMES = ['Foo', 'Bar', 'Baz'].freeze\n",
    "  \n",
    "  def self.name_without_foo(name = SOME_NAMES)\n",
    "    # freezeしている配列に対しては破壊的な変更はできない\n",
    "    names.delete('Foo')\n",
    "    names\n",
    "  end\n",
    "end\n",
    "\n",
    "# エラーが発生するのでうっかり定数の値が変更されている事故が防げる\n",
    "# Product.names_without_foo -> FrozenError: can't modify frozen Array"
   ]
  },
  {
   "cell_type": "code",
   "execution_count": 1,
   "metadata": {},
   "outputs": [
    {
     "name": "stdout",
     "output_type": "stream",
     "text": [
      "[\"FOO\", \"Bar\", \"Baz\"]\n"
     ]
    }
   ],
   "source": [
    "class Product\n",
    "  # 配列はfreezeされるが中身の文字列はfreezeされない\n",
    "  SOME_NAMES = ['Foo', 'Bar', 'Baz'].freeze\n",
    "end\n",
    "\n",
    "# 1番目の要素を破壊的に大文字に変更する\n",
    "Product::SOME_NAMES[0].upcase!\n",
    "# 1番目の要素の値が変わってしまう\n",
    "puts Product::SOME_NAMES"
   ]
  },
  {
   "cell_type": "code",
   "execution_count": 4,
   "metadata": {},
   "outputs": [
    {
     "name": "stderr",
     "output_type": "stream",
     "text": [
      "<main>:2: warning: already initialized constant Product::SOME_NAMES\n",
      "<main>:2: warning: previous definition of SOME_NAMES was here\n"
     ]
    },
    {
     "data": {
      "text/plain": [
       "[\"Foo\", \"Bar\", \"Baz\"]"
      ]
     },
     "execution_count": 4,
     "metadata": {},
     "output_type": "execute_result"
    }
   ],
   "source": [
    "class Product\n",
    "  # 中身の文字列をfreeezeする\n",
    "  SOME_NAMES = ['Foo'.freeze, 'Bar'.freeze, 'Baz'.freeze].freeze\n",
    "end\n",
    "\n",
    "# 中身もfreezeしているので破壊的な変更はできない\n",
    "# Product::SOME_NAMES[0].upcase! -> FrozenError: can't modify frozen String"
   ]
  },
  {
   "cell_type": "code",
   "execution_count": 7,
   "metadata": {},
   "outputs": [
    {
     "name": "stderr",
     "output_type": "stream",
     "text": [
      "<main>:1: warning: already initialized constant Product::SOME_NAMES\n",
      "<main>:1: warning: previous definition of SOME_NAMES was here\n"
     ]
    },
    {
     "data": {
      "text/plain": [
       "[\"Foo\", \"Bar\", \"Baz\"]"
      ]
     },
     "execution_count": 7,
     "metadata": {},
     "output_type": "execute_result"
    }
   ],
   "source": [
    "class Product\n",
    "  SOME_NAMES = ['Foo', 'Bar', 'Baz'].map(&:freeze).freeze\n",
    "end\n",
    "\n",
    "\n",
    "# Product::SOME_NAMES[0].upcase! -> FrozenError: can't modify frozen String"
   ]
  },
  {
   "cell_type": "markdown",
   "metadata": {},
   "source": [
    "<h1><a id='anchor8'>7.9 さまざまな種類の変数</a></h1>"
   ]
  },
  {
   "cell_type": "markdown",
   "metadata": {},
   "source": [
    "### 7.9.1 クラスインスタンス変数"
   ]
  },
  {
   "cell_type": "code",
   "execution_count": 8,
   "metadata": {},
   "outputs": [
    {
     "name": "stdout",
     "output_type": "stream",
     "text": [
      "Product\n",
      "A great movie\n",
      "Product\n"
     ]
    }
   ],
   "source": [
    "class Product\n",
    "  @name = 'Product'\n",
    "  \n",
    "  def self.name\n",
    "    @name\n",
    "  end\n",
    "  \n",
    "  def initialize(name)\n",
    "    @name = name\n",
    "  end\n",
    "  \n",
    "  # attr_reader :nameでもいいが、@nameの中身を意識するためにあえてメソッドを定義する\n",
    "  def name\n",
    "    @name\n",
    "  end\n",
    "end\n",
    "\n",
    "puts Product.name\n",
    "product = Product.new('A great movie')\n",
    "puts product.name\n",
    "puts Product.name"
   ]
  },
  {
   "cell_type": "code",
   "execution_count": 10,
   "metadata": {},
   "outputs": [
    {
     "data": {
      "text/plain": [
       ":name"
      ]
     },
     "execution_count": 10,
     "metadata": {},
     "output_type": "execute_result"
    }
   ],
   "source": [
    "class Product\n",
    "  # クラスインスタンス変数\n",
    "  @name = 'Product'\n",
    "  \n",
    "  def self.name\n",
    "    # クラスインスタンス変数\n",
    "    @name\n",
    "  end\n",
    "  \n",
    "  def initialize(name)\n",
    "    # インスタンス変数\n",
    "    @name = name\n",
    "  end\n",
    "  \n",
    "  # attr_reader :nameでもいいが、@nameの中身を意識するためにあえてメソッドを定義する\n",
    "  def name\n",
    "    # インスタンス変数\n",
    "    @name\n",
    "  end\n",
    "end"
   ]
  },
  {
   "cell_type": "code",
   "execution_count": 13,
   "metadata": {},
   "outputs": [
    {
     "name": "stdout",
     "output_type": "stream",
     "text": [
      "Product\n",
      "DVD\n",
      "An awesome film\n",
      "AN AWESOME FILM\n",
      "Product\n",
      "DVD\n"
     ]
    }
   ],
   "source": [
    "class DVD < Product\n",
    "  @name = 'DVD'\n",
    "  \n",
    "  def self.name\n",
    "    # クラスインスタンス変数を参照\n",
    "    @name\n",
    "  end\n",
    "  \n",
    "  def upcase_name\n",
    "    # インスタンス変数を参照\n",
    "    @name.upcase\n",
    "  end\n",
    "end\n",
    "\n",
    "puts Product.name\n",
    "puts DVD.name\n",
    "\n",
    "dvd = DVD.new('An awesome film')\n",
    "puts dvd.name\n",
    "puts dvd.upcase_name\n",
    "\n",
    "puts Product.name\n",
    "puts DVD.name"
   ]
  },
  {
   "cell_type": "markdown",
   "metadata": {},
   "source": [
    "### 7.9.2 クラス変数"
   ]
  },
  {
   "cell_type": "code",
   "execution_count": 4,
   "metadata": {},
   "outputs": [
    {
     "name": "stdout",
     "output_type": "stream",
     "text": [
      "DVD\n",
      "DVD\n",
      "A great movie\n",
      "A great movie\n",
      "A great movie\n",
      "An awesome film\n",
      "AN AWESOME FILM\n",
      "An awesome film\n",
      "An awesome film\n",
      "An awesome film\n"
     ]
    }
   ],
   "source": [
    "class Product\n",
    "  @@name = 'Product'\n",
    "  \n",
    "  def self.name\n",
    "    @@name\n",
    "  end\n",
    "  \n",
    "  def initialize(name)\n",
    "    @@name = name\n",
    "  end\n",
    "  \n",
    "  def name\n",
    "    @@name\n",
    "  end\n",
    "end\n",
    "\n",
    "class DVD < Product\n",
    "  @@name = 'DVD'\n",
    "  \n",
    "  def self.name\n",
    "    @@name\n",
    "  end\n",
    "  \n",
    "  def upcase_name\n",
    "    @@name.upcase\n",
    "  end\n",
    "end\n",
    "\n",
    "# DVDクラスを定義したタイミングで@@nameが\"DVD\"に変更される\n",
    "puts Product.name\n",
    "puts DVD.name\n",
    "\n",
    "product = Product.new('A great movie')\n",
    "puts product.name\n",
    "\n",
    "# Product.newのタイミングで@@nameが\"A great movie\"に変更される\n",
    "puts Product.name\n",
    "puts DVD.name\n",
    "\n",
    "dvd = DVD.new('An awesome film')\n",
    "puts dvd.name\n",
    "puts dvd.upcase_name\n",
    "\n",
    "# DVD.newのタイミングで@@nameが\"An awesome film\"に変更される\n",
    "puts product.name\n",
    "puts Product.name\n",
    "puts DVD.name"
   ]
  },
  {
   "cell_type": "markdown",
   "metadata": {},
   "source": [
    "### 7.9.3 グローバル変数と組み込み変数"
   ]
  },
  {
   "cell_type": "code",
   "execution_count": 9,
   "metadata": {},
   "outputs": [
    {
     "name": "stdout",
     "output_type": "stream",
     "text": [
      "Awsome program\n",
      "Super program\n",
      "Super program\n",
      "Super program\n"
     ]
    }
   ],
   "source": [
    "# グローバル変数の宣言と値の代入\n",
    "$program_name = 'Awsome program'\n",
    "\n",
    "# グローバル変数に依存するクラス\n",
    "class Program\n",
    "  def initialize(name)\n",
    "    $program_name = name\n",
    "  end\n",
    "  \n",
    "  def self.name\n",
    "    $program_name\n",
    "  end\n",
    "  \n",
    "  def name\n",
    "    $program_name\n",
    "  end\n",
    "end\n",
    "\n",
    "# $program_nameにはすでに名前が代入されている\n",
    "puts Program.name\n",
    "\n",
    "program = Program.new('Super program')\n",
    "puts program.name\n",
    "\n",
    "# Program.newのタイミングで$program_nameが\"Super program\"に変更される\n",
    "puts Program.name\n",
    "puts $program_name"
   ]
  },
  {
   "cell_type": "markdown",
   "metadata": {},
   "source": [
    "<h1><a id='anchor9'>7.10 クラス定義やRubyの言語仕様に関する高度な話題</a></h1>"
   ]
  },
  {
   "cell_type": "markdown",
   "metadata": {},
   "source": [
    "### 7.10.1 エイリアスメソッドの定義"
   ]
  },
  {
   "cell_type": "code",
   "execution_count": 10,
   "metadata": {},
   "outputs": [
    {
     "name": "stdout",
     "output_type": "stream",
     "text": [
      "5\n",
      "5\n"
     ]
    }
   ],
   "source": [
    "s = 'Hello'\n",
    "puts s.length\n",
    "puts s.size"
   ]
  },
  {
   "cell_type": "code",
   "execution_count": 11,
   "metadata": {},
   "outputs": [
    {
     "name": "stdout",
     "output_type": "stream",
     "text": [
      "Hello!\n",
      "Hello!\n"
     ]
    }
   ],
   "source": [
    "class User\n",
    "  def hello\n",
    "    'Hello!'\n",
    "  end\n",
    "  \n",
    "  # helloメソッドのエイリアスメソッドととしてgreetingを定義する\n",
    "  alias greeting hello\n",
    "end\n",
    "\n",
    "user = User.new\n",
    "puts user.hello\n",
    "puts user.greeting"
   ]
  },
  {
   "cell_type": "markdown",
   "metadata": {},
   "source": [
    "### 7.10.3 ネストしたクラスの定義"
   ]
  },
  {
   "cell_type": "code",
   "execution_count": 12,
   "metadata": {},
   "outputs": [
    {
     "name": "stdout",
     "output_type": "stream",
     "text": [
      "B\n"
     ]
    }
   ],
   "source": [
    "class User\n",
    "  class BloodType\n",
    "    attr_reader :type\n",
    "    \n",
    "    def initialize(type)\n",
    "      @type = type\n",
    "    end\n",
    "  end\n",
    "end\n",
    "\n",
    "blood_type = User::BloodType.new('B')\n",
    "puts blood_type.type"
   ]
  },
  {
   "cell_type": "markdown",
   "metadata": {},
   "source": [
    "こうした手法はクラス名の予期せぬ衝突を防ぐ「名前空間(ネームスペース)」を作る場合によく使われる。ただし名前空間を作る場合はクラスよりもモジュールが使われることが多い。"
   ]
  },
  {
   "cell_type": "markdown",
   "metadata": {},
   "source": [
    "### 7.10.4 演算子の挙動を独自に再定義する"
   ]
  },
  {
   "cell_type": "code",
   "execution_count": 13,
   "metadata": {},
   "outputs": [
    {
     "data": {
      "text/plain": [
       "\"Alice\""
      ]
     },
     "execution_count": 13,
     "metadata": {},
     "output_type": "execute_result"
    }
   ],
   "source": [
    "class User\n",
    "  # =で終わるメソッド\n",
    "  def name=(value)\n",
    "    @name = value\n",
    "  end\n",
    "end\n",
    "\n",
    "user = User.new\n",
    "# 変数に代入するような形式でname=メソッドを呼び出せる\n",
    "user.name = 'Alice'"
   ]
  },
  {
   "cell_type": "code",
   "execution_count": 2,
   "metadata": {},
   "outputs": [
    {
     "data": {
      "text/plain": [
       ":initialize"
      ]
     },
     "execution_count": 2,
     "metadata": {},
     "output_type": "execute_result"
    }
   ],
   "source": [
    "class Product\n",
    "  attr_reader :code, :name\n",
    "  \n",
    "  def initialize(code, name)\n",
    "    @code = code\n",
    "    @name = name\n",
    "  end\n",
    "end"
   ]
  },
  {
   "cell_type": "code",
   "execution_count": 3,
   "metadata": {},
   "outputs": [
    {
     "name": "stdout",
     "output_type": "stream",
     "text": [
      "false\n",
      "false\n"
     ]
    }
   ],
   "source": [
    "# aとcが同じ商品コード\n",
    "a = Product.new('A-0001', 'A great movie')\n",
    "b = Product.new('B-0001', 'An awesome film')\n",
    "c = Product.new('A-0001', 'A great movie')\n",
    "\n",
    "# ==がこのように動作してほしい(実際はどっちもfalseになる)\n",
    "puts a == b  # => false\n",
    "puts a == c  # => true"
   ]
  },
  {
   "cell_type": "code",
   "execution_count": 4,
   "metadata": {},
   "outputs": [
    {
     "name": "stdout",
     "output_type": "stream",
     "text": [
      "true\n"
     ]
    }
   ],
   "source": [
    "puts a == a"
   ]
  },
  {
   "cell_type": "code",
   "execution_count": 5,
   "metadata": {},
   "outputs": [
    {
     "data": {
      "text/plain": [
       ":=="
      ]
     },
     "execution_count": 5,
     "metadata": {},
     "output_type": "execute_result"
    }
   ],
   "source": [
    "class Product\n",
    "  attr_reader :code, :name\n",
    "  \n",
    "  def ==(other)\n",
    "    if other.is_a?(Product)\n",
    "      # 商品コードが一致すれば同じProductとみなす\n",
    "      code == other.code\n",
    "    else\n",
    "      # otherがProductでなければ常にfalse\n",
    "      false\n",
    "    end\n",
    "  end\n",
    "end"
   ]
  },
  {
   "cell_type": "code",
   "execution_count": 6,
   "metadata": {},
   "outputs": [
    {
     "name": "stdout",
     "output_type": "stream",
     "text": [
      "false\n",
      "true\n"
     ]
    }
   ],
   "source": [
    "# aとcが同じ商品コード\n",
    "a = Product.new('A-0001', 'A great movie')\n",
    "b = Product.new('B-0001', 'An awesome film')\n",
    "c = Product.new('A-0001', 'A great movie')\n",
    "\n",
    "# ==がこのように動作してほしい(実際はどっちもfalseになる)\n",
    "puts a == b  # => false\n",
    "puts a == c  # => true"
   ]
  },
  {
   "cell_type": "markdown",
   "metadata": {},
   "source": [
    "### 7.10.5 等値を判断するメソッドや演算子を理解する"
   ]
  },
  {
   "cell_type": "markdown",
   "metadata": {},
   "source": [
    "`if`文などで同じ値がどうかを比較する場合は`==`を使うことが多いが、Rubyでは等値を判断するためのメソッドや演算子がほかにもある。  \n",
    "- equal?\n",
    "- ==\n",
    "- eql?\n",
    "- ===  \n",
    "`equal?`メソッド以外は要件に合わせて再定義することが可能。"
   ]
  },
  {
   "cell_type": "code",
   "execution_count": 7,
   "metadata": {},
   "outputs": [
    {
     "name": "stdout",
     "output_type": "stream",
     "text": [
      "false\n",
      "true\n"
     ]
    }
   ],
   "source": [
    "# equal?メソッドはobject_idが等しい場合にtrueが返す\n",
    "a = 'abc'\n",
    "b = 'abc'\n",
    "puts a.equal?(b)\n",
    "c = a\n",
    "puts a.equal?(c)"
   ]
  },
  {
   "cell_type": "code",
   "execution_count": 9,
   "metadata": {},
   "outputs": [
    {
     "data": {
      "text/plain": [
       "true"
      ]
     },
     "execution_count": 9,
     "metadata": {},
     "output_type": "execute_result"
    }
   ],
   "source": [
    "# == はオブジェクトの内容が等しいかどうかを判断する\n",
    "1 == 1.0  # => true"
   ]
  },
  {
   "cell_type": "code",
   "execution_count": 10,
   "metadata": {},
   "outputs": [
    {
     "name": "stdout",
     "output_type": "stream",
     "text": [
      "Integer\n",
      "Float\n",
      "false\n"
     ]
    }
   ],
   "source": [
    "# eql?\n",
    "# ハッシュ上では１と1.0は別々のキーとして扱われる\n",
    "h = {1 => 'Integer', 1.0 => 'Float'}\n",
    "puts h[1]\n",
    "puts h[1.0]\n",
    "\n",
    "# 異なるキーとして扱われるのは、eql?メソッドで比較したときにfalseになるため\n",
    "puts 1.eql?(1.0)"
   ]
  },
  {
   "cell_type": "code",
   "execution_count": 14,
   "metadata": {},
   "outputs": [
    {
     "name": "stdout",
     "output_type": "stream",
     "text": [
      "true\n",
      "-4410027298344895778\n",
      "-4410027298344895778\n",
      "false\n",
      "1670196552016592398\n",
      "-275352702074925218\n"
     ]
    }
   ],
   "source": [
    "a = 'japan'\n",
    "b = 'japan'\n",
    "# eql?が真なら、hash値も同じ\n",
    "puts a.eql?(b)\n",
    "\n",
    "puts a.hash\n",
    "puts b.hash\n",
    "\n",
    "c = 1\n",
    "d = 1.0\n",
    "# eql?が偽なら、hash値も異なる\n",
    "puts c.eql?(d)\n",
    "puts c.hash\n",
    "puts d.hash"
   ]
  },
  {
   "cell_type": "code",
   "execution_count": 15,
   "metadata": {},
   "outputs": [
    {
     "name": "stdout",
     "output_type": "stream",
     "text": [
      "電話番号です\n"
     ]
    }
   ],
   "source": [
    "# ===はおもにcase文とwhen節で使われる\n",
    "text = '03-1234-5678'\n",
    "\n",
    "case text\n",
    "  when /^\\d{3}-\\d{4}$/\n",
    "    puts '郵便番号'\n",
    "  when /^\\d+-\\d+-\\d+$/\n",
    "  puts '電話番号です'\n",
    "end"
   ]
  },
  {
   "cell_type": "code",
   "execution_count": 17,
   "metadata": {},
   "outputs": [
    {
     "name": "stdout",
     "output_type": "stream",
     "text": [
      "false\n"
     ]
    }
   ],
   "source": [
    "# ↑のコードを実行すると内部的には\n",
    "puts /^\\d{3}-\\d{4}$/ === text"
   ]
  },
  {
   "cell_type": "markdown",
   "metadata": {},
   "source": [
    "### 7.10.6 オープンクラスとモンキーパッチ"
   ]
  },
  {
   "cell_type": "code",
   "execution_count": 18,
   "metadata": {},
   "outputs": [
    {
     "name": "stdout",
     "output_type": "stream",
     "text": [
      "MyString\n"
     ]
    }
   ],
   "source": [
    "# Stringクラスを継承した独自クラスを定義する\n",
    "class MyString < String\n",
    "  # Stringクラスを拡張するためのコードを書く\n",
    "end\n",
    "\n",
    "s = MyString.new('Hello')\n",
    "puts s.class"
   ]
  },
  {
   "cell_type": "code",
   "execution_count": 19,
   "metadata": {},
   "outputs": [
    {
     "name": "stdout",
     "output_type": "stream",
     "text": [
      "[1, 2]\n",
      "MyArray\n"
     ]
    }
   ],
   "source": [
    "# Arrayクラスを継承した独自クラスを定義する\n",
    "class MyArray < Array\n",
    "  # Arrayクラスを拡張するためのコードを書く\n",
    "end\n",
    "\n",
    "a = MyArray.new()\n",
    "a << 1\n",
    "a << 2\n",
    "puts a\n",
    "puts a.class"
   ]
  },
  {
   "cell_type": "code",
   "execution_count": 20,
   "metadata": {},
   "outputs": [
    {
     "name": "stdout",
     "output_type": "stream",
     "text": [
      "ceei,oal  HmIll A\n",
      "ieolace l,Hm A lI\n"
     ]
    }
   ],
   "source": [
    "# Rubyのクラスは変更に対してオープンなので「オープンクラス」と呼ばれることもある\n",
    "class String\n",
    "  # 文字列をランダムにシャッフルする\n",
    "  def shuffle\n",
    "    chars.shuffle.join\n",
    "  end\n",
    "end\n",
    "\n",
    "s = \"Hello, I am Alice\"\n",
    "puts s.shuffle\n",
    "puts s.shuffle"
   ]
  },
  {
   "cell_type": "markdown",
   "metadata": {},
   "source": [
    "新しいメソッドを追加するだけでなく、既存のメソッドを上書きすることもできる。既存の実装を上書きして、自分が期待する挙動に変更することを「モンキーパッチ」と呼ぶ。"
   ]
  },
  {
   "cell_type": "code",
   "execution_count": 25,
   "metadata": {},
   "outputs": [
    {
     "name": "stdout",
     "output_type": "stream",
     "text": [
      "Hello, Alice\n",
      "Aliceさん。こんにちは！\n"
     ]
    }
   ],
   "source": [
    "# 以下のUserクラスは外部ライブラリで定義されている想定\n",
    "class User\n",
    "  def initialize(name)\n",
    "    @name = name\n",
    "  end\n",
    "  \n",
    "  def hello\n",
    "    \"Hello, #{@name}\"\n",
    "  end\n",
    "end\n",
    "\n",
    "# モンキーパッチをあてる前の挙動を確認する\n",
    "user = User.new('Alice')\n",
    "puts user.hello\n",
    "\n",
    "# helloメソッドにモンキーパッチをあてて独自の挙動を持たせる\n",
    "class User\n",
    "  def hello\n",
    "    \"#{@name}さん。こんにちは！\"\n",
    "  end\n",
    "end\n",
    "\n",
    "# メソッドの上書きをしたのでhelloメソッドの挙動が変わっている\n",
    "puts user.hello"
   ]
  },
  {
   "cell_type": "markdown",
   "metadata": {},
   "source": [
    "さらに応用バージョンとして、既存のメソッドをエイリアスメソッドとして残し、上書きしたメソッドの中で既存のメソッドを再利用することもできる。"
   ]
  },
  {
   "cell_type": "code",
   "execution_count": 26,
   "metadata": {},
   "outputs": [
    {
     "name": "stdout",
     "output_type": "stream",
     "text": [
      "Hello, Aliceじゃなくて、Aliceさん、こんにちは！\n"
     ]
    }
   ],
   "source": [
    "# 以下のUserクラスは外部ライブラリで定義されている想定\n",
    "class User\n",
    "  def initialize(name)\n",
    "    @name = name\n",
    "  end\n",
    "  \n",
    "  def hello\n",
    "    \"Hello, #{@name}\"\n",
    "  end\n",
    "end\n",
    "\n",
    "# モンキーパッチをあてるためにUserクラスを再オープンする\n",
    "class User\n",
    "  # 既存のhelloメソッドはhello_originalとして呼び出せるようにしておく\n",
    "  alias hello_original hello\n",
    "  \n",
    "  # helloメソッドにモンキーパッチをあてる\n",
    "  def hello\n",
    "    \"#{hello_original}じゃなくて、#{@name}さん、こんにちは！\"\n",
    "  end\n",
    "end\n",
    "\n",
    "# モンキーパッチをあてたhelloメソッドの挙動を確認する\n",
    "user = User.new('Alice')\n",
    "puts user.hello"
   ]
  },
  {
   "cell_type": "markdown",
   "metadata": {},
   "source": [
    "### 7.10.7 特異メソッド"
   ]
  },
  {
   "cell_type": "code",
   "execution_count": 2,
   "metadata": {},
   "outputs": [
    {
     "name": "stdout",
     "output_type": "stream",
     "text": [
      ".cliI m eAa\n"
     ]
    }
   ],
   "source": [
    "alice = 'I am Alice.'\n",
    "bob = 'I am Bob.'\n",
    "\n",
    "# aliceのオブジェクトにだけ、shuffleメソッドを定義する\n",
    "def alice.shuffle\n",
    "  chars.shuffle.join\n",
    "end\n",
    "\n",
    "# aliceはshuffleメソッドを持つが、bobは持たない\n",
    "puts alice.shuffle\n",
    "# puts bob.shuffle"
   ]
  },
  {
   "cell_type": "code",
   "execution_count": 3,
   "metadata": {},
   "outputs": [
    {
     "data": {
      "text/plain": [
       "\"Ae lmia cI\""
      ]
     },
     "execution_count": 3,
     "metadata": {},
     "output_type": "execute_result"
    }
   ],
   "source": [
    "alice = \"I am Alice\"\n",
    "# aliceというオブジェクトに特異メソッドを追加するもう一つの方法\n",
    "class << alice\n",
    "  def shuffle\n",
    "    chars.shuffle.join\n",
    "  end\n",
    "end\n",
    "\n",
    "alice.shuffle"
   ]
  },
  {
   "cell_type": "code",
   "execution_count": null,
   "metadata": {},
   "outputs": [],
   "source": []
  }
 ],
 "metadata": {
  "kernelspec": {
   "display_name": "Ruby 2.5.5",
   "language": "ruby",
   "name": "ruby"
  },
  "language_info": {
   "file_extension": ".rb",
   "mimetype": "application/x-ruby",
   "name": "ruby",
   "version": "2.5.5"
  }
 },
 "nbformat": 4,
 "nbformat_minor": 2
}
