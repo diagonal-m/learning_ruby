{
 "cells": [
  {
   "cell_type": "markdown",
   "metadata": {},
   "source": [
    "## 目次\n",
    "2.2. [Rubyに関する基礎知識](#anchor1)  \n",
    "2.5. [真偽値と条件分岐](#anchor2)  \n",
    "2.6. [メソッドの定義](#anchor3)  \n",
    "2.7. [例題: FizzBuzzプログラムを作成する](#anchor4)  \n",
    "2.8. [文字列についてもっと詳しく](#anchor5)  \n",
    "2.10. [真偽値と条件分岐についてもっと詳しく](#anchor6)  \n",
    "2.11. [メソッド定義についてもっと詳しく](#anchor7)  \n",
    "2.12. [その他の基礎知識](#anchor8) "
   ]
  },
  {
   "cell_type": "markdown",
   "metadata": {},
   "source": [
    "## Point\n",
    "- [Rubyの真偽値](#point1)\n",
    "- [&&や||の戻り値と評価を終了するタイミング](#point2)"
   ]
  },
  {
   "cell_type": "markdown",
   "metadata": {},
   "source": [
    "<h1><a id='anchor1'>2.2 Rubyに関する基礎知識</a></h1>"
   ]
  },
  {
   "cell_type": "markdown",
   "metadata": {},
   "source": [
    "### 2.2.1 すべてがオブジェクト"
   ]
  },
  {
   "cell_type": "code",
   "execution_count": 17,
   "metadata": {},
   "outputs": [
    {
     "name": "stdout",
     "output_type": "stream",
     "text": [
      "1\n",
      "1\n",
      "\n",
      "true\n",
      "false\n",
      "(?-mix:\\d+)\n"
     ]
    }
   ],
   "source": [
    "# 文字列\n",
    "puts '1'.to_s\n",
    "# 数値\n",
    "puts 1.to_s\n",
    "# nil\n",
    "puts nil.to_s\n",
    "# true\n",
    "puts true.to_s\n",
    "# false\n",
    "puts false.to_s\n",
    "# 正規表現\n",
    "puts /\\d+/.to_s"
   ]
  },
  {
   "cell_type": "markdown",
   "metadata": {},
   "source": [
    "### 2.2.2 メソッド呼び出し"
   ]
  },
  {
   "cell_type": "code",
   "execution_count": 18,
   "metadata": {},
   "outputs": [
    {
     "name": "stdout",
     "output_type": "stream",
     "text": [
      "1\n",
      "1\n",
      "a\n",
      "a\n"
     ]
    }
   ],
   "source": [
    "# 数値の１を文字列に変換する(カッコあり)\n",
    "puts 1.to_s()\n",
    "# 数値の1を文字列に変換する(カッコなし)\n",
    "puts 1.to_s\n",
    "# 数値を16進数の文字列に(カッコあり)\n",
    "puts 10.to_s(16)\n",
    "# 数値を１６進数の文字列に変換する(カッコなし)\n",
    "puts 10.to_s 16"
   ]
  },
  {
   "cell_type": "markdown",
   "metadata": {},
   "source": [
    "### 2.2.3 分の区切り"
   ]
  },
  {
   "cell_type": "code",
   "execution_count": 21,
   "metadata": {},
   "outputs": [
    {
     "name": "stdout",
     "output_type": "stream",
     "text": [
      "1\n",
      "\n",
      "a\n"
     ]
    }
   ],
   "source": [
    "puts 1.to_s\n",
    "puts nil.to_s\n",
    "puts 10.to_s(16)"
   ]
  },
  {
   "cell_type": "markdown",
   "metadata": {},
   "source": [
    "### 2.2.8 変数(ローカル変数)の宣言と代入"
   ]
  },
  {
   "cell_type": "code",
   "execution_count": 22,
   "metadata": {},
   "outputs": [
    {
     "data": {
      "text/plain": [
       "246"
      ]
     },
     "execution_count": 22,
     "metadata": {},
     "output_type": "execute_result"
    }
   ],
   "source": [
    "s = 'Hello'\n",
    "n = 123 * 2"
   ]
  },
  {
   "cell_type": "code",
   "execution_count": 27,
   "metadata": {},
   "outputs": [
    {
     "name": "stdout",
     "output_type": "stream",
     "text": [
      "1\n",
      "2\n"
     ]
    }
   ],
   "source": [
    "# 2つの値を同時に代入する\n",
    "a, b = 1, 2\n",
    "puts a\n",
    "puts b"
   ]
  },
  {
   "cell_type": "code",
   "execution_count": 33,
   "metadata": {},
   "outputs": [
    {
     "name": "stdout",
     "output_type": "stream",
     "text": [
      "10\n",
      "\n"
     ]
    }
   ],
   "source": [
    "# 右辺の数が少ない場合はnilが入る\n",
    "c, d = 10\n",
    "puts c\n",
    "puts d"
   ]
  },
  {
   "cell_type": "code",
   "execution_count": 34,
   "metadata": {},
   "outputs": [
    {
     "data": {
      "text/plain": [
       "100"
      ]
     },
     "execution_count": 34,
     "metadata": {},
     "output_type": "execute_result"
    }
   ],
   "source": [
    "# ２つの変数に同じ値を代入する\n",
    "a = b = 100"
   ]
  },
  {
   "cell_type": "markdown",
   "metadata": {},
   "source": [
    "<h1><a id='anchor2'>2.5 真偽値と条件分岐</a></h1>"
   ]
  },
  {
   "cell_type": "markdown",
   "metadata": {},
   "source": [
    "<h3><a id='point1'>2.5.1 Rubyの真偽値</a></h3>\n",
    " Rubyの真偽値は次のようなルールを持っている。\n",
    " \n",
    " - falseまたはnilであれば偽。\n",
    " - それ以外は全部真。\n",
    "\n",
    "falseとnil以外は真のため、次のような値はすべて真として扱われる。\n",
    "```ruby\n",
    "# tureそのもの\n",
    "true\n",
    "\n",
    "# すべての数値\n",
    "1\n",
    "0\n",
    "-1\n",
    "\n",
    "# すべての文字列\n",
    "'true'\n",
    "'false'\n",
    "''\n",
    "```"
   ]
  },
  {
   "cell_type": "code",
   "execution_count": 36,
   "metadata": {},
   "outputs": [
    {
     "name": "stdout",
     "output_type": "stream",
     "text": [
      "データがありません\n"
     ]
    }
   ],
   "source": [
    "data = nil\n",
    "if data\n",
    "  puts 'データがあります'\n",
    "else\n",
    "  puts 'データがありません'\n",
    "end"
   ]
  },
  {
   "cell_type": "markdown",
   "metadata": {},
   "source": [
    "### 2.5.2 論理演算子"
   ]
  },
  {
   "cell_type": "code",
   "execution_count": 38,
   "metadata": {},
   "outputs": [
    {
     "name": "stdout",
     "output_type": "stream",
     "text": [
      "true\n",
      "false\n"
     ]
    }
   ],
   "source": [
    "t1 = true\n",
    "t2 = true\n",
    "f1 = false\n",
    "puts t1 && t2\n",
    "puts t1 && f1"
   ]
  },
  {
   "cell_type": "code",
   "execution_count": 39,
   "metadata": {},
   "outputs": [
    {
     "name": "stdout",
     "output_type": "stream",
     "text": [
      "true\n",
      "false\n"
     ]
    }
   ],
   "source": [
    "t1 = true\n",
    "f1 = false\n",
    "f2 = false\n",
    "puts t1 || f1\n",
    "puts f1 || f2"
   ]
  },
  {
   "cell_type": "code",
   "execution_count": 41,
   "metadata": {},
   "outputs": [
    {
     "name": "stdout",
     "output_type": "stream",
     "text": [
      "true\n",
      "true\n"
     ]
    }
   ],
   "source": [
    "t1 = true\n",
    "t2 = true\n",
    "f1 = false\n",
    "f2 = false\n",
    "puts t1 && t2 || f1 && f1\n",
    "puts (t1 && t2) || (f1 && f1)"
   ]
  },
  {
   "cell_type": "code",
   "execution_count": 42,
   "metadata": {},
   "outputs": [
    {
     "name": "stdout",
     "output_type": "stream",
     "text": [
      "false\n"
     ]
    }
   ],
   "source": [
    "t1 = true\n",
    "t2 = true\n",
    "f1 = false\n",
    "f2 = false\n",
    "\n",
    "puts t1 && (t2 || f1) && f1"
   ]
  },
  {
   "cell_type": "code",
   "execution_count": 43,
   "metadata": {},
   "outputs": [
    {
     "name": "stdout",
     "output_type": "stream",
     "text": [
      "false\n",
      "true\n"
     ]
    }
   ],
   "source": [
    "t1 = true\n",
    "f1 = false\n",
    "puts !t1\n",
    "puts !f1"
   ]
  },
  {
   "cell_type": "code",
   "execution_count": 44,
   "metadata": {},
   "outputs": [
    {
     "name": "stdout",
     "output_type": "stream",
     "text": [
      "false\n",
      "true\n"
     ]
    }
   ],
   "source": [
    "t1 = true\n",
    "f1 = false\n",
    "puts t1 && f1\n",
    "puts !(t1 && f1)"
   ]
  },
  {
   "cell_type": "markdown",
   "metadata": {},
   "source": [
    "### 2.5.3 if文"
   ]
  },
  {
   "cell_type": "code",
   "execution_count": 45,
   "metadata": {},
   "outputs": [
    {
     "name": "stdout",
     "output_type": "stream",
     "text": [
      "10より大きい\n"
     ]
    }
   ],
   "source": [
    "n = 11\n",
    "if n > 10\n",
    "  puts '10より大きい'\n",
    "else\n",
    "  puts '10以下'\n",
    "end"
   ]
  },
  {
   "cell_type": "code",
   "execution_count": 47,
   "metadata": {},
   "outputs": [
    {
     "name": "stdout",
     "output_type": "stream",
     "text": [
      "ciso\n"
     ]
    }
   ],
   "source": [
    "country = 'italy'\n",
    "if country == 'japan'\n",
    "  puts 'こんにちは'\n",
    "elsif country == 'us'\n",
    "  puts 'Hello'\n",
    "elsif country == 'italy'\n",
    "  puts 'ciso'\n",
    "else\n",
    "  puts '???'\n",
    "end"
   ]
  },
  {
   "cell_type": "code",
   "execution_count": 48,
   "metadata": {},
   "outputs": [
    {
     "name": "stdout",
     "output_type": "stream",
     "text": [
      "ciao\n"
     ]
    }
   ],
   "source": [
    "country = 'italy'\n",
    "# if文の戻り値を変数に代入する\n",
    "greeting = \n",
    "  if country == 'japan'\n",
    "    'こんにちは'\n",
    "  elsif country == 'us'\n",
    "    'Hello'\n",
    "  elsif country == 'italy'\n",
    "    'ciao'\n",
    "  else\n",
    "    '???'\n",
    "  end\n",
    "\n",
    "puts greeting"
   ]
  },
  {
   "cell_type": "code",
   "execution_count": 49,
   "metadata": {},
   "outputs": [
    {
     "name": "stdout",
     "output_type": "stream",
     "text": [
      "35\n"
     ]
    }
   ],
   "source": [
    "point = 7\n",
    "day = 1\n",
    "# 1日であればポイント5倍\n",
    "if day == 1\n",
    "  point *=5\n",
    "end\n",
    "puts point"
   ]
  },
  {
   "cell_type": "code",
   "execution_count": 50,
   "metadata": {},
   "outputs": [
    {
     "name": "stdout",
     "output_type": "stream",
     "text": [
      "35\n"
     ]
    }
   ],
   "source": [
    "point = 7\n",
    "day = 1\n",
    "# 1日であればポイント５倍(if修飾子を利用)\n",
    "point *= 5 if day == 1\n",
    "puts point"
   ]
  },
  {
   "cell_type": "code",
   "execution_count": 52,
   "metadata": {},
   "outputs": [
    {
     "name": "stdout",
     "output_type": "stream",
     "text": [
      "italy\n"
     ]
    }
   ],
   "source": [
    "country = 'italy'\n",
    "if country == 'japan' then 'こんにちは'\n",
    "elsif country == 'us' then 'Hello'\n",
    "elsif country == 'italy' then 'ciao'\n",
    "else '???'\n",
    "end\n",
    "\n",
    "puts country"
   ]
  },
  {
   "cell_type": "markdown",
   "metadata": {},
   "source": [
    "<h1><a id='anchor3'>2.6 メソッドの定義</a></h1>"
   ]
  },
  {
   "cell_type": "code",
   "execution_count": 61,
   "metadata": {},
   "outputs": [
    {
     "name": "stdout",
     "output_type": "stream",
     "text": [
      "3\n"
     ]
    }
   ],
   "source": [
    "def add(a, b)\n",
    "  a + b\n",
    "end\n",
    "\n",
    "puts add(1, 2)"
   ]
  },
  {
   "cell_type": "markdown",
   "metadata": {},
   "source": [
    "### 2.6.1 メソッドの戻り値"
   ]
  },
  {
   "cell_type": "code",
   "execution_count": 62,
   "metadata": {},
   "outputs": [
    {
     "name": "stdout",
     "output_type": "stream",
     "text": [
      "3\n"
     ]
    }
   ],
   "source": [
    "def add(a, b)\n",
    "  # returnも使えるが使わない方が主流\n",
    "  return a + b\n",
    "end\n",
    "\n",
    "puts add(1, 2)"
   ]
  },
  {
   "cell_type": "code",
   "execution_count": 63,
   "metadata": {},
   "outputs": [
    {
     "name": "stdout",
     "output_type": "stream",
     "text": [
      "こんにちは\n",
      "hello\n"
     ]
    }
   ],
   "source": [
    "def greeting(country)\n",
    "  # \"こんにちは\"または\"hello\"がメソッドの戻り値になる\n",
    "  if country == 'japan'\n",
    "    'こんにちは'\n",
    "  else\n",
    "    'hello'\n",
    "  end\n",
    "end\n",
    "\n",
    "puts greeting('japan')\n",
    "puts greeting('us')"
   ]
  },
  {
   "cell_type": "code",
   "execution_count": 64,
   "metadata": {},
   "outputs": [
    {
     "name": "stdout",
     "output_type": "stream",
     "text": [
      "countryを入力してください\n",
      "こんにちは\n"
     ]
    }
   ],
   "source": [
    "def greeting(country)\n",
    "  # countryがnilならメッセージを返してメソッドを抜ける\n",
    "  # (nil?はオブジェクトがnilの場合にtrueを返すメソッド)\n",
    "  return 'countryを入力してください' if country.nil?\n",
    "  \n",
    "  if country == 'japan'\n",
    "    'こんにちは'\n",
    "  else\n",
    "    'hello'\n",
    "  end\n",
    "end\n",
    "\n",
    "puts greeting(nil)\n",
    "puts greeting('japan')"
   ]
  },
  {
   "cell_type": "markdown",
   "metadata": {},
   "source": [
    "<h1><a id='anchor4'>2.7 例題: FizzBuzzプログラムを作成する</a></h1>"
   ]
  },
  {
   "cell_type": "code",
   "execution_count": 66,
   "metadata": {},
   "outputs": [
    {
     "name": "stdout",
     "output_type": "stream",
     "text": [
      "1\n",
      "2\n",
      "Fizz\n",
      "4\n",
      "Buzz\n",
      "Fizz\n",
      "Fizz Buzz\n"
     ]
    }
   ],
   "source": [
    "def fizz_buzz(n)\n",
    "  if n % 15 == 0\n",
    "    'Fizz Buzz'\n",
    "  elsif n % 3 == 0\n",
    "    'Fizz'\n",
    "  elsif n % 5 == 0\n",
    "    'Buzz'\n",
    "  else\n",
    "    n.to_s\n",
    "  end\n",
    "end\n",
    "\n",
    "puts fizz_buzz(1)\n",
    "puts fizz_buzz(2)\n",
    "puts fizz_buzz(3)\n",
    "puts fizz_buzz(4)\n",
    "puts fizz_buzz(5)\n",
    "puts fizz_buzz(6)\n",
    "puts fizz_buzz(15)"
   ]
  },
  {
   "cell_type": "markdown",
   "metadata": {},
   "source": [
    "<h1><a id='anchor5'>2.8 文字列についてもっと詳しく</a></h1>"
   ]
  },
  {
   "cell_type": "markdown",
   "metadata": {},
   "source": [
    "### 2.8.2 %記法で文字列を作る\n",
    " 文字列はシングルクオートやダブルクオートだけでなく、%記法でも作ることができる。%記法を使うとシングルクオートやダブルクオートをエスケープする必要がない。"
   ]
  },
  {
   "cell_type": "code",
   "execution_count": 71,
   "metadata": {},
   "outputs": [
    {
     "name": "stdout",
     "output_type": "stream",
     "text": [
      "He said, \"Don't speak.\"\n",
      "He said, \"Hello.\"\n"
     ]
    }
   ],
   "source": [
    "# %q! !はシングルクオートで囲んだことと同じになる\n",
    "puts %q!He said, \"Don't speak.\"!\n",
    "\n",
    "# %Q! !はダブルクオートで囲んだことと同じになる(改行文字や式展開が使える)\n",
    "someting = \"Hello.\"\n",
    "puts %Q!He said, \"#{someting}\"!"
   ]
  },
  {
   "cell_type": "markdown",
   "metadata": {},
   "source": [
    "上の例では`%q! !`のように！を区切り文字に使用したが、任意の記号を区切り文字として使用することができる。"
   ]
  },
  {
   "cell_type": "markdown",
   "metadata": {},
   "source": [
    "### 2.8.3 ヒアドキュメント(行指向文字列リテラル)"
   ]
  },
  {
   "cell_type": "code",
   "execution_count": 72,
   "metadata": {},
   "outputs": [
    {
     "name": "stdout",
     "output_type": "stream",
     "text": [
      "Line 1,\n",
      "Line 2\n"
     ]
    }
   ],
   "source": [
    "# 文字列は途中で改行できる\n",
    "puts \"Line 1,\n",
    "Line 2\""
   ]
  },
  {
   "cell_type": "code",
   "execution_count": 73,
   "metadata": {},
   "outputs": [
    {
     "name": "stdout",
     "output_type": "stream",
     "text": [
      "これはヒアドキュメントです。\n",
      "複数業に渡る長い文字列を作成するのに便利です。\n",
      "\n"
     ]
    }
   ],
   "source": [
    "# 複数行に渡る長い文字列を作成する場合はヒアドキュメント(行志向文字列リテラル)を使う\n",
    "a = <<TEXT\n",
    "これはヒアドキュメントです。\n",
    "複数業に渡る長い文字列を作成するのに便利です。\n",
    "TEXT\n",
    "\n",
    "puts a"
   ]
  },
  {
   "cell_type": "markdown",
   "metadata": {},
   "source": [
    "### 2.8.4 フォーマットを指定して文字列を作成する"
   ]
  },
  {
   "cell_type": "code",
   "execution_count": 75,
   "metadata": {},
   "outputs": [
    {
     "data": {
      "text/plain": [
       "\"1.200\""
      ]
     },
     "execution_count": 75,
     "metadata": {},
     "output_type": "execute_result"
    }
   ],
   "source": [
    "sprintf('%0.3f', 1.2)"
   ]
  },
  {
   "cell_type": "markdown",
   "metadata": {},
   "source": [
    "<h1><a id='anchor6'>2.10 真偽値と条件分岐についてもっと詳しく</a></h1>"
   ]
  },
  {
   "cell_type": "markdown",
   "metadata": {},
   "source": [
    "<h3><a id='point2'>2.10.1 &&や||の戻り値と評価を終了するタイミング</a></h3>\n",
    "`&&`や`||`を使った場合、式全体の戻り値は必ずしもtrueまたはfalseになるとは限らない。"
   ]
  },
  {
   "cell_type": "code",
   "execution_count": 78,
   "metadata": {},
   "outputs": [
    {
     "name": "stdout",
     "output_type": "stream",
     "text": [
      "3\n",
      "nil\n",
      "false\n",
      "false\n",
      "nil\n",
      "2\n"
     ]
    }
   ],
   "source": [
    "puts 1 && 2 && 3\n",
    "pp 1 && nil && 3\n",
    "puts 1 && false && 3\n",
    "\n",
    "puts nil || false\n",
    "pp false || nil\n",
    "puts nil || false || 2 || 3"
   ]
  },
  {
   "cell_type": "markdown",
   "metadata": {},
   "source": [
    "3や`nil`といった値が式全体の戻り値になっている。  \n",
    "Rubyは式全体が真または偽であることが決定するまで左辺から順に式を評価する。式全体の真または偽が確定すると、式の評価を終了し、最後に評価した式の値を返す。"
   ]
  },
  {
   "cell_type": "markdown",
   "metadata": {},
   "source": [
    "以下は||を使った式の戻り値や、真偽値が確定した時点で評価が終了されることを活用した架空のコード例である。\n",
    "\n",
    "```ruby\n",
    "# Alice, Bob, Carolと順に検索し、最初に見つかったユーザ(nilまたはfalse以外の値)を変数に格納する\n",
    "user = find_user('Alice') || find_user('Bob') || find_user('Carol')\n",
    "\n",
    "# 正常なユーザであればメールを送信する(左辺が偽であればメールは送信されない)\n",
    "user.valid? && send_email_to(user)\n",
    "```"
   ]
  },
  {
   "cell_type": "markdown",
   "metadata": {},
   "source": [
    "### 2.10.3 unless文"
   ]
  },
  {
   "cell_type": "code",
   "execution_count": 80,
   "metadata": {},
   "outputs": [
    {
     "name": "stdout",
     "output_type": "stream",
     "text": [
      "何か異常があります\n"
     ]
    }
   ],
   "source": [
    "status = 'error'\n",
    "if status != 'ok'\n",
    "  puts '何か異常があります'\n",
    "end"
   ]
  },
  {
   "cell_type": "code",
   "execution_count": 81,
   "metadata": {},
   "outputs": [
    {
     "name": "stdout",
     "output_type": "stream",
     "text": [
      "何か異常があります\n"
     ]
    }
   ],
   "source": [
    "status = 'error'\n",
    "unless status == 'ok'\n",
    "  puts '何か異常があります'\n",
    "end"
   ]
  },
  {
   "cell_type": "code",
   "execution_count": 82,
   "metadata": {},
   "outputs": [
    {
     "name": "stdout",
     "output_type": "stream",
     "text": [
      "正常です\n"
     ]
    }
   ],
   "source": [
    "status = 'ok'\n",
    "unless status == 'ok'\n",
    "  puts '何か異常があります'\n",
    "else\n",
    "  puts '正常です'\n",
    "end"
   ]
  },
  {
   "cell_type": "markdown",
   "metadata": {},
   "source": [
    "### 2.10.4 case文\n",
    "複数の条件を指定する場合は、elsifを重ねるよりもcase文で書いた方がシンプルになる。case文の構文は次の通り\n",
    "```ruby\n",
    "case 対象のオブジェクトや式\n",
    "    when 値1\n",
    "        # 値1に一致する場合の処理\n",
    "    when 値2\n",
    "        # 値2に一致する場合の処理\n",
    "    when 値3\n",
    "        # 値3に一致する場合の処理\n",
    "    else\n",
    "        # どの値にも一致しない場合の処理\n",
    "end\n",
    "```"
   ]
  },
  {
   "cell_type": "code",
   "execution_count": 84,
   "metadata": {},
   "outputs": [
    {
     "name": "stdout",
     "output_type": "stream",
     "text": [
      "ciao\n"
     ]
    }
   ],
   "source": [
    "country = 'italy'\n",
    "if country == 'japan'\n",
    "  puts 'こんにちは'\n",
    "elsif country == 'us'\n",
    "  puts 'Hello'\n",
    "elsif country == 'italy'\n",
    "  puts 'ciao'\n",
    "else\n",
    "  puts '???'\n",
    "end"
   ]
  },
  {
   "cell_type": "code",
   "execution_count": 85,
   "metadata": {},
   "outputs": [
    {
     "name": "stdout",
     "output_type": "stream",
     "text": [
      "ciao\n"
     ]
    }
   ],
   "source": [
    "country = 'italy'\n",
    "case country\n",
    "  when 'japan'\n",
    "    puts 'こんにちは'\n",
    "  when 'us'\n",
    "    puts 'Hello'\n",
    "  when 'italy'\n",
    "    puts 'ciao'\n",
    "  else\n",
    "    puts '???'\n",
    "end"
   ]
  },
  {
   "cell_type": "markdown",
   "metadata": {},
   "source": [
    "Rubyのcase文ではwhen節に複数の値を指定し、どれかに一致すれば処理を実行する、という条件分岐を書くこともできる。"
   ]
  },
  {
   "cell_type": "code",
   "execution_count": 86,
   "metadata": {},
   "outputs": [
    {
     "name": "stdout",
     "output_type": "stream",
     "text": [
      "Hello\n"
     ]
    }
   ],
   "source": [
    "country = 'アメリカ'\n",
    "case country\n",
    "  when 'japan', '日本'\n",
    "    puts 'こんにちは'\n",
    "  when 'us', 'アメリカ'\n",
    "    puts 'Hello'\n",
    "  when 'italy', 'イタリア'\n",
    "    puts 'ciao'\n",
    "  else\n",
    "    puts '???'\n",
    "end"
   ]
  },
  {
   "cell_type": "code",
   "execution_count": 89,
   "metadata": {},
   "outputs": [
    {
     "name": "stdout",
     "output_type": "stream",
     "text": [
      "Hello\n",
      "\n"
     ]
    }
   ],
   "source": [
    "country = 'アメリカ'\n",
    "message = \n",
    "  case country\n",
    "    when 'japan', '日本'\n",
    "      puts 'こんにちは'\n",
    "    when 'us', 'アメリカ'\n",
    "      puts 'Hello'\n",
    "    when 'italy', 'イタリア'\n",
    "      puts 'ciao'\n",
    "    else\n",
    "      puts '???'\n",
    "  end\n",
    "puts message"
   ]
  },
  {
   "cell_type": "code",
   "execution_count": 7,
   "metadata": {},
   "outputs": [
    {
     "name": "stdout",
     "output_type": "stream",
     "text": [
      "Hello\n"
     ]
    }
   ],
   "source": [
    "country = 'us'\n",
    "message = case country\n",
    "                      when 'japan' then 'こんにちは' \n",
    "                      when 'us' then 'Hello'\n",
    "                      when 'italy' then 'ciao'\n",
    "                      else '???'\n",
    "                    end\n",
    "puts message"
   ]
  },
  {
   "cell_type": "code",
   "execution_count": 91,
   "metadata": {},
   "outputs": [
    {
     "name": "stdout",
     "output_type": "stream",
     "text": [
      "ciao\n"
     ]
    }
   ],
   "source": [
    "country = 'italy'\n",
    "case country\n",
    "  when 'japan' then puts'こんにちは' \n",
    "  when 'us' then puts 'Hello'\n",
    "  when 'italy' then puts 'ciao'\n",
    "  else '???'\n",
    "end"
   ]
  },
  {
   "cell_type": "markdown",
   "metadata": {},
   "source": [
    "### 2.10.5 条件演算子(三項演算子)"
   ]
  },
  {
   "cell_type": "code",
   "execution_count": 93,
   "metadata": {},
   "outputs": [
    {
     "name": "stdout",
     "output_type": "stream",
     "text": [
      "10より大きい\n"
     ]
    }
   ],
   "source": [
    "n = 11\n",
    "if n > 10\n",
    "  puts '10より大きい'\n",
    "else\n",
    "  puts '10以下'\n",
    "end"
   ]
  },
  {
   "cell_type": "code",
   "execution_count": 96,
   "metadata": {},
   "outputs": [
    {
     "data": {
      "text/plain": [
       "\"10より大きい\""
      ]
     },
     "execution_count": 96,
     "metadata": {},
     "output_type": "execute_result"
    }
   ],
   "source": [
    "n = 11\n",
    "n > 10? '10より大きい' : '10以下'"
   ]
  },
  {
   "cell_type": "code",
   "execution_count": 97,
   "metadata": {},
   "outputs": [
    {
     "name": "stdout",
     "output_type": "stream",
     "text": [
      "10より大きい\n"
     ]
    }
   ],
   "source": [
    "n = 11\n",
    "message = n > 10 ? '10より大きい' : '10以下'\n",
    "puts message"
   ]
  },
  {
   "cell_type": "markdown",
   "metadata": {},
   "source": [
    "<h1><a id='anchor7'>2.11 メソッド定義についてもっと詳しく</a></h1>"
   ]
  },
  {
   "cell_type": "code",
   "execution_count": 1,
   "metadata": {},
   "outputs": [
    {
     "data": {
      "text/plain": [
       ":greeting"
      ]
     },
     "execution_count": 1,
     "metadata": {},
     "output_type": "execute_result"
    }
   ],
   "source": [
    "def greeting(country)\n",
    "  if country == 'japan'\n",
    "    'こんにちは'\n",
    "  else\n",
    "    'Hello'\n",
    "  end\n",
    "end\n"
   ]
  },
  {
   "cell_type": "code",
   "execution_count": 3,
   "metadata": {},
   "outputs": [
    {
     "data": {
      "text/plain": [
       "\"こんにちは\""
      ]
     },
     "execution_count": 3,
     "metadata": {},
     "output_type": "execute_result"
    }
   ],
   "source": [
    "greeting('japan')"
   ]
  },
  {
   "cell_type": "markdown",
   "metadata": {},
   "source": [
    "### 2.11.2 ?で終わるメソッド\n",
    "　Rubyのメソッド名は？や！で終わらせることができる。？で終わるメソッドは慣習として真偽値を返すメソッドになっている。"
   ]
  },
  {
   "cell_type": "code",
   "execution_count": 5,
   "metadata": {},
   "outputs": [
    {
     "name": "stdout",
     "output_type": "stream",
     "text": [
      "true\n",
      "false\n"
     ]
    }
   ],
   "source": [
    "# 空文字列であればtrue, そうでなければfalse\n",
    "puts ''.empty?\n",
    "puts 'abc'.empty?"
   ]
  },
  {
   "cell_type": "code",
   "execution_count": 6,
   "metadata": {},
   "outputs": [
    {
     "name": "stdout",
     "output_type": "stream",
     "text": [
      "true\n",
      "false\n"
     ]
    }
   ],
   "source": [
    "# 引数の文字列が含まれていればtrue,そうでなければfalse\n",
    "puts 'watch'.include?('at')\n",
    "puts 'watch'.include?('in')"
   ]
  },
  {
   "cell_type": "code",
   "execution_count": 7,
   "metadata": {},
   "outputs": [
    {
     "name": "stdout",
     "output_type": "stream",
     "text": [
      "true\n",
      "false\n"
     ]
    }
   ],
   "source": [
    "# 奇数ならtrue, 偶数ならfalse\n",
    "puts 1.odd?\n",
    "puts 2.odd?"
   ]
  },
  {
   "cell_type": "code",
   "execution_count": 9,
   "metadata": {},
   "outputs": [
    {
     "name": "stdout",
     "output_type": "stream",
     "text": [
      "true\n",
      "false\n",
      "false\n"
     ]
    }
   ],
   "source": [
    "# オブジェクトがnilならtrue, そうでなければfalse\n",
    "puts nil.nil?\n",
    "puts 'abc'.nil?\n",
    "puts 1.nil?"
   ]
  },
  {
   "cell_type": "code",
   "execution_count": 11,
   "metadata": {},
   "outputs": [
    {
     "name": "stdout",
     "output_type": "stream",
     "text": [
      "false\n",
      "false\n",
      "true\n"
     ]
    }
   ],
   "source": [
    "# 3の倍数ならtrue, それ以外はfalseを返す\n",
    "def multiple_of_three?(n)\n",
    "  n % 3 == 0\n",
    "end\n",
    "\n",
    "puts multiple_of_three?(4)\n",
    "puts multiple_of_three?(5)\n",
    "puts multiple_of_three?(6)"
   ]
  },
  {
   "cell_type": "markdown",
   "metadata": {},
   "source": [
    "### 2.11.3 !で終わるメソッド"
   ]
  },
  {
   "cell_type": "markdown",
   "metadata": {},
   "source": [
    "!で終わるメソッドは慣習として「使用する際は注意が必要」という意味を持つ。たとえば、Stringクラスにはupcaseメソッドとupcase!メソッドという２つのメソッドがある。どちらも文字列を大文字にするメソッドだが、upcaseメソッドは大文字に変えた新しい文字列を返し、呼び出した文字列自身は変化しない。それに対し、upcase!メソッドは呼び出した文字列自身を大文字に変更する。"
   ]
  },
  {
   "cell_type": "code",
   "execution_count": 13,
   "metadata": {},
   "outputs": [
    {
     "name": "stdout",
     "output_type": "stream",
     "text": [
      "RUBY\n",
      "ruby\n"
     ]
    }
   ],
   "source": [
    "a = 'ruby'\n",
    "\n",
    "# upcaseだと変数aの値は変化しない\n",
    "puts a.upcase\n",
    "puts a"
   ]
  },
  {
   "cell_type": "code",
   "execution_count": 15,
   "metadata": {},
   "outputs": [
    {
     "name": "stdout",
     "output_type": "stream",
     "text": [
      "RUBY\n",
      "RUBY\n"
     ]
    }
   ],
   "source": [
    "a = 'ruby'\n",
    "\n",
    "# upcase!だと変数aの値も大文字に変わる\n",
    "puts a.upcase!\n",
    "puts a"
   ]
  },
  {
   "cell_type": "markdown",
   "metadata": {},
   "source": [
    "なおupcase!メソッドのように、呼び出したオブジェクトの状態を変更してしまうメソッドのことを破壊的メソッドと呼ぶ。"
   ]
  },
  {
   "cell_type": "markdown",
   "metadata": {},
   "source": [
    "<h1><a id='anchor8'>2.12 その他の基礎知識</a></h1>"
   ]
  },
  {
   "cell_type": "code",
   "execution_count": 23,
   "metadata": {},
   "outputs": [
    {
     "name": "stdout",
     "output_type": "stream",
     "text": [
      "foo\n"
     ]
    }
   ],
   "source": [
    "b = def foo; end\n",
    "puts b"
   ]
  },
  {
   "cell_type": "code",
   "execution_count": null,
   "metadata": {},
   "outputs": [],
   "source": []
  },
  {
   "cell_type": "code",
   "execution_count": null,
   "metadata": {},
   "outputs": [],
   "source": []
  }
 ],
 "metadata": {
  "kernelspec": {
   "display_name": "Ruby 2.5.5",
   "language": "ruby",
   "name": "ruby"
  },
  "language_info": {
   "file_extension": ".rb",
   "mimetype": "application/x-ruby",
   "name": "ruby",
   "version": "2.5.5"
  }
 },
 "nbformat": 4,
 "nbformat_minor": 2
}
