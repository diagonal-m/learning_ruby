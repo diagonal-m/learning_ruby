{
 "cells": [
  {
   "cell_type": "markdown",
   "metadata": {},
   "source": [
    "## 目次\n",
    "3.1. [イントロダクション](#anchor1)  \n",
    "3.1. [Minitestの基本](#anchor2)"
   ]
  },
  {
   "cell_type": "markdown",
   "metadata": {},
   "source": [
    "<h1><a id='anchor1'>3.1 イントロダクション</a></h1>"
   ]
  },
  {
   "cell_type": "markdown",
   "metadata": {},
   "source": [
    "### 3.1.2 「プログラマの三大美徳」\n",
    "- 怠惰: 「全体の労力を減らすために手間(つまりプログラムを書いたり、コードを改善したりすること)を惜しまない気質」を指す。\n",
    "- 短気: 「コンピュータの動作が怠慢なとき(つまりプログラムの品質が悪いとき)に感じる怒り」を指す。\n",
    "- 傲慢: 「自分の書いたプログラムは誰に見せても恥ずかしくないと胸を張って言える自尊心」を指す。"
   ]
  },
  {
   "cell_type": "markdown",
   "metadata": {},
   "source": [
    "<h1><a id='anchor2'>3.2 Minitestの基本</a></h1>"
   ]
  },
  {
   "cell_type": "markdown",
   "metadata": {},
   "source": [
    "**テストの手順**\n",
    "1. テスティングフレームワークのルールに沿って、プログラムの実行結果を検証するRubyプログラム(テストコード)を書く。\n",
    "2. 上記1. で作ったテストコードを実行する\n",
    "3. テスティングフレームワークが実行結果をチェックし、その結果が正しいか間違っているかを報告する"
   ]
  },
  {
   "cell_type": "markdown",
   "metadata": {},
   "source": [
    "### 3.2.1 テストコードの雛形\n",
    "Minitestを使ったテストコードの基本系は以下のようになる"
   ]
  },
  {
   "cell_type": "code",
   "execution_count": 4,
   "metadata": {},
   "outputs": [
    {
     "data": {
      "text/plain": [
       ":test_sample"
      ]
     },
     "execution_count": 4,
     "metadata": {},
     "output_type": "execute_result"
    }
   ],
   "source": [
    "require 'minitest/autorun'\n",
    "\n",
    "class SampleTest < Minitest::Test\n",
    "  \"\"\"Minitest::Testクラスを継承して、SampleTestクラスを作成\"\"\"\n",
    "  def test_sample\n",
    "    \"\"\"テストメソッド\"\"\"\n",
    "    # assert_equal 期待する結果, テスト対象となる値や式\n",
    "    assert_equal 'RUBY', 'ruby'.upcase\n",
    "  end\n",
    "end"
   ]
  },
  {
   "cell_type": "markdown",
   "metadata": {},
   "source": [
    "Minitestは`test_`で始まるメソッドを探して、それを実行する。なので、メソッド名を`test_`で始めることが必須になる。"
   ]
  },
  {
   "cell_type": "code",
   "execution_count": null,
   "metadata": {},
   "outputs": [],
   "source": []
  }
 ],
 "metadata": {
  "kernelspec": {
   "display_name": "Ruby 2.5.5",
   "language": "ruby",
   "name": "ruby"
  },
  "language_info": {
   "file_extension": ".rb",
   "mimetype": "application/x-ruby",
   "name": "ruby",
   "version": "2.5.5"
  }
 },
 "nbformat": 4,
 "nbformat_minor": 2
}
