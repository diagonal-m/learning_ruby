{
 "cells": [
  {
   "cell_type": "markdown",
   "metadata": {},
   "source": [
    "## 目次\n",
    "- 4.2. [配列](#anchor1)  \n",
    "- 4.3. [ブロック](#anchor2)  \n",
    "- 4.4. [ブロックを使う配列のメソッド](#anchor3)\n",
    "- 4.5. [範囲(Range)](#anchor4)  \n",
    "- 4.7. [配列についてもっと詳しく](#anchor5)  \n",
    "- 4.8. [ブロックについてもっと詳しく](#anchor6)  \n",
    "- 4.9. [さまざまな繰返し処理](#anchor7)  \n",
    "- 4.10. [繰り返し処理用の制御構造](#anchor8)  "
   ]
  },
  {
   "cell_type": "markdown",
   "metadata": {},
   "source": [
    "<h1><a id='anchor1'>4.2 配列</a></h1>"
   ]
  },
  {
   "cell_type": "code",
   "execution_count": 3,
   "metadata": {},
   "outputs": [
    {
     "data": {
      "text/plain": [
       "Array"
      ]
     },
     "execution_count": 3,
     "metadata": {},
     "output_type": "execute_result"
    }
   ],
   "source": [
    "[].class"
   ]
  },
  {
   "cell_type": "code",
   "execution_count": 4,
   "metadata": {},
   "outputs": [
    {
     "data": {
      "text/plain": [
       "[1, 2, 3]"
      ]
     },
     "execution_count": 4,
     "metadata": {},
     "output_type": "execute_result"
    }
   ],
   "source": [
    "a = [1, 2, 3]"
   ]
  },
  {
   "cell_type": "code",
   "execution_count": 5,
   "metadata": {},
   "outputs": [
    {
     "data": {
      "text/plain": [
       "[\"apple\", \"orange\", \"melon\"]"
      ]
     },
     "execution_count": 5,
     "metadata": {},
     "output_type": "execute_result"
    }
   ],
   "source": [
    "a = ['apple', 'orange', 'melon']"
   ]
  },
  {
   "cell_type": "code",
   "execution_count": 10,
   "metadata": {},
   "outputs": [
    {
     "name": "stdout",
     "output_type": "stream",
     "text": [
      "true\n"
     ]
    }
   ],
   "source": [
    "# 存在しない要素を指定してもエラーにならずnilが返る\n",
    "a = [1, 2, 3]\n",
    "puts a[100].nil?"
   ]
  },
  {
   "cell_type": "code",
   "execution_count": 12,
   "metadata": {},
   "outputs": [
    {
     "name": "stdout",
     "output_type": "stream",
     "text": [
      "3\n",
      "3\n"
     ]
    }
   ],
   "source": [
    "a = [1, 2, 3]\n",
    "puts a.size()\n",
    "puts a.length()"
   ]
  },
  {
   "cell_type": "markdown",
   "metadata": {},
   "source": [
    "### 4.2.1 要素の変更、追加、削除"
   ]
  },
  {
   "cell_type": "code",
   "execution_count": 14,
   "metadata": {},
   "outputs": [
    {
     "name": "stdout",
     "output_type": "stream",
     "text": [
      "[1, 20, 3]\n"
     ]
    }
   ],
   "source": [
    "a = [1, 2, 3]\n",
    "a[1] = 20\n",
    "puts a"
   ]
  },
  {
   "cell_type": "code",
   "execution_count": 15,
   "metadata": {},
   "outputs": [
    {
     "name": "stdout",
     "output_type": "stream",
     "text": [
      "[1, 2, 3, nil, nil, 50]\n"
     ]
    }
   ],
   "source": [
    "a = [1, 2, 3]\n",
    "a[5] = 50\n",
    "puts a"
   ]
  },
  {
   "cell_type": "code",
   "execution_count": 17,
   "metadata": {},
   "outputs": [
    {
     "name": "stdout",
     "output_type": "stream",
     "text": [
      "[1, 2, 3, 50]\n",
      "[1, 2, 3, 50, 100, 150]\n"
     ]
    }
   ],
   "source": [
    "a = [1, 2, 3]\n",
    "a << 50\n",
    "puts a  #=> [1, 2, 3, 50]\n",
    "a << 100\n",
    "a << 150\n",
    "puts a  #=> [1, 2, 3, 50, 100, 150]"
   ]
  },
  {
   "cell_type": "code",
   "execution_count": 18,
   "metadata": {},
   "outputs": [
    {
     "name": "stdout",
     "output_type": "stream",
     "text": [
      "[1, 3, 50, 100, 150]\n"
     ]
    }
   ],
   "source": [
    "a = [1, 2, 3, 50, 100, 150]\n",
    "# 2番目の要素を削除する(削除した値が戻り値になる)\n",
    "a.delete_at(1)  #=> 2\n",
    "puts a  #=> []"
   ]
  },
  {
   "cell_type": "code",
   "execution_count": 19,
   "metadata": {},
   "outputs": [
    {
     "name": "stdout",
     "output_type": "stream",
     "text": [
      "[1, 3, 50, 100, 150]\n"
     ]
    }
   ],
   "source": [
    "# 存在しない添字を指定するとnilが返る\n",
    "a.delete_at(100)  #=> nil\n",
    "puts a"
   ]
  },
  {
   "cell_type": "code",
   "execution_count": 20,
   "metadata": {},
   "outputs": [
    {
     "data": {
      "text/plain": [
       "[1, 2, 3]"
      ]
     },
     "execution_count": 20,
     "metadata": {},
     "output_type": "execute_result"
    }
   ],
   "source": [
    "a, b = [1, 2, 3]"
   ]
  },
  {
   "cell_type": "code",
   "execution_count": 25,
   "metadata": {},
   "outputs": [
    {
     "data": {
      "text/plain": [
       "[4, 2]"
      ]
     },
     "execution_count": 25,
     "metadata": {},
     "output_type": "execute_result"
    }
   ],
   "source": [
    "# divmodは商と余りを配列で返す\n",
    "14.divmod(3)"
   ]
  },
  {
   "cell_type": "code",
   "execution_count": 26,
   "metadata": {},
   "outputs": [
    {
     "name": "stdout",
     "output_type": "stream",
     "text": [
      "商=4, 余り=2\n"
     ]
    }
   ],
   "source": [
    "# 戻り値を配列のまま受け取る\n",
    "quo_rem = 14.divmod(3)\n",
    "puts \"商=#{quo_rem[0]}, 余り=#{quo_rem[1]}\""
   ]
  },
  {
   "cell_type": "markdown",
   "metadata": {},
   "source": [
    "<h1><a id='anchor2'>4.3 ブロック</a></h1>"
   ]
  },
  {
   "cell_type": "markdown",
   "metadata": {},
   "source": [
    "### 4.3.2 Rubyの繰り返し処理\n",
    "　　Rubyにもfor文はある。ほとんどのRubyプログラマはfor文を使わない。Rubyの場合はforのような構文で繰り返し処理をさせるのではなく、配列自身に対して「繰り返せ」という命令を送る。ここで登場するのがeachメソッドです。"
   ]
  },
  {
   "cell_type": "code",
   "execution_count": 28,
   "metadata": {},
   "outputs": [
    {
     "name": "stdout",
     "output_type": "stream",
     "text": [
      "10\n"
     ]
    }
   ],
   "source": [
    "numbers = [1, 2, 3, 4]\n",
    "sum = 0\n",
    "numbers.each do | n |\n",
    "  sum += n\n",
    "end\n",
    "puts sum"
   ]
  },
  {
   "cell_type": "code",
   "execution_count": 29,
   "metadata": {},
   "outputs": [
    {
     "name": "stdout",
     "output_type": "stream",
     "text": [
      "[2, 2]\n"
     ]
    }
   ],
   "source": [
    "a = [1, 2, 3, 1, 2, 3]\n",
    "# 配列から値が奇数の要素を削除する\n",
    "# delete_ifメソッドはブロックの戻り値が真であれば、ブロックに渡した要素を配列から削除する\n",
    "a.delete_if do | n |\n",
    "  n.odd?\n",
    "end\n",
    "\n",
    "puts a"
   ]
  },
  {
   "cell_type": "code",
   "execution_count": 57,
   "metadata": {},
   "outputs": [
    {
     "name": "stdout",
     "output_type": "stream",
     "text": [
      "[2, 2]\n"
     ]
    }
   ],
   "source": [
    "numbers = [1, 2, 3, 1, 2, 3]\n",
    "del_numbers = numbers.delete_if { | n | n.odd?}\n",
    "puts del_numbers"
   ]
  },
  {
   "cell_type": "markdown",
   "metadata": {},
   "source": [
    "### 4.3.5 do ... endと{}"
   ]
  },
  {
   "cell_type": "code",
   "execution_count": 30,
   "metadata": {},
   "outputs": [
    {
     "data": {
      "text/plain": [
       "[1, 2, 3, 4]"
      ]
     },
     "execution_count": 30,
     "metadata": {},
     "output_type": "execute_result"
    }
   ],
   "source": [
    "numbers = [1, 2, 3, 4]\n",
    "sum = 0\n",
    "numbers.each do | n | sum += n end"
   ]
  },
  {
   "cell_type": "code",
   "execution_count": 34,
   "metadata": {},
   "outputs": [
    {
     "name": "stdout",
     "output_type": "stream",
     "text": [
      "10\n"
     ]
    }
   ],
   "source": [
    "numbers = [1, 2, 3, 4]\n",
    "sum = 0\n",
    "\n",
    "# do ... endの代わりに{}を使う\n",
    "numbers.each {  | n | sum += n}\n",
    "puts sum"
   ]
  },
  {
   "cell_type": "code",
   "execution_count": 37,
   "metadata": {},
   "outputs": [
    {
     "data": {
      "text/plain": [
       "[1, 2, 3, 4]"
      ]
     },
     "execution_count": 37,
     "metadata": {},
     "output_type": "execute_result"
    }
   ],
   "source": [
    "numbers = [1, 2, 3, 4]\n",
    "sum = 0\n",
    "numbers.each { |n| sum += n if n.odd?}"
   ]
  },
  {
   "cell_type": "markdown",
   "metadata": {},
   "source": [
    "<h1><a id='anchor3'>4.4 ブロックを使う配列のメソッド</a></h1>\n",
    "\n",
    "ブロックのを使う配列のメソッドのうち、使用頻度の高いメソッドを紹介する"
   ]
  },
  {
   "cell_type": "markdown",
   "metadata": {},
   "source": [
    "### 4.4.1 map/collect\n",
    "mapメソッドは各要素に対してブロックを評価した結果を新しい配列にして返す。"
   ]
  },
  {
   "cell_type": "code",
   "execution_count": 39,
   "metadata": {},
   "outputs": [
    {
     "name": "stdout",
     "output_type": "stream",
     "text": [
      "[10, 20, 30, 40, 50]\n"
     ]
    }
   ],
   "source": [
    "numbers = [1, 2, 3, 4, 5]\n",
    "new_numbers = []\n",
    "numbers.each {| n | new_numbers << n * 10}\n",
    "puts new_numbers"
   ]
  },
  {
   "cell_type": "markdown",
   "metadata": {},
   "source": [
    "mapメソッドを使うとブロックの戻り値が配列の要素となる新しい配列が作成されるため、mapメソッドの戻り値をそのまま新しい変数に入れることができる。"
   ]
  },
  {
   "cell_type": "code",
   "execution_count": 40,
   "metadata": {},
   "outputs": [
    {
     "name": "stdout",
     "output_type": "stream",
     "text": [
      "[10, 20, 30, 40, 50]\n"
     ]
    }
   ],
   "source": [
    "numbers = [1, 2, 3, 4, 5]\n",
    "# ブロックの戻り値が新しい配列の各要素になる\n",
    "new_numbers = numbers.map {| n | n * 10}\n",
    "puts new_numbers"
   ]
  },
  {
   "cell_type": "markdown",
   "metadata": {},
   "source": [
    "### 4.4.2 select/find_all/reject\n",
    "selectメソッドは各要素に対してブロックを評価し、その戻り値が真の要素を集めた配列を返すメソッドである。"
   ]
  },
  {
   "cell_type": "code",
   "execution_count": 43,
   "metadata": {},
   "outputs": [
    {
     "name": "stdout",
     "output_type": "stream",
     "text": [
      "[2, 4, 6]\n"
     ]
    }
   ],
   "source": [
    "numbers = [1, 2, 3, 4, 5, 6]\n",
    "# ブロックの戻り値が真になった要素だけが集められる\n",
    "even_numbers = numbers.select { | n | n.even? }\n",
    "puts even_numbers"
   ]
  },
  {
   "cell_type": "markdown",
   "metadata": {},
   "source": [
    "rejectメソッドはselectメソッドの反対で、ブロックの戻り値が真になった要素を除外した配列を作成する。"
   ]
  },
  {
   "cell_type": "code",
   "execution_count": 44,
   "metadata": {},
   "outputs": [
    {
     "name": "stdout",
     "output_type": "stream",
     "text": [
      "[1, 2, 4, 5]\n"
     ]
    }
   ],
   "source": [
    "numbers = [1, 2, 3, 4, 5, 6]\n",
    "# 3の倍数を除外する(3の倍数以外を集める)\n",
    "non_multiples_of_three = numbers.reject {| n | n % 3 == 0}\n",
    "puts non_multiples_of_three"
   ]
  },
  {
   "cell_type": "markdown",
   "metadata": {},
   "source": [
    "### 4.4.3 find/detect\n",
    "findメソッドはブロックの戻り値が真になった最初の要素を返す。"
   ]
  },
  {
   "cell_type": "code",
   "execution_count": 46,
   "metadata": {},
   "outputs": [
    {
     "name": "stdout",
     "output_type": "stream",
     "text": [
      "2\n"
     ]
    }
   ],
   "source": [
    "numbers = [1, 2, 3, 4, 5, 6]\n",
    "# ブロックの戻り値が最初に真になった要素を返す\n",
    "even_number = numbers.find { |n| n.even? }\n",
    "puts even_number"
   ]
  },
  {
   "cell_type": "markdown",
   "metadata": {},
   "source": [
    "### 4.4.4 inject/reduce\n",
    "injectメソッドは畳み込み演算を行うメソッドである。"
   ]
  },
  {
   "cell_type": "code",
   "execution_count": 49,
   "metadata": {},
   "outputs": [
    {
     "name": "stdout",
     "output_type": "stream",
     "text": [
      "10\n"
     ]
    }
   ],
   "source": [
    "numbers = [1, 2, 3, 4]\n",
    "sum = 0\n",
    "numbers.each { | n | sum += n}\n",
    "puts sum"
   ]
  },
  {
   "cell_type": "markdown",
   "metadata": {},
   "source": [
    "上のコードはinjectメソッドを使うと次のように書くことができる。"
   ]
  },
  {
   "cell_type": "code",
   "execution_count": 52,
   "metadata": {},
   "outputs": [
    {
     "name": "stdout",
     "output_type": "stream",
     "text": [
      "10\n"
     ]
    }
   ],
   "source": [
    "numbers = [1, 2, 3, 4]\n",
    "sum = numbers.inject(0) { | result, n | result + n}\n",
    "puts sum"
   ]
  },
  {
   "cell_type": "markdown",
   "metadata": {},
   "source": [
    "ブロックの第一引数(上記コードのresult)は初回のみinjectメソッドの引数(上記のコードでは0)が入る。2回目以降は前回のブロックの戻り値が入る。\n",
    "ブロックの第二引数(上記コードのn)は配列の各要素が順番い入る。ブロックの戻り値は次の回に引き継がれ、ブロックの第一引数(result)に入る。繰り返し処理が最後まで終わると、ブロックの戻り値がinjectメソッドの戻り値になる。"
   ]
  },
  {
   "cell_type": "markdown",
   "metadata": {},
   "source": [
    "- 1回目: result = 0, n = 1で、0+1=1。これが次のresultに入る\n",
    "- 2回目: result = 1, n = 2で、1+2=3。これが次のresultに入る\n",
    "- 3回目: result = 3, n = 3で、3+3=6。これが次のresultに入る\n",
    "- 4回目: result = 6, n = 4で、6+4=10。最後の要素に達したのでこれがinjectメソッドの戻り値になる。"
   ]
  },
  {
   "cell_type": "markdown",
   "metadata": {},
   "source": [
    "### 4.4.5 &とシンボルを使ってもっと簡潔に書く"
   ]
  },
  {
   "cell_type": "code",
   "execution_count": 53,
   "metadata": {},
   "outputs": [
    {
     "data": {
      "text/plain": [
       "[\"RUBY\", \"JAVA\", \"PERL\"]"
      ]
     },
     "execution_count": 53,
     "metadata": {},
     "output_type": "execute_result"
    }
   ],
   "source": [
    "['ruby', 'java', 'perl'].map { | s | s.upcase }"
   ]
  },
  {
   "cell_type": "code",
   "execution_count": 54,
   "metadata": {},
   "outputs": [
    {
     "data": {
      "text/plain": [
       "[\"RUBY\", \"JAVA\", \"PERL\"]"
      ]
     },
     "execution_count": 54,
     "metadata": {},
     "output_type": "execute_result"
    }
   ],
   "source": [
    "['ruby', 'java', 'perl'].map(&:upcase)"
   ]
  },
  {
   "cell_type": "code",
   "execution_count": 55,
   "metadata": {},
   "outputs": [
    {
     "data": {
      "text/plain": [
       "[1, 3, 5]"
      ]
     },
     "execution_count": 55,
     "metadata": {},
     "output_type": "execute_result"
    }
   ],
   "source": [
    "[1, 2, 3, 4, 5, 6].select { | n | n.odd?}"
   ]
  },
  {
   "cell_type": "code",
   "execution_count": 56,
   "metadata": {},
   "outputs": [
    {
     "data": {
      "text/plain": [
       "[1, 3, 5]"
      ]
     },
     "execution_count": 56,
     "metadata": {},
     "output_type": "execute_result"
    }
   ],
   "source": [
    "[1, 2, 3, 4, 5, 6].select(&:odd?)"
   ]
  },
  {
   "cell_type": "markdown",
   "metadata": {},
   "source": [
    "1. ブロック引数が１個だけである\n",
    "2. ブロックの中で呼び出すメソッドには引数がない\n",
    "3. ブロックの中では、ブロック引数に対してメソッドを１回呼び出す以外の処理がない"
   ]
  },
  {
   "cell_type": "markdown",
   "metadata": {},
   "source": [
    "<h1><a id='anchor4'>4.5 範囲(Range)</a></h1>"
   ]
  },
  {
   "cell_type": "code",
   "execution_count": 64,
   "metadata": {},
   "outputs": [
    {
     "name": "stdout",
     "output_type": "stream",
     "text": [
      "1..5\n",
      "1...5\n",
      "a..e\n",
      "a...e\n"
     ]
    }
   ],
   "source": [
    "puts 1..5\n",
    "puts 1...5\n",
    "puts 'a'..'e'\n",
    "puts 'a'...'e'"
   ]
  },
  {
   "cell_type": "code",
   "execution_count": 65,
   "metadata": {},
   "outputs": [
    {
     "name": "stdout",
     "output_type": "stream",
     "text": [
      "Range\n",
      "Range\n"
     ]
    }
   ],
   "source": [
    "puts (1..5).class\n",
    "puts (1...5).class"
   ]
  },
  {
   "cell_type": "code",
   "execution_count": 70,
   "metadata": {},
   "outputs": [
    {
     "name": "stdout",
     "output_type": "stream",
     "text": [
      "false\n",
      "true\n",
      "true\n",
      "true\n",
      "false\n"
     ]
    }
   ],
   "source": [
    "# ..を使うと5が半に含まれる(1以上5以下)\n",
    "range = 1..5\n",
    "puts range.include?(0)\n",
    "puts range.include?(1)\n",
    "puts range.include?(4.9)\n",
    "puts range.include?(5)\n",
    "puts range.include?(6)"
   ]
  },
  {
   "cell_type": "code",
   "execution_count": 71,
   "metadata": {},
   "outputs": [
    {
     "name": "stdout",
     "output_type": "stream",
     "text": [
      "false\n",
      "true\n",
      "true\n",
      "false\n",
      "false\n"
     ]
    }
   ],
   "source": [
    "range = 1...5\n",
    "puts range.include?(0)\n",
    "puts range.include?(1)\n",
    "puts range.include?(4.9)\n",
    "puts range.include?(5)\n",
    "puts range.include?(6)"
   ]
  },
  {
   "cell_type": "markdown",
   "metadata": {},
   "source": [
    "### 4.5.1 配列や文字列の一部を抜き出す\n",
    "　配列に対して添字の代わりに範囲オブジェクトを渡すと、指定した範囲の要素を取得することができる。"
   ]
  },
  {
   "cell_type": "code",
   "execution_count": 73,
   "metadata": {},
   "outputs": [
    {
     "name": "stdout",
     "output_type": "stream",
     "text": [
      "[2, 3, 4]\n"
     ]
    }
   ],
   "source": [
    "a = [1, 2, 3, 4, 5]\n",
    "# 2番目から４番目までの要素を取得する\n",
    "puts a[1..3]"
   ]
  },
  {
   "cell_type": "code",
   "execution_count": 74,
   "metadata": {},
   "outputs": [
    {
     "name": "stdout",
     "output_type": "stream",
     "text": [
      "bcd\n"
     ]
    }
   ],
   "source": [
    "a = 'abcdef'\n",
    "# 2番目から４番目までの要素を取得する\n",
    "puts a[1..3]"
   ]
  },
  {
   "cell_type": "markdown",
   "metadata": {},
   "source": [
    "### 4.5.2 n以上m以下、n以上m未満の判定をする\n",
    "n以上m以下、n以上m未満の判定をしたい場合は、<や>=のような記号(不等号)を使うよりも範囲オブジェクトを使ったほうがシンプルにかける。"
   ]
  },
  {
   "cell_type": "code",
   "execution_count": 76,
   "metadata": {},
   "outputs": [
    {
     "name": "stdout",
     "output_type": "stream",
     "text": [
      "false\n",
      "true\n",
      "true\n",
      "false\n"
     ]
    }
   ],
   "source": [
    "# 不等号を使う場合\n",
    "def liquid?(temperature)\n",
    "  # 0度以上100度未満であれば液体、と判定したい\n",
    "  0 <= temperature && temperature < 100\n",
    "end\n",
    "\n",
    "puts liquid?(-1)\n",
    "puts liquid?(0)\n",
    "puts liquid?(99)\n",
    "puts liquid?(100)"
   ]
  },
  {
   "cell_type": "code",
   "execution_count": 78,
   "metadata": {},
   "outputs": [
    {
     "name": "stdout",
     "output_type": "stream",
     "text": [
      "false\n",
      "true\n",
      "true\n",
      "false\n"
     ]
    }
   ],
   "source": [
    "# 範囲オブジェクトを使う場合\n",
    "def liquid?(temperature)\n",
    "  (0...100).include?(temperature)\n",
    "end\n",
    "\n",
    "puts liquid?(-1)\n",
    "puts liquid?(0)\n",
    "puts liquid?(99)\n",
    "puts liquid?(100)"
   ]
  },
  {
   "cell_type": "markdown",
   "metadata": {},
   "source": [
    "### 4.5.3 case文を使う\n",
    "範囲オブジェクトはcase文と組み合わせることもできる。次のコードは年齢に応じて料金を判定するメソッドの実装例。"
   ]
  },
  {
   "cell_type": "code",
   "execution_count": 80,
   "metadata": {},
   "outputs": [
    {
     "name": "stdout",
     "output_type": "stream",
     "text": [
      "0\n",
      "300\n",
      "600\n",
      "1000\n"
     ]
    }
   ],
   "source": [
    "def charge(age)\n",
    "  case age\n",
    "    # 0歳から5歳までの場合\n",
    "    when 0..5 then 0\n",
    "    # 6歳から12歳までの場合\n",
    "    when 6..12 then 300\n",
    "    # 13歳から18歳までの場合\n",
    "    when 13..18 then 600\n",
    "    # それ以外の場合\n",
    "    else 1000\n",
    "  end\n",
    "end\n",
    "\n",
    "      \n",
    "puts charge(3)\n",
    "puts charge(12)\n",
    "puts charge(16)\n",
    "puts charge(25)"
   ]
  },
  {
   "cell_type": "markdown",
   "metadata": {},
   "source": [
    "### 4.5.4 値が連続する配列を作成する\n",
    "範囲オブジェクトに対してto_aメソッドを呼び出すと、値が連続する配列を作成することができる"
   ]
  },
  {
   "cell_type": "code",
   "execution_count": 92,
   "metadata": {},
   "outputs": [
    {
     "name": "stdout",
     "output_type": "stream",
     "text": [
      "[1, 2, 3, 4, 5]\n",
      "[1, 2, 3, 4]\n",
      "[\"a\", \"b\", \"c\", \"d\", \"e\"]\n",
      "[\"a\", \"b\", \"c\", \"d\"]\n",
      "[\"bad\", \"bae\", \"baf\", \"bag\"]\n",
      "[\"bad\", \"bae\", \"baf\"]\n"
     ]
    }
   ],
   "source": [
    "puts (1..5).to_a\n",
    "puts (1...5).to_a\n",
    "\n",
    "puts ('a'..'e').to_a\n",
    "puts ('a'...'e').to_a\n",
    "\n",
    "puts ('bad'..'bag').to_a\n",
    "puts ('bad'...'bag').to_a"
   ]
  },
  {
   "cell_type": "markdown",
   "metadata": {},
   "source": [
    "[]の中に\\*と範囲オブジェクトを書いても同じように配列を作ることができる(\\*を使って複数の値を配列に展開することをsplat展開という)"
   ]
  },
  {
   "cell_type": "code",
   "execution_count": 93,
   "metadata": {},
   "outputs": [
    {
     "name": "stdout",
     "output_type": "stream",
     "text": [
      "[1, 2, 3, 4, 5]\n",
      "[1, 2, 3, 4]\n"
     ]
    }
   ],
   "source": [
    "puts [*1..5]\n",
    "puts [*1...5]"
   ]
  },
  {
   "cell_type": "markdown",
   "metadata": {},
   "source": [
    "### 4.5.5 繰り返し処理を行う\n",
    "範囲オブジェクトを配列に変換すれば、配列として繰り返し処理を行うことができる。"
   ]
  },
  {
   "cell_type": "code",
   "execution_count": 94,
   "metadata": {},
   "outputs": [
    {
     "name": "stdout",
     "output_type": "stream",
     "text": [
      "10\n"
     ]
    }
   ],
   "source": [
    "# 範囲オブジェクトを配列に変換してから繰り返し処理を行う\n",
    "numbers = (1..4).to_a\n",
    "sum = 0\n",
    "numbers.each { | n | sum += n}\n",
    "puts sum"
   ]
  },
  {
   "cell_type": "code",
   "execution_count": 95,
   "metadata": {},
   "outputs": [
    {
     "name": "stdout",
     "output_type": "stream",
     "text": [
      "10\n"
     ]
    }
   ],
   "source": [
    "sum = 0\n",
    "# 範囲オブジェクトに対して直接eachメソッドを呼び出す\n",
    "(1..4).each {| n | sum += n}\n",
    "puts sum"
   ]
  },
  {
   "cell_type": "code",
   "execution_count": 96,
   "metadata": {},
   "outputs": [
    {
     "name": "stdout",
     "output_type": "stream",
     "text": [
      "[1, 3, 5, 7, 9]\n"
     ]
    }
   ],
   "source": [
    "numbers = []\n",
    "# 1から10まで2つ飛ばしで繰り返し処理を行う\n",
    "(1..10).step(2) { | n | numbers << n}\n",
    "puts numbers"
   ]
  },
  {
   "cell_type": "markdown",
   "metadata": {},
   "source": [
    "<h1><a id='anchor5'>4.7 配列についてもっと詳しく</a></h1>"
   ]
  },
  {
   "cell_type": "code",
   "execution_count": 3,
   "metadata": {},
   "outputs": [
    {
     "name": "stdout",
     "output_type": "stream",
     "text": [
      "[3, 4, 5]\n"
     ]
    }
   ],
   "source": [
    "# Array[位置, 取得する長さ]\n",
    "a = [1, 2, 3, 4, 5]\n",
    "puts a[2, 3]"
   ]
  },
  {
   "cell_type": "code",
   "execution_count": 8,
   "metadata": {},
   "outputs": [
    {
     "name": "stdout",
     "output_type": "stream",
     "text": [
      "[1, 3, 5]\n",
      "[1, 3, 5]\n"
     ]
    }
   ],
   "source": [
    "# 取得したい要素の添字を複数指定できる\n",
    "a = [1, 2, 3, 4, 5]\n",
    "puts a.values_at(0, 2, 4)\n",
    "puts a.values_at(*[0, 2, 4])"
   ]
  },
  {
   "cell_type": "code",
   "execution_count": 9,
   "metadata": {},
   "outputs": [
    {
     "data": {
      "text/plain": [
       "3"
      ]
     },
     "execution_count": 9,
     "metadata": {},
     "output_type": "execute_result"
    }
   ],
   "source": [
    "a = [1, 2, 3]\n",
    "# 最後の要素を取得する\n",
    "a[a.size - 1]"
   ]
  },
  {
   "cell_type": "code",
   "execution_count": 12,
   "metadata": {},
   "outputs": [
    {
     "name": "stdout",
     "output_type": "stream",
     "text": [
      "3\n",
      "2\n",
      "[2, 3]\n"
     ]
    }
   ],
   "source": [
    "a = [1, 2, 3]\n",
    "# 最後の要素を取得する\n",
    "puts a[-1]\n",
    "\n",
    "# 最後から２番目の要素を取得する\n",
    "puts a[-2]\n",
    "\n",
    "# 最後から２番目の要素から２つの要素を取得する\n",
    "puts a[-2, 2]"
   ]
  },
  {
   "cell_type": "code",
   "execution_count": 13,
   "metadata": {},
   "outputs": [
    {
     "name": "stdout",
     "output_type": "stream",
     "text": [
      "3\n",
      "[2, 3]\n"
     ]
    }
   ],
   "source": [
    "a = [1, 2, 3]\n",
    "puts a.last\n",
    "puts a.last(2)"
   ]
  },
  {
   "cell_type": "code",
   "execution_count": 14,
   "metadata": {},
   "outputs": [
    {
     "name": "stdout",
     "output_type": "stream",
     "text": [
      "1\n",
      "[1, 2]\n"
     ]
    }
   ],
   "source": [
    "a = [1, 2, 3]\n",
    "puts a.first\n",
    "puts a.first(2)"
   ]
  },
  {
   "cell_type": "markdown",
   "metadata": {},
   "source": [
    "### 4.7.2 さまざまな要素の変更方法\n",
    "値を変更する場合も負の添字が使える。ただし、正の値を使う場合と異なり、元の大きさを超えるような添字を指定するとエラーになる。"
   ]
  },
  {
   "cell_type": "code",
   "execution_count": 15,
   "metadata": {},
   "outputs": [
    {
     "name": "stdout",
     "output_type": "stream",
     "text": [
      "[10, 2, 3]\n"
     ]
    }
   ],
   "source": [
    "a = [1, 2, 3]\n",
    "a[-3] = 10\n",
    "puts a"
   ]
  },
  {
   "cell_type": "code",
   "execution_count": 17,
   "metadata": {},
   "outputs": [],
   "source": [
    "# 指定可能な負の値よりも小さくなるとエラーが発生する\n",
    "a[-4] = 0  #=> IndexError: index -4 too small for array; minimum: -3"
   ]
  },
  {
   "cell_type": "code",
   "execution_count": 18,
   "metadata": {},
   "outputs": [
    {
     "name": "stdout",
     "output_type": "stream",
     "text": [
      "[1, 100, 5]\n"
     ]
    }
   ],
   "source": [
    "a = [1, 2, 3, 4, 5]\n",
    "# 2つめから３要素分を100で置き換える\n",
    "a[1, 3] = 100\n",
    "puts a"
   ]
  },
  {
   "cell_type": "markdown",
   "metadata": {},
   "source": [
    "<< だけでなく、pushメソッドを使っても要素を追加できる。pushメソッドの場合は複数の値を追加することができる。"
   ]
  },
  {
   "cell_type": "code",
   "execution_count": 20,
   "metadata": {},
   "outputs": [
    {
     "name": "stdout",
     "output_type": "stream",
     "text": [
      "[1]\n",
      "[1, 2, 3]\n"
     ]
    }
   ],
   "source": [
    "a = []\n",
    "a.push(1)\n",
    "puts a\n",
    "a.push(2, 3)\n",
    "puts a"
   ]
  },
  {
   "cell_type": "code",
   "execution_count": 19,
   "metadata": {},
   "outputs": [
    {
     "name": "stdout",
     "output_type": "stream",
     "text": [
      "[1, 3, 1, 3]\n"
     ]
    }
   ],
   "source": [
    "a = [1, 2, 3, 1, 2, 3]\n",
    "# 値が２である要素を削除する(削除した値が戻り値になる)\n",
    "a.delete(2)\n",
    "puts a"
   ]
  },
  {
   "cell_type": "markdown",
   "metadata": {},
   "source": [
    "指定した値に一致する要素を削除したい場合はdeleteメソッドを使う"
   ]
  },
  {
   "cell_type": "code",
   "execution_count": 22,
   "metadata": {},
   "outputs": [
    {
     "name": "stdout",
     "output_type": "stream",
     "text": [
      "[1, 3, 1, 3]\n",
      "[1, 3, 1, 3]\n"
     ]
    }
   ],
   "source": [
    "a = [1, 2, 3, 1, 2, 3]\n",
    "# 値が2である要素を削除する(削除した値が戻り値になる)\n",
    "a.delete(2)\n",
    "puts a\n",
    "\n",
    "# 存在しない値を指定するとnilが返る\n",
    "a.delete(5)  #=> nil\n",
    "puts a"
   ]
  },
  {
   "cell_type": "markdown",
   "metadata": {},
   "source": [
    "### 4.7.3 配列の連結"
   ]
  },
  {
   "cell_type": "code",
   "execution_count": 26,
   "metadata": {},
   "outputs": [
    {
     "name": "stdout",
     "output_type": "stream",
     "text": [
      "[1, 2, 3]\n",
      "[2, 3]\n"
     ]
    }
   ],
   "source": [
    "a = [1]\n",
    "b = [2, 3]\n",
    "\n",
    "a.concat(b)\n",
    "# aは変更される(破壊的)\n",
    "puts a\n",
    "\n",
    "# bを変更されない\n",
    "puts b"
   ]
  },
  {
   "cell_type": "code",
   "execution_count": 28,
   "metadata": {},
   "outputs": [
    {
     "name": "stdout",
     "output_type": "stream",
     "text": [
      "[1, 2, 3]\n",
      "[1]\n",
      "[2, 3]\n"
     ]
    }
   ],
   "source": [
    "a = [1]\n",
    "b = [2, 3]\n",
    "puts a + b\n",
    "puts a\n",
    "puts b"
   ]
  },
  {
   "cell_type": "markdown",
   "metadata": {},
   "source": [
    "破壊的な変更は大きなプログラムやフレームワークの中では思いがけないところに悪影響を与えてしまう場合があるので、基本的には+演算子がおすすめ"
   ]
  },
  {
   "cell_type": "markdown",
   "metadata": {},
   "source": [
    "### 4.7.4 配列の和集合、差集合、積集合\n",
    "Rubyの配列は`|, -, &`を使って、和集合、差集合、積集合を求めることができる。"
   ]
  },
  {
   "cell_type": "code",
   "execution_count": 29,
   "metadata": {},
   "outputs": [
    {
     "name": "stdout",
     "output_type": "stream",
     "text": [
      "[1, 2, 3, 4, 5]\n"
     ]
    }
   ],
   "source": [
    "a = [1, 2, 3]\n",
    "b = [3, 4, 5]\n",
    "puts a | b"
   ]
  },
  {
   "cell_type": "code",
   "execution_count": 31,
   "metadata": {},
   "outputs": [
    {
     "name": "stdout",
     "output_type": "stream",
     "text": [
      "[1, 2]\n"
     ]
    }
   ],
   "source": [
    "a = [1, 2, 3]\n",
    "b = [3, 4, 5]\n",
    "\n",
    "# 左の配列から右の配列に含まれる要素を取り除く\n",
    "puts a - b"
   ]
  },
  {
   "cell_type": "code",
   "execution_count": 32,
   "metadata": {},
   "outputs": [
    {
     "name": "stdout",
     "output_type": "stream",
     "text": [
      "[3]\n"
     ]
    }
   ],
   "source": [
    "a = [1, 2, 3]\n",
    "b = [3, 4, 5]\n",
    "\n",
    "puts a & b"
   ]
  },
  {
   "cell_type": "code",
   "execution_count": 33,
   "metadata": {},
   "outputs": [
    {
     "name": "stdout",
     "output_type": "stream",
     "text": [
      "#<Set: {1, 2, 3, 4, 5}>\n",
      "#<Set: {1, 2}>\n",
      "#<Set: {3}>\n"
     ]
    }
   ],
   "source": [
    "require 'set'\n",
    "\n",
    "a = Set.new([1, 2, 3])\n",
    "b = Set.new([3, 4, 5])\n",
    "puts a | b\n",
    "puts a - b\n",
    "puts a & b"
   ]
  },
  {
   "cell_type": "markdown",
   "metadata": {},
   "source": [
    "### 4.7.5 多重代入で残りの全要素を配列として受け取る"
   ]
  },
  {
   "cell_type": "code",
   "execution_count": 34,
   "metadata": {},
   "outputs": [
    {
     "name": "stdout",
     "output_type": "stream",
     "text": [
      "100\n",
      "200\n"
     ]
    }
   ],
   "source": [
    "e, f = 100, 200, 300\n",
    "puts e\n",
    "puts f"
   ]
  },
  {
   "cell_type": "code",
   "execution_count": 35,
   "metadata": {},
   "outputs": [
    {
     "name": "stdout",
     "output_type": "stream",
     "text": [
      "100\n",
      "[200, 300]\n"
     ]
    }
   ],
   "source": [
    "e, *f = 100, 200, 300\n",
    "puts e\n",
    "puts f"
   ]
  },
  {
   "cell_type": "markdown",
   "metadata": {},
   "source": [
    "### 4.7.6 １つの配列を複数の引数として展開する"
   ]
  },
  {
   "cell_type": "code",
   "execution_count": 39,
   "metadata": {},
   "outputs": [
    {
     "name": "stdout",
     "output_type": "stream",
     "text": [
      "[1, 2, 3]\n"
     ]
    }
   ],
   "source": [
    "a = []\n",
    "a.push(1)\n",
    "# 2と3を一度に追加する\n",
    "a.push(2, 3)\n",
    "puts a"
   ]
  },
  {
   "cell_type": "code",
   "execution_count": 40,
   "metadata": {},
   "outputs": [
    {
     "name": "stdout",
     "output_type": "stream",
     "text": [
      "[2, [2, 3]]\n"
     ]
    }
   ],
   "source": [
    "a = []\n",
    "b = [2, 3]\n",
    "a.push(2)\n",
    "a.push(b)\n",
    "puts a"
   ]
  },
  {
   "cell_type": "code",
   "execution_count": 41,
   "metadata": {},
   "outputs": [
    {
     "name": "stdout",
     "output_type": "stream",
     "text": [
      "[1, 2, 3]\n"
     ]
    }
   ],
   "source": [
    "a = []\n",
    "b = [2, 3]\n",
    "a.push(1)\n",
    "a.push(*b)\n",
    "\n",
    "puts a"
   ]
  },
  {
   "cell_type": "markdown",
   "metadata": {},
   "source": [
    "### 4.7.7 メソッドの可変長引数\n",
    "配列のpushメソッドのように、個数に制限のない引数のことを可変長引数という。自分で定義するメソッドで可変長引数を使いたい場合は、引数名の手前に\\*をつける\n",
    "\n",
    "```ruby\n",
    "def メソッド名(引数1, 引数2, *可変長引数)\n",
    "  # メソッドの処理\n",
    "end\n",
    "```"
   ]
  },
  {
   "cell_type": "code",
   "execution_count": 43,
   "metadata": {},
   "outputs": [
    {
     "name": "stdout",
     "output_type": "stream",
     "text": [
      "田中さん、こんにちは！\n",
      "田中さんと鈴木さん、こんにちは！\n",
      "田中さんと鈴木さんと佐藤さん、こんにちは！\n"
     ]
    }
   ],
   "source": [
    "def greeting(*names)\n",
    "  \"#{names.join('と')}、こんにちは！\"\n",
    "end\n",
    "\n",
    "puts greeting('田中さん')\n",
    "puts greeting('田中さん', '鈴木さん')\n",
    "puts greeting('田中さん', '鈴木さん', '佐藤さん')"
   ]
  },
  {
   "cell_type": "markdown",
   "metadata": {},
   "source": [
    "### 4.7.8 \\*で配列同士を非破壊的に連結する"
   ]
  },
  {
   "cell_type": "code",
   "execution_count": 44,
   "metadata": {},
   "outputs": [
    {
     "name": "stdout",
     "output_type": "stream",
     "text": [
      "[[1, 2, 3]]\n",
      "[1, 2, 3]\n"
     ]
    }
   ],
   "source": [
    "a = [1, 2, 3]\n",
    "# []の中にそのまま配列を置くと、配列の配列になる\n",
    "puts [a]\n",
    "\n",
    "# *付きで配列を置くと、展開されて別々の要素になる\n",
    "puts [*a]"
   ]
  },
  {
   "cell_type": "code",
   "execution_count": 45,
   "metadata": {},
   "outputs": [
    {
     "name": "stdout",
     "output_type": "stream",
     "text": [
      "[-1, 0, 1, 2, 3, 4, 5]\n"
     ]
    }
   ],
   "source": [
    "a = [1, 2, 3]\n",
    "puts [-1, 0, *a, 4, 5]"
   ]
  },
  {
   "cell_type": "code",
   "execution_count": 46,
   "metadata": {},
   "outputs": [
    {
     "name": "stdout",
     "output_type": "stream",
     "text": [
      "[-1, 0, 1, 2, 3, 4, 5]\n"
     ]
    }
   ],
   "source": [
    "a = [1, 2, 3]\n",
    "puts [-1, 0] + a + [4, 5]"
   ]
  },
  {
   "cell_type": "markdown",
   "metadata": {},
   "source": [
    "### 4.7.9 ==で等しい配列かどうか判断する"
   ]
  },
  {
   "cell_type": "code",
   "execution_count": 49,
   "metadata": {},
   "outputs": [
    {
     "name": "stdout",
     "output_type": "stream",
     "text": [
      "true\n",
      "false\n",
      "false\n",
      "false\n",
      "false\n"
     ]
    }
   ],
   "source": [
    "# 配列が等しい場合\n",
    "puts [1, 2, 3] == [1, 2, 3]\n",
    "\n",
    "# 配列が等しくない場合\n",
    "puts [1, 2, 3] == [3, 2, 1]\n",
    "puts [1, 2 ,3] == [1, 2, 4]\n",
    "puts [1, 2, 3] == [1, 2]\n",
    "puts [1, 2, 3] == [1, 2, 3, 4]"
   ]
  },
  {
   "cell_type": "markdown",
   "metadata": {},
   "source": [
    "### 4.7.10 %記法で文字列の配列を簡潔に作る"
   ]
  },
  {
   "cell_type": "code",
   "execution_count": 52,
   "metadata": {},
   "outputs": [
    {
     "name": "stdout",
     "output_type": "stream",
     "text": [
      "[\"apple\", \"melon\", \"orange\"]\n",
      "[\"apple\", \"melon\", \"orange\"]\n",
      "[\"apple\", \"melon\", \"orange\"]\n",
      "[\"apple\", \"melon\", \"orange\"]\n"
     ]
    }
   ],
   "source": [
    "# []で文字列の配列を作成する\n",
    "puts ['apple', 'melon', 'orange']\n",
    "\n",
    "# %wで文字列の配列を作成する\n",
    "puts %w!apple melon orange!\n",
    "\n",
    "# %wで文字列の配列を作成する\n",
    "puts %w(apple melon orange)\n",
    "\n",
    "# 空白文字列(スペースや改行)が連続した場合も１つの区切り文字とみなされる\n",
    "puts %w(\n",
    "  apple\n",
    "  melon\n",
    "  orange\n",
    ")"
   ]
  },
  {
   "cell_type": "code",
   "execution_count": 53,
   "metadata": {},
   "outputs": [
    {
     "name": "stdout",
     "output_type": "stream",
     "text": [
      "[\"big apple\", \"small melon\", \"orange\"]\n"
     ]
    }
   ],
   "source": [
    "puts %w(big\\ apple small\\ melon orange)"
   ]
  },
  {
   "cell_type": "code",
   "execution_count": 54,
   "metadata": {},
   "outputs": [
    {
     "name": "stdout",
     "output_type": "stream",
     "text": [
      "[\"This is an\", \" apple\", \"small\\nmelon\", \"orange\"]\n"
     ]
    }
   ],
   "source": [
    "prefix = 'This is'\n",
    "puts %W(#{prefix}\\ an \\ apple small\\nmelon orange)"
   ]
  },
  {
   "cell_type": "markdown",
   "metadata": {},
   "source": [
    "### 4.7.11 文字列を配列に変換する"
   ]
  },
  {
   "cell_type": "code",
   "execution_count": 55,
   "metadata": {},
   "outputs": [
    {
     "name": "stdout",
     "output_type": "stream",
     "text": [
      "[\"R\", \"u\", \"b\", \"y\"]\n"
     ]
    }
   ],
   "source": [
    "puts 'Ruby'.chars"
   ]
  },
  {
   "cell_type": "code",
   "execution_count": 56,
   "metadata": {},
   "outputs": [
    {
     "name": "stdout",
     "output_type": "stream",
     "text": [
      "[\"Ruby\", \"Java\", \"Perl\", \"PHP\"]\n"
     ]
    }
   ],
   "source": [
    "puts 'Ruby,Java,Perl,PHP'.split(',')"
   ]
  },
  {
   "cell_type": "markdown",
   "metadata": {},
   "source": [
    "### 4.7.12 配列に初期値を設定する"
   ]
  },
  {
   "cell_type": "code",
   "execution_count": 57,
   "metadata": {},
   "outputs": [
    {
     "name": "stdout",
     "output_type": "stream",
     "text": [
      "[]\n"
     ]
    }
   ],
   "source": [
    "# 以下のコードはa = []と同じ\n",
    "a = Array.new\n",
    "puts a"
   ]
  },
  {
   "cell_type": "code",
   "execution_count": 58,
   "metadata": {},
   "outputs": [
    {
     "name": "stdout",
     "output_type": "stream",
     "text": [
      "[nil, nil, nil, nil, nil]\n"
     ]
    }
   ],
   "source": [
    "# 要素が５つの配列を作成する\n",
    "a = Array.new(5)\n",
    "puts a"
   ]
  },
  {
   "cell_type": "code",
   "execution_count": 59,
   "metadata": {},
   "outputs": [
    {
     "name": "stdout",
     "output_type": "stream",
     "text": [
      "[0, 0, 0, 0, 0]\n"
     ]
    }
   ],
   "source": [
    "# 要素が5つで0を初期値とする配列を作成する\n",
    "a = Array.new(5, 0)\n",
    "puts a"
   ]
  },
  {
   "cell_type": "code",
   "execution_count": 60,
   "metadata": {},
   "outputs": [
    {
     "name": "stdout",
     "output_type": "stream",
     "text": [
      "[1, 2, 3, 1, 2, 3, 1, 2, 3, 1]\n"
     ]
    }
   ],
   "source": [
    "# 要素数が1０で、1, 2, 3, 1, 2, 3...繰り返す配列をつくる\n",
    "a = Array.new(10) { | n | n % 3 + 1 }\n",
    "puts a"
   ]
  },
  {
   "cell_type": "markdown",
   "metadata": {},
   "source": [
    "### 4.7.13 配列に初期値を設定する場合の注意点"
   ]
  },
  {
   "cell_type": "code",
   "execution_count": 64,
   "metadata": {},
   "outputs": [
    {
     "name": "stdout",
     "output_type": "stream",
     "text": [
      "[\"default\", \"default\", \"default\", \"default\", \"default\"]\n"
     ]
    }
   ],
   "source": [
    "# 要素が５つで'default'を初期値とする配列を作成する\n",
    "a = Array.new(5, 'default')\n",
    "puts a"
   ]
  },
  {
   "cell_type": "code",
   "execution_count": 65,
   "metadata": {},
   "outputs": [
    {
     "name": "stdout",
     "output_type": "stream",
     "text": [
      "default\n"
     ]
    }
   ],
   "source": [
    "# 1番目の要素を取得する\n",
    "str = a[0]\n",
    "puts str"
   ]
  },
  {
   "cell_type": "code",
   "execution_count": 66,
   "metadata": {},
   "outputs": [
    {
     "name": "stdout",
     "output_type": "stream",
     "text": [
      "DEFAULT\n"
     ]
    }
   ],
   "source": [
    "# 1番目の要素を大文字に変換する（破壊的変更)\n",
    "str.upcase!\n",
    "puts str"
   ]
  },
  {
   "cell_type": "code",
   "execution_count": 67,
   "metadata": {},
   "outputs": [
    {
     "name": "stdout",
     "output_type": "stream",
     "text": [
      "[\"DEFAULT\", \"DEFAULT\", \"DEFAULT\", \"DEFAULT\", \"DEFAULT\"]\n"
     ]
    }
   ],
   "source": [
    "puts a"
   ]
  },
  {
   "cell_type": "code",
   "execution_count": 68,
   "metadata": {},
   "outputs": [
    {
     "name": "stdout",
     "output_type": "stream",
     "text": [
      "[\"default\", \"default\", \"default\", \"default\", \"default\"]\n"
     ]
    }
   ],
   "source": [
    "a = Array.new(5) {'default'}\n",
    "puts a"
   ]
  },
  {
   "cell_type": "code",
   "execution_count": 69,
   "metadata": {},
   "outputs": [
    {
     "name": "stdout",
     "output_type": "stream",
     "text": [
      "default\n"
     ]
    }
   ],
   "source": [
    "# 1番目の要素を取得する\n",
    "str = a[0]\n",
    "puts str"
   ]
  },
  {
   "cell_type": "code",
   "execution_count": 70,
   "metadata": {},
   "outputs": [
    {
     "name": "stdout",
     "output_type": "stream",
     "text": [
      "DEFAULT\n"
     ]
    }
   ],
   "source": [
    "# 1番目の要素を大文字に変換する（破壊的変更)\n",
    "str.upcase!\n",
    "puts str"
   ]
  },
  {
   "cell_type": "code",
   "execution_count": 71,
   "metadata": {},
   "outputs": [
    {
     "name": "stdout",
     "output_type": "stream",
     "text": [
      "[\"DEFAULT\", \"default\", \"default\", \"default\", \"default\"]\n"
     ]
    }
   ],
   "source": [
    "puts a"
   ]
  },
  {
   "cell_type": "markdown",
   "metadata": {},
   "source": [
    "<h1><a id='anchor6'>4.8 ブロックについてもっと詳しく</a></h1>"
   ]
  },
  {
   "cell_type": "markdown",
   "metadata": {},
   "source": [
    "### 4.8.1 添字付きの繰り返し処理"
   ]
  },
  {
   "cell_type": "code",
   "execution_count": 72,
   "metadata": {},
   "outputs": [
    {
     "name": "stdout",
     "output_type": "stream",
     "text": [
      "0: apple\n",
      "1: orange\n",
      "2: melon\n"
     ]
    },
    {
     "data": {
      "text/plain": [
       "[\"apple\", \"orange\", \"melon\"]"
      ]
     },
     "execution_count": 72,
     "metadata": {},
     "output_type": "execute_result"
    }
   ],
   "source": [
    "fruits = ['apple', 'orange', 'melon']\n",
    "# ブロック引数のiには0, 1, 2...と要素の添字が入る\n",
    "fruits.each_with_index { |fruit, i| puts \"#{i}: #{fruit}\" }"
   ]
  },
  {
   "cell_type": "markdown",
   "metadata": {},
   "source": [
    "### 4.8.2 with_indexメソッドを使った添字付きの繰り返し処理"
   ]
  },
  {
   "cell_type": "code",
   "execution_count": 75,
   "metadata": {},
   "outputs": [
    {
     "data": {
      "text/plain": [
       "[\"0: apple\", \"1: orange\", \"2: melon\"]"
      ]
     },
     "execution_count": 75,
     "metadata": {},
     "output_type": "execute_result"
    }
   ],
   "source": [
    "fruits = ['apple', 'orange', 'melon']\n",
    "# mapとして処理しつつ、添字も受けとる\n",
    "fruits.map.with_index { |fruit, i| \"#{i}: #{fruit}\"}"
   ]
  },
  {
   "cell_type": "code",
   "execution_count": 76,
   "metadata": {},
   "outputs": [
    {
     "data": {
      "text/plain": [
       "[\"apple\", \"melon\"]"
      ]
     },
     "execution_count": 76,
     "metadata": {},
     "output_type": "execute_result"
    }
   ],
   "source": [
    "fruits = ['apple', 'orange', 'melon']\n",
    "# 名前に\"a\"を含み、なおかつ添字が奇数である要素を削除する\n",
    "fruits.delete_if.with_index { |fruit, i| fruit.include?('a')  && i.odd? }"
   ]
  },
  {
   "cell_type": "markdown",
   "metadata": {},
   "source": [
    "### 4.8.3 添字を0以外の数値から開始させる"
   ]
  },
  {
   "cell_type": "code",
   "execution_count": 77,
   "metadata": {},
   "outputs": [
    {
     "name": "stdout",
     "output_type": "stream",
     "text": [
      "1: apple\n",
      "2: orange\n",
      "3: melon\n"
     ]
    },
    {
     "data": {
      "text/plain": [
       "[\"apple\", \"orange\", \"melon\"]"
      ]
     },
     "execution_count": 77,
     "metadata": {},
     "output_type": "execute_result"
    }
   ],
   "source": [
    "fruits = ['apple', 'orange', 'melon']\n",
    "\n",
    "# eachで繰り返しつつ、１から始まる添字を取得する\n",
    "fruits.each.with_index(1) { |fruit, i| puts \"#{i}: #{fruit}\" }"
   ]
  },
  {
   "cell_type": "code",
   "execution_count": 78,
   "metadata": {},
   "outputs": [
    {
     "data": {
      "text/plain": [
       "[\"10: apple\", \"11: orange\", \"12: melon\"]"
      ]
     },
     "execution_count": 78,
     "metadata": {},
     "output_type": "execute_result"
    }
   ],
   "source": [
    "# mapで処理しつつ、10から始まる添字を取得\n",
    "fruits.map.with_index(10) {  | fruit, i |  \"#{i}: #{fruit}\"}"
   ]
  },
  {
   "cell_type": "markdown",
   "metadata": {},
   "source": [
    "### 4.8.4 配列がブロック引数に渡される場合"
   ]
  },
  {
   "cell_type": "code",
   "execution_count": 80,
   "metadata": {},
   "outputs": [
    {
     "name": "stdout",
     "output_type": "stream",
     "text": [
      "[[10, 20], [30, 40], [50, 60]]\n"
     ]
    }
   ],
   "source": [
    "dimensions = [\n",
    "  # [縦, 横]\n",
    "  [10, 20],\n",
    "  [30, 40],\n",
    "  [50, 60]\n",
    "]\n",
    "puts dimensions"
   ]
  },
  {
   "cell_type": "code",
   "execution_count": 84,
   "metadata": {},
   "outputs": [
    {
     "name": "stdout",
     "output_type": "stream",
     "text": [
      "[200, 1200, 3000]\n"
     ]
    }
   ],
   "source": [
    "dimensions = [\n",
    "  # [縦, 横]\n",
    "  [10, 20],\n",
    "  [30, 40],\n",
    "  [50, 60]\n",
    "]\n",
    "# 面積の計算結果を格納する配列\n",
    "areas = []\n",
    "# ブロック引数が一つであれば、ブロック引数の値が配列になる\n",
    "dimensions.each do | dimension |\n",
    "  areas << dimension[0] * dimension[1]\n",
    "end\n",
    "puts areas"
   ]
  },
  {
   "cell_type": "code",
   "execution_count": 81,
   "metadata": {},
   "outputs": [
    {
     "name": "stdout",
     "output_type": "stream",
     "text": [
      "[200, 1200, 3000]\n"
     ]
    }
   ],
   "source": [
    "dimensions = [\n",
    "  # [縦, 横]\n",
    "  [10, 20],\n",
    "  [30, 40],\n",
    "  [50, 60]\n",
    "]\n",
    "# 面積の計算結果を格納する配列\n",
    "areas = []\n",
    "# 配列の要素分だけブロック引数を用意すると、各要素の値が別々に格納される\n",
    "dimensions.each do | length, width |\n",
    "  areas << length * width\n",
    "end\n",
    "puts areas"
   ]
  },
  {
   "cell_type": "code",
   "execution_count": 85,
   "metadata": {},
   "outputs": [
    {
     "name": "stdout",
     "output_type": "stream",
     "text": [
      "[10, 20, nil, nil]\n",
      "[30, 40, nil, nil]\n",
      "[50, 60, nil, nil]\n"
     ]
    },
    {
     "data": {
      "text/plain": [
       "[[10, 20], [30, 40], [50, 60]]"
      ]
     },
     "execution_count": 85,
     "metadata": {},
     "output_type": "execute_result"
    }
   ],
   "source": [
    "# lengthとwidthには値が渡されるが、fooとbarにはnilが入る\n",
    "dimensions.each do | length, width, foo, bar |\n",
    "  p [length, width, foo, bar]\n",
    "end"
   ]
  },
  {
   "cell_type": "code",
   "execution_count": 86,
   "metadata": {},
   "outputs": [
    {
     "name": "stdout",
     "output_type": "stream",
     "text": [
      "[10, 20]\n",
      "[30, 40]\n",
      "[50, 60]\n"
     ]
    },
    {
     "data": {
      "text/plain": [
       "[[10, 20, 100], [30, 40, 200], [50, 60, 300]]"
      ]
     },
     "execution_count": 86,
     "metadata": {},
     "output_type": "execute_result"
    }
   ],
   "source": [
    "dimensions = [\n",
    "  # [縦, 横]\n",
    "  [10, 20, 100],\n",
    "  [30, 40, 200],\n",
    "  [50, 60, 300]\n",
    "]\n",
    "# 3つの値をブロック引数に渡そうとするが、２つしかないので３つめの値は捨てられる\n",
    "dimensions.each do | length, width |\n",
    "  p [length, width]\n",
    "end"
   ]
  },
  {
   "cell_type": "code",
   "execution_count": 91,
   "metadata": {},
   "outputs": [
    {
     "name": "stdout",
     "output_type": "stream",
     "text": [
      "length: [10, 20], width: 0, i: \n",
      "length: [30, 40], width: 1, i: \n",
      "length: [50, 60], width: 2, i: \n"
     ]
    },
    {
     "data": {
      "text/plain": [
       "[[10, 20], [30, 40], [50, 60]]"
      ]
     },
     "execution_count": 91,
     "metadata": {},
     "output_type": "execute_result"
    }
   ],
   "source": [
    "dimensions = [\n",
    "  # [縦, 横]\n",
    "  [10, 20],\n",
    "  [30, 40],\n",
    "  [50, 60]  \n",
    "]\n",
    "dimensions.each_with_index do | length, width, i |\n",
    "  # 最初のブロック引数lengthに配列が丸ごと渡されている\n",
    "  puts \"length: #{length}, width: #{width}, i: #{i}\"\n",
    "end"
   ]
  },
  {
   "cell_type": "code",
   "execution_count": 92,
   "metadata": {},
   "outputs": [
    {
     "name": "stdout",
     "output_type": "stream",
     "text": [
      "length: 10, width: 20, i: 0\n",
      "length: 30, width: 40, i: 1\n",
      "length: 50, width: 60, i: 2\n"
     ]
    },
    {
     "data": {
      "text/plain": [
       "[[10, 20], [30, 40], [50, 60]]"
      ]
     },
     "execution_count": 92,
     "metadata": {},
     "output_type": "execute_result"
    }
   ],
   "source": [
    "dimensions = [\n",
    "  # [縦, 横]\n",
    "  [10, 20],\n",
    "  [30, 40],\n",
    "  [50, 60]  \n",
    "]\n",
    "dimensions.each_with_index do | (length, width), i |\n",
    "  # 最初のブロック引数lengthに配列が丸ごと渡されている\n",
    "  puts \"length: #{length}, width: #{width}, i: #{i}\"\n",
    "end"
   ]
  },
  {
   "cell_type": "markdown",
   "metadata": {},
   "source": [
    "### 4.8.5 ブロックローカル変数"
   ]
  },
  {
   "cell_type": "code",
   "execution_count": 95,
   "metadata": {},
   "outputs": [
    {
     "name": "stdout",
     "output_type": "stream",
     "text": [
      "11\n",
      "12\n",
      "13\n",
      "14\n",
      "0\n"
     ]
    }
   ],
   "source": [
    "numbers = [1, 2, 3, 4]\n",
    "sum = 0\n",
    "# ブロックの外にあるsumとは別物の変数sumを用意する\n",
    "numbers.each do |  n; sum |\n",
    "  # 別物のsumを10で初期化し、ブロック引数の値を加算する\n",
    "  sum = 10\n",
    "  sum += n\n",
    "  # 加算した値を出力\n",
    "  p sum\n",
    "end\n",
    "\n",
    "puts sum"
   ]
  },
  {
   "cell_type": "markdown",
   "metadata": {},
   "source": [
    "### 4.8.6 繰り返し処理以外でも使用されるブロック"
   ]
  },
  {
   "cell_type": "code",
   "execution_count": 96,
   "metadata": {},
   "outputs": [],
   "source": [
    "File.open(\"./sample.txt\", \"w\") do | file |\n",
    "  file.puts('1行目のテキストです')\n",
    "  file.puts('２行目のテキストです')\n",
    "  file.puts('３行目のテキストです')\n",
    "end"
   ]
  },
  {
   "cell_type": "markdown",
   "metadata": {},
   "source": [
    "### 4.8.7 do...endと{ }の結合度の違い"
   ]
  },
  {
   "cell_type": "code",
   "execution_count": 100,
   "metadata": {},
   "outputs": [
    {
     "name": "stdout",
     "output_type": "stream",
     "text": [
      "nil\n",
      "NG\n"
     ]
    }
   ],
   "source": [
    "a = [1, 2, 3]\n",
    "\n",
    "# ブロックを渡さないときは指定した値が見つからないとnilが返る\n",
    "p a.delete(100)\n",
    "\n",
    "# ブロックを渡すとブロックの戻り値が指定された値が見つからない時の戻り値になる\n",
    "ng = a.delete(100) do\n",
    "  'NG'\n",
    "end\n",
    "puts ng"
   ]
  },
  {
   "cell_type": "code",
   "execution_count": 102,
   "metadata": {},
   "outputs": [
    {
     "name": "stdout",
     "output_type": "stream",
     "text": [
      "NG\n"
     ]
    }
   ],
   "source": [
    "puts a.delete(100) {'NG'}"
   ]
  },
  {
   "cell_type": "markdown",
   "metadata": {},
   "source": [
    "### 4.8.8 ブロックを使うメソッドを定義する"
   ]
  },
  {
   "cell_type": "code",
   "execution_count": 104,
   "metadata": {},
   "outputs": [
    {
     "name": "stdout",
     "output_type": "stream",
     "text": [
      "田中さんと鈴木さんと佐藤さん\n"
     ]
    }
   ],
   "source": [
    "names = ['田中', '鈴木', '佐藤']\n",
    "san_names = names.map { | name | \"#{name}さん\"}\n",
    "puts san_names.join('と')"
   ]
  },
  {
   "cell_type": "code",
   "execution_count": 105,
   "metadata": {},
   "outputs": [
    {
     "name": "stdout",
     "output_type": "stream",
     "text": [
      "田中さんと鈴木さんと佐藤さん\n"
     ]
    }
   ],
   "source": [
    "names = ['田中', '鈴木', '佐藤']\n",
    "puts names.map { | name | \"#{name}さん\" }.join('と')"
   ]
  },
  {
   "cell_type": "code",
   "execution_count": 106,
   "metadata": {},
   "outputs": [
    {
     "data": {
      "text/plain": [
       "\"田中さんと鈴木さんと佐藤さん\""
      ]
     },
     "execution_count": 106,
     "metadata": {},
     "output_type": "execute_result"
    }
   ],
   "source": [
    "names = ['田中', '鈴木', '佐藤']\n",
    "names.map do | name |\n",
    "  \"#{name}さん\"\n",
    "end.join('と')"
   ]
  },
  {
   "cell_type": "markdown",
   "metadata": {},
   "source": [
    "<h1><a id='anchor7'>4.9 さまざまな繰り返し処理</a></h1>"
   ]
  },
  {
   "cell_type": "markdown",
   "metadata": {},
   "source": [
    "### 4.9.1 timesメソッド"
   ]
  },
  {
   "cell_type": "code",
   "execution_count": 108,
   "metadata": {},
   "outputs": [
    {
     "name": "stdout",
     "output_type": "stream",
     "text": [
      "10\n"
     ]
    }
   ],
   "source": [
    "sum = 0\n",
    "# 処理を5回繰り返す。\n",
    "5.times { | n | sum += n}\n",
    "puts sum"
   ]
  },
  {
   "cell_type": "code",
   "execution_count": 109,
   "metadata": {},
   "outputs": [
    {
     "name": "stdout",
     "output_type": "stream",
     "text": [
      "5\n"
     ]
    }
   ],
   "source": [
    "sum = 0\n",
    "# sumに加算する処理を５回繰り返す\n",
    "5.times { sum += 1}\n",
    "puts sum"
   ]
  },
  {
   "cell_type": "markdown",
   "metadata": {},
   "source": [
    "### 4.9.2 uptoメソッドとdowntoメソッド"
   ]
  },
  {
   "cell_type": "code",
   "execution_count": 111,
   "metadata": {},
   "outputs": [
    {
     "name": "stdout",
     "output_type": "stream",
     "text": [
      "[10, 11, 12, 13, 14]\n"
     ]
    }
   ],
   "source": [
    "a = []\n",
    "10.upto(14) { | n | a << n }\n",
    "puts a"
   ]
  },
  {
   "cell_type": "code",
   "execution_count": 113,
   "metadata": {},
   "outputs": [
    {
     "name": "stdout",
     "output_type": "stream",
     "text": [
      "[14, 13, 12, 11, 10]\n"
     ]
    }
   ],
   "source": [
    "a = []\n",
    "14.downto(10) { | n |  a << n } \n",
    "puts a"
   ]
  },
  {
   "cell_type": "markdown",
   "metadata": {},
   "source": [
    "### 4.9.3 stepメソッド\n",
    "```ruby\n",
    "開始値.step(上限値, 1度に増減する大きさ)\n",
    "```"
   ]
  },
  {
   "cell_type": "code",
   "execution_count": 114,
   "metadata": {},
   "outputs": [
    {
     "name": "stdout",
     "output_type": "stream",
     "text": [
      "[1, 3, 5, 7, 9]\n"
     ]
    }
   ],
   "source": [
    "a = []\n",
    "1.step(10, 2) { | n | a << n }\n",
    "puts a"
   ]
  },
  {
   "cell_type": "code",
   "execution_count": 116,
   "metadata": {},
   "outputs": [
    {
     "name": "stdout",
     "output_type": "stream",
     "text": [
      "[10, 8, 6, 4, 2]\n"
     ]
    }
   ],
   "source": [
    "a = []\n",
    "10.step(1, -2) { | n | a << n }\n",
    "puts a"
   ]
  },
  {
   "cell_type": "markdown",
   "metadata": {},
   "source": [
    "### while文とuntil文\n",
    "```ruby\n",
    "while 条件式(真であれば実行)\n",
    "    繰り返したい処理\n",
    "end\n",
    "```"
   ]
  },
  {
   "cell_type": "code",
   "execution_count": 117,
   "metadata": {},
   "outputs": [
    {
     "name": "stdout",
     "output_type": "stream",
     "text": [
      "[1, 1, 1, 1, 1]\n"
     ]
    }
   ],
   "source": [
    "a = []\n",
    "while a.size < 5\n",
    "  a << 1\n",
    "end\n",
    "puts a"
   ]
  },
  {
   "cell_type": "code",
   "execution_count": 118,
   "metadata": {},
   "outputs": [
    {
     "name": "stdout",
     "output_type": "stream",
     "text": [
      "[1, 1, 1, 1, 1]\n"
     ]
    }
   ],
   "source": [
    "a = []\n",
    "while a.size < 5 do a << 1end\n",
    "puts a"
   ]
  },
  {
   "cell_type": "code",
   "execution_count": 119,
   "metadata": {},
   "outputs": [
    {
     "name": "stdout",
     "output_type": "stream",
     "text": [
      "[1, 1, 1, 1, 1]\n"
     ]
    }
   ],
   "source": [
    "a = []\n",
    "a << 1 while a.size < 5\n",
    "puts a"
   ]
  },
  {
   "cell_type": "code",
   "execution_count": 120,
   "metadata": {},
   "outputs": [
    {
     "name": "stdout",
     "output_type": "stream",
     "text": [
      "[]\n",
      "[1]\n"
     ]
    }
   ],
   "source": [
    "a = []\n",
    "while false\n",
    "  a << 1\n",
    "end\n",
    "puts a\n",
    "\n",
    "# begin...endで囲むとどんな条件でも最低１回は実行される\n",
    "begin\n",
    "  a << 1\n",
    "end while false\n",
    "puts a"
   ]
  },
  {
   "cell_type": "markdown",
   "metadata": {},
   "source": [
    "```ruby\n",
    "until 条件式(偽であれば実行)\n",
    "    繰り返したい処理\n",
    "end\n",
    "```"
   ]
  },
  {
   "cell_type": "code",
   "execution_count": 122,
   "metadata": {},
   "outputs": [
    {
     "name": "stdout",
     "output_type": "stream",
     "text": [
      "[10, 20, 30]\n"
     ]
    }
   ],
   "source": [
    "a = [10, 20, 30, 40, 50]\n",
    "until a.size <=3\n",
    "  a.delete_at(-1)\n",
    "end\n",
    "\n",
    "puts a"
   ]
  },
  {
   "cell_type": "markdown",
   "metadata": {},
   "source": [
    "### 4.9.5 for文\n",
    "配列やハッシュはfor文で繰り返し処理することもできる。\n",
    "```ruby\n",
    "for 変数 in 配列やハッシュ\n",
    "  繰り返し処理\n",
    "end\n",
    "```"
   ]
  },
  {
   "cell_type": "code",
   "execution_count": 125,
   "metadata": {},
   "outputs": [
    {
     "name": "stdout",
     "output_type": "stream",
     "text": [
      "10\n",
      "10\n"
     ]
    }
   ],
   "source": [
    "numbers = [1, 2, 3, 4]\n",
    "sum = 0\n",
    "for n in numbers\n",
    "  sum += n\n",
    "end\n",
    "\n",
    "puts sum\n",
    "\n",
    "# doを入れて１行で書くことも可能\n",
    "sum = 0\n",
    "for n in numbers do sum += n end\n",
    "puts sum"
   ]
  },
  {
   "cell_type": "code",
   "execution_count": 126,
   "metadata": {},
   "outputs": [
    {
     "name": "stdout",
     "output_type": "stream",
     "text": [
      "10\n"
     ]
    }
   ],
   "source": [
    "numbers = [1, 2, 3, 4]\n",
    "sum = 0\n",
    "numbers.each do | n |\n",
    "  sum += n\n",
    "end\n",
    "\n",
    "puts sum"
   ]
  },
  {
   "cell_type": "code",
   "execution_count": null,
   "metadata": {},
   "outputs": [],
   "source": [
    "numbers = [1, 2, 3, 4]\n",
    "sum = 0\n",
    "numbers.each to | n |\n",
    "  sum_value = n.even? ? n * 10 : n\n",
    "  sum += sum_value\n",
    "end"
   ]
  },
  {
   "cell_type": "markdown",
   "metadata": {},
   "source": [
    "### 4.9.6 loopメソッド"
   ]
  },
  {
   "cell_type": "code",
   "execution_count": 130,
   "metadata": {},
   "outputs": [
    {
     "name": "stdout",
     "output_type": "stream",
     "text": [
      "2\n",
      "4\n",
      "4\n",
      "1\n",
      "5\n"
     ]
    }
   ],
   "source": [
    "numbers = [1, 2, 3, 4, 5]\n",
    "loop do\n",
    "  # sampleメソッドでランダムに要素を１つ追加する\n",
    "  n = numbers.sample\n",
    "  puts n\n",
    "  break if n == 5\n",
    "end"
   ]
  },
  {
   "cell_type": "markdown",
   "metadata": {},
   "source": [
    "<h1><a id='anchor8'>4.10 繰り返し処理用の制御構造</a></h1>"
   ]
  },
  {
   "cell_type": "markdown",
   "metadata": {},
   "source": [
    "### 4.10.1 break"
   ]
  },
  {
   "cell_type": "code",
   "execution_count": 134,
   "metadata": {},
   "outputs": [
    {
     "name": "stdout",
     "output_type": "stream",
     "text": [
      "2\n",
      "4\n",
      "3\n",
      "5\n"
     ]
    }
   ],
   "source": [
    "# shuffleメソッドで配列の要素をランダムに並び替える\n",
    "numbers = [1, 2, 3, 4, 5].shuffle\n",
    "numbers.each do | n |\n",
    "  puts n\n",
    "  # 5が出たら繰り返しを脱出する\n",
    "  break if n == 5\n",
    "end"
   ]
  },
  {
   "cell_type": "code",
   "execution_count": 135,
   "metadata": {},
   "outputs": [
    {
     "name": "stdout",
     "output_type": "stream",
     "text": [
      "4\n",
      "1\n",
      "2\n",
      "3\n",
      "5\n"
     ]
    }
   ],
   "source": [
    "numbers = [1, 2, 3, 4, 5].shuffle\n",
    "i = 0\n",
    "while 1 < numbers.size\n",
    "  n = numbers[i]\n",
    "  puts n\n",
    "  break if n == 5\n",
    "  i += 1\n",
    "end"
   ]
  },
  {
   "cell_type": "code",
   "execution_count": 136,
   "metadata": {},
   "outputs": [
    {
     "name": "stdout",
     "output_type": "stream",
     "text": [
      "nil\n"
     ]
    }
   ],
   "source": [
    "ret = \n",
    "  while true\n",
    "    break\n",
    "  end\n",
    "p ret"
   ]
  },
  {
   "cell_type": "code",
   "execution_count": 138,
   "metadata": {},
   "outputs": [
    {
     "name": "stdout",
     "output_type": "stream",
     "text": [
      "123\n"
     ]
    }
   ],
   "source": [
    "ret = \n",
    "  while true\n",
    "    break 123\n",
    "  end\n",
    " puts ret"
   ]
  },
  {
   "cell_type": "code",
   "execution_count": 139,
   "metadata": {},
   "outputs": [
    {
     "name": "stdout",
     "output_type": "stream",
     "text": [
      "apple, 2\n",
      "apple, 3\n",
      "melon, 3\n",
      "orange, 3\n"
     ]
    },
    {
     "data": {
      "text/plain": [
       "[\"apple\", \"melon\", \"orange\"]"
      ]
     },
     "execution_count": 139,
     "metadata": {},
     "output_type": "execute_result"
    }
   ],
   "source": [
    "fruits = ['apple', 'melon', 'orange']\n",
    "numbers = [1, 2, 3]\n",
    "fruits.each do | fruit |\n",
    "  # 配列の数字をランダムに入れ替え、３が出たらbreakする\n",
    "  numbers.shuffle.each do | n |\n",
    "    puts \"#{fruit}, #{n}\"\n",
    "    # numbersのループは脱出するが、fruitsのループは継続する\n",
    "    break if n == 3\n",
    "  end\n",
    "end"
   ]
  },
  {
   "cell_type": "markdown",
   "metadata": {},
   "source": [
    "### 4.10.2 throwとcatchを使った大域脱出"
   ]
  },
  {
   "cell_type": "code",
   "execution_count": 140,
   "metadata": {},
   "outputs": [
    {
     "name": "stdout",
     "output_type": "stream",
     "text": [
      "melon, 3\n",
      "melon, 2\n",
      "melon, 1\n",
      "orange, 1\n",
      "orange, 2\n",
      "orange, 3\n"
     ]
    }
   ],
   "source": [
    "fruits = ['apple', 'melon', 'orange']\n",
    "numbers = [1, 2, 3]\n",
    "catch :done do\n",
    "  fruits.shuffle.each do | fruit |\n",
    "    numbers.shuffle.each do | n |\n",
    "      puts \"#{fruit}, #{n}\"\n",
    "      if fruit == 'orange' && n == 3\n",
    "        throw :done\n",
    "      end\n",
    "    end\n",
    "  end\n",
    "end"
   ]
  },
  {
   "cell_type": "markdown",
   "metadata": {},
   "source": [
    "### 4.10.4 next"
   ]
  },
  {
   "cell_type": "code",
   "execution_count": 142,
   "metadata": {},
   "outputs": [
    {
     "name": "stdout",
     "output_type": "stream",
     "text": [
      "1\n",
      "3\n",
      "5\n"
     ]
    },
    {
     "data": {
      "text/plain": [
       "[1, 2, 3, 4, 5]"
      ]
     },
     "execution_count": 142,
     "metadata": {},
     "output_type": "execute_result"
    }
   ],
   "source": [
    "numbers = [1, 2, 3, 4, 5]\n",
    "numbers.each do | n |\n",
    "  next if n.even?\n",
    "  puts n\n",
    "end"
   ]
  },
  {
   "cell_type": "markdown",
   "metadata": {},
   "source": [
    "### 4.10.5 redo"
   ]
  },
  {
   "cell_type": "code",
   "execution_count": 146,
   "metadata": {},
   "outputs": [
    {
     "name": "stdout",
     "output_type": "stream",
     "text": [
      "ピーマンは好きですか？　=> いいえ\n",
      "ピーマンは好きですか？　=> いいえ\n",
      "ピーマンは好きですか？　=> はい\n",
      "トマトは好きですか？　=> いいえ\n",
      "トマトは好きですか？　=> はい\n",
      "セロリは好きですか？　=> いいえ\n",
      "セロリは好きですか？　=> はい\n"
     ]
    },
    {
     "data": {
      "text/plain": [
       "[\"ピーマン\", \"トマト\", \"セロリ\"]"
      ]
     },
     "execution_count": 146,
     "metadata": {},
     "output_type": "execute_result"
    }
   ],
   "source": [
    "foods = ['ピーマン', 'トマト', 'セロリ']\n",
    "foods.each do | food |\n",
    "  print \"#{food}は好きですか？　=> \"\n",
    "  anser = ['はい', 'いいえ', 'いいえ'].sample\n",
    "  puts anser\n",
    "  \n",
    "  # はいと答えなければもう一度聞き直す\n",
    "  redo unless anser == 'はい'\n",
    "end"
   ]
  },
  {
   "cell_type": "code",
   "execution_count": 147,
   "metadata": {},
   "outputs": [
    {
     "name": "stdout",
     "output_type": "stream",
     "text": [
      "ピーマンは好きですか？ => いいえ\n",
      "ピーマンは好きですか？ => いいえ\n",
      "トマトは好きですか？ => いいえ\n",
      "トマトは好きですか？ => いいえ\n",
      "セロリは好きですか？ => いいえ\n",
      "セロリは好きですか？ => いいえ\n"
     ]
    },
    {
     "data": {
      "text/plain": [
       "[\"ピーマン\", \"トマト\", \"セロリ\"]"
      ]
     },
     "execution_count": 147,
     "metadata": {},
     "output_type": "execute_result"
    }
   ],
   "source": [
    "foods = ['ピーマン', 'トマト', 'セロリ']\n",
    "count = 0\n",
    "foods.each do | food |\n",
    "  print \"#{food}は好きですか？ => \"\n",
    "  # わざと「いいえ」しか答えないようにする\n",
    "  answer = 'いいえ'\n",
    "  puts answer\n",
    "  \n",
    "  count += 1\n",
    "  # やり直しは２回までにする\n",
    "  redo if answer != 'はい' && count < 2\n",
    "  \n",
    "  #  countをリセット\n",
    "  count = 0\n",
    "end"
   ]
  },
  {
   "cell_type": "code",
   "execution_count": null,
   "metadata": {},
   "outputs": [],
   "source": []
  }
 ],
 "metadata": {
  "kernelspec": {
   "display_name": "Ruby 2.5.5",
   "language": "ruby",
   "name": "ruby"
  },
  "language_info": {
   "file_extension": ".rb",
   "mimetype": "application/x-ruby",
   "name": "ruby",
   "version": "2.5.5"
  }
 },
 "nbformat": 4,
 "nbformat_minor": 2
}
